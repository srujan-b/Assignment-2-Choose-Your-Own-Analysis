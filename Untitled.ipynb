{
 "cells": [
  {
   "cell_type": "code",
   "execution_count": 1,
   "metadata": {},
   "outputs": [
    {
     "name": "stderr",
     "output_type": "stream",
     "text": [
      "[nltk_data] Downloading package stopwords to\n",
      "[nltk_data]     C:\\Users\\sruja\\AppData\\Roaming\\nltk_data...\n",
      "[nltk_data]   Package stopwords is already up-to-date!\n",
      "[nltk_data] Downloading package wordnet to\n",
      "[nltk_data]     C:\\Users\\sruja\\AppData\\Roaming\\nltk_data...\n",
      "[nltk_data]   Package wordnet is already up-to-date!\n",
      "[nltk_data] Downloading package vader_lexicon to\n",
      "[nltk_data]     C:\\Users\\sruja\\AppData\\Roaming\\nltk_data...\n",
      "[nltk_data]   Package vader_lexicon is already up-to-date!\n",
      "[nltk_data] Downloading package averaged_perceptron_tagger to\n",
      "[nltk_data]     C:\\Users\\sruja\\AppData\\Roaming\\nltk_data...\n",
      "[nltk_data]   Package averaged_perceptron_tagger is already up-to-\n",
      "[nltk_data]       date!\n",
      "[nltk_data] Downloading package movie_reviews to\n",
      "[nltk_data]     C:\\Users\\sruja\\AppData\\Roaming\\nltk_data...\n",
      "[nltk_data]   Package movie_reviews is already up-to-date!\n",
      "[nltk_data] Downloading package punkt to\n",
      "[nltk_data]     C:\\Users\\sruja\\AppData\\Roaming\\nltk_data...\n",
      "[nltk_data]   Package punkt is already up-to-date!\n",
      "[nltk_data] Downloading package conll2000 to\n",
      "[nltk_data]     C:\\Users\\sruja\\AppData\\Roaming\\nltk_data...\n",
      "[nltk_data]   Package conll2000 is already up-to-date!\n",
      "[nltk_data] Downloading package brown to\n",
      "[nltk_data]     C:\\Users\\sruja\\AppData\\Roaming\\nltk_data...\n",
      "[nltk_data]   Package brown is already up-to-date!\n",
      "[nltk_data] Downloading package omw-1.4 to\n",
      "[nltk_data]     C:\\Users\\sruja\\AppData\\Roaming\\nltk_data...\n",
      "[nltk_data]   Package omw-1.4 is already up-to-date!\n"
     ]
    }
   ],
   "source": [
    "import snscrape.modules.twitter as sntwitter\n",
    "import pandas as pd\n",
    "import numpy as np\n",
    "import re\n",
    "import string\n",
    "import ast\n",
    "import nltk\n",
    "import matplotlib.pyplot as plt\n",
    "import seaborn as sns\n",
    "from nltk.corpus import stopwords\n",
    "\n",
    "\n",
    "# downloading stopwords corpus\n",
    "nltk.download('stopwords')\n",
    "nltk.download('wordnet')\n",
    "nltk.download('vader_lexicon')\n",
    "nltk.download('averaged_perceptron_tagger')\n",
    "nltk.download('movie_reviews')\n",
    "nltk.download('punkt')\n",
    "nltk.download('conll2000')\n",
    "nltk.download('brown')\n",
    "nltk.download('omw-1.4')\n",
    "stopwords = set(stopwords.words(\"english\"))\n",
    "\n",
    "\n",
    "from nltk.stem import WordNetLemmatizer\n",
    "from textblob import TextBlob\n",
    "from sklearn.feature_extraction.text import CountVectorizer\n",
    "from sklearn.decomposition import LatentDirichletAllocation\n"
   ]
  },
  {
   "cell_type": "code",
   "execution_count": 3,
   "metadata": {},
   "outputs": [],
   "source": [
    "import snscrape.modules.twitter as sntwitter\n",
    "import pandas as pd\n",
    "import re\n",
    "import nltk\n",
    "import matplotlib.pyplot as plt\n",
    "import seaborn as sns\n",
    "from collections import Counter\n",
    "import string\n",
    "from sklearn.feature_extraction.text import CountVectorizer\n",
    "from sklearn.decomposition import LatentDirichletAllocation\n",
    "import pyLDAvis.sklearn\n",
    "import numpy as np\n",
    "import math\n",
    "from wordcloud import WordCloud\n",
    "import warnings\n",
    "warnings.filterwarnings(\"ignore\", category=DeprecationWarning)"
   ]
  },
  {
   "cell_type": "code",
   "execution_count": null,
   "metadata": {},
   "outputs": [],
   "source": [
    "wordList = ['cannabis','marijuana','bammer','BC bud','blunt','bomb','bone','boo','boo-yah','bubonic chronic','bud','buddha','burger','Cali','candle','cheeba','chiba','chief','chiefs','chino','choke','chronic','cigga-weed','cigweed','clickem','colitas','combustible herbage','crippy','cronick','dank',\"Devil's lettuce\",' the','dirt weed','ditch weed','doja','dolja','doob','doober','doobie','dope','drat','draw','dro','dub','dube','Dutchie','endo','erve','fatty','fatty boom blatty','gange','ganja','ganje','giggle stick','gonj','grass','green','green bud','heim','herb','herbal refreshment','hippie lettuce','hog leg','hooter','hydro','indica','indo','j','jay','jib','joint','keef','kief','kill','kind bud','la la','left-handed cigarette','limbo','loud','Mary Jane','Mexican dirt weed','mighty mez','MJ','mota','Mr. J','nib','nugget','onion','paca lolo','pakaloco','pakalolo','pato','pot','purp','reefer','reggie','reggs','roach','schwag','shake','shwag','sinse','sinsemilla','skater','skunk weed','smoke','spliff','spliffy','sticky icky icky','sweet','tea',\n",
    "'Thai stick','tical','toke','treats','trees','tunechi','tweed','wacky tobaccy','weed','whifty','woolies','zombie/20','4:20','bake','bake-out','blaze','boge','bug out','bun',\n",
    "'celebrate 4-20','chief','chief out','choke','chokker','crossfade','dirp','ent','fire it up','get blazed','get high','get right','go up to bat','green','hotbox','load a fat one',\n",
    "'MacGyver smoker','poke smot','puff','puff',' puff',' give','pull bong','session','shotgun','smoke','smoke dope','smoke out','smoke pot','smoke up','spark','spark it up','spark up',\n",
    "'tea time','toke','toke up','torch up','wake and bake','baked','blazed','blitzed','blown','blown out','blunted','bread','burned','caned','carmelyzed','crossfade','crunched','crunk','dankrupt','faded','flame-broiled','geeked','high','high as a kite','hurt','in like Flint','keyed','krunked','lifted','lit','lit up','low','munchies','on the choongs',\n",
    "\"out of (one's) element\",'pot-head','red','ripped','sketch','skunt','sloppy','smoked','stoned','strunk','stuck','tall','zoned', 'ATMed','bat','batty','bong','bowl','cashed','chillum','chipper','dug out','head shop','one hitter','oney bat','piece','pinch hitter','pinchie','roach clip','sploof','spoof','toke']"
   ]
  },
  {
   "cell_type": "code",
   "execution_count": null,
   "metadata": {},
   "outputs": [],
   "source": [
    "tweets = []\n",
    "df=[]"
   ]
  },
  {
   "cell_type": "code",
   "execution_count": null,
   "metadata": {},
   "outputs": [],
   "source": [
    "count = 0\n",
    "for word in wordList :\n",
    "    dates = ' lang:en until:2022-10-15 since:2022-09-15 -filter:replies  min_faves:2  until:2022-10-17 since:2022-06-15 '\n",
    "    query = str(word) + dates\n",
    "    print(query)\n",
    "    for i,tweet in enumerate(sntwitter.TwitterSearchScraper(query).get_items()):\n",
    "        if len(tweets) > 10000:\n",
    "            break\n",
    "        else:\n",
    "            if tweet.place != None and tweet.place.countryCode == 'US' and tweet.user.followersCount > 1 and tweet.user.friendsCount > 1:\n",
    "                count+=1\n",
    "                print(count,end = ' ')\n",
    "                tweets.append([tweet.date,tweet.user.username,tweet.content,tweet.hashtags,tweet.user.location,tweet.mentionedUsers,tweet.place.fullName,word])\n",
    "df = pd.DataFrame(tweets,columns = ['Date','User','Tweet','Hashtags','Location','Mentioned User','location''Key Word'])"
   ]
  },
  {
   "cell_type": "code",
   "execution_count": null,
   "metadata": {},
   "outputs": [],
   "source": [
    "df = pd.DataFrame(tweets,columns = ['Date','User','Tweet','Hashtags','Location','Mentioned User','location','Key Word'])"
   ]
  },
  {
   "cell_type": "code",
   "execution_count": null,
   "metadata": {},
   "outputs": [],
   "source": [
    "df.shape"
   ]
  },
  {
   "cell_type": "code",
   "execution_count": null,
   "metadata": {},
   "outputs": [],
   "source": [
    "df = pd.DataFrame(tweets,columns = ['Date','User','Tweet','Hashtags','Location','Mentioned User','Key Word'])"
   ]
  },
  {
   "cell_type": "code",
   "execution_count": null,
   "metadata": {},
   "outputs": [],
   "source": [
    "df.head()"
   ]
  },
  {
   "cell_type": "code",
   "execution_count": null,
   "metadata": {},
   "outputs": [],
   "source": [
    "csv_data = df.to_csv('dataactuall1.csv', index = False)"
   ]
  },
  {
   "cell_type": "code",
   "execution_count": 4,
   "metadata": {},
   "outputs": [],
   "source": [
    "tweetDf = pd.read_csv('dataactuall1.csv')"
   ]
  },
  {
   "cell_type": "code",
   "execution_count": 5,
   "metadata": {},
   "outputs": [
    {
     "data": {
      "text/html": [
       "<div>\n",
       "<style scoped>\n",
       "    .dataframe tbody tr th:only-of-type {\n",
       "        vertical-align: middle;\n",
       "    }\n",
       "\n",
       "    .dataframe tbody tr th {\n",
       "        vertical-align: top;\n",
       "    }\n",
       "\n",
       "    .dataframe thead th {\n",
       "        text-align: right;\n",
       "    }\n",
       "</style>\n",
       "<table border=\"1\" class=\"dataframe\">\n",
       "  <thead>\n",
       "    <tr style=\"text-align: right;\">\n",
       "      <th></th>\n",
       "      <th>Date</th>\n",
       "      <th>User</th>\n",
       "      <th>Tweet</th>\n",
       "      <th>Hashtags</th>\n",
       "      <th>Location</th>\n",
       "      <th>Mentioned User</th>\n",
       "      <th>location</th>\n",
       "      <th>Key Word</th>\n",
       "    </tr>\n",
       "  </thead>\n",
       "  <tbody>\n",
       "    <tr>\n",
       "      <th>0</th>\n",
       "      <td>2022-10-14 23:04:07+00:00</td>\n",
       "      <td>RobbinsGroupLLC</td>\n",
       "      <td>🎧 Like to listen &amp;amp; learn? \\n\\nNo small tal...</td>\n",
       "      <td>['CannabisIndustry']</td>\n",
       "      <td>Las Vegas, NV</td>\n",
       "      <td>NaN</td>\n",
       "      <td>Las Vegas, NV</td>\n",
       "      <td>cannabis</td>\n",
       "    </tr>\n",
       "    <tr>\n",
       "      <th>1</th>\n",
       "      <td>2022-10-14 22:40:56+00:00</td>\n",
       "      <td>levenson_scott</td>\n",
       "      <td>As government ended alcohol prohibition,penalt...</td>\n",
       "      <td>['cannabis']</td>\n",
       "      <td>New York, NY</td>\n",
       "      <td>NaN</td>\n",
       "      <td>New York, USA</td>\n",
       "      <td>cannabis</td>\n",
       "    </tr>\n",
       "    <tr>\n",
       "      <th>2</th>\n",
       "      <td>2022-10-14 22:33:20+00:00</td>\n",
       "      <td>BikeLanesLA</td>\n",
       "      <td>California exceptionalism is living near more ...</td>\n",
       "      <td>NaN</td>\n",
       "      <td>Los Angeles, CA</td>\n",
       "      <td>NaN</td>\n",
       "      <td>West Hollywood, CA</td>\n",
       "      <td>cannabis</td>\n",
       "    </tr>\n",
       "    <tr>\n",
       "      <th>3</th>\n",
       "      <td>2022-10-14 19:39:49+00:00</td>\n",
       "      <td>cannabenoid</td>\n",
       "      <td>The best cannabis investment you can make is a...</td>\n",
       "      <td>['NotFinancialAdvice', 'DoYourOwnResearch', 'S...</td>\n",
       "      <td>Longmont, CO</td>\n",
       "      <td>NaN</td>\n",
       "      <td>Longmont, CO</td>\n",
       "      <td>cannabis</td>\n",
       "    </tr>\n",
       "    <tr>\n",
       "      <th>4</th>\n",
       "      <td>2022-10-14 16:52:59+00:00</td>\n",
       "      <td>VoteHunt2022</td>\n",
       "      <td>Decriminalize cannabis, reform the criminal ju...</td>\n",
       "      <td>NaN</td>\n",
       "      <td>Fort Worth, TX</td>\n",
       "      <td>NaN</td>\n",
       "      <td>Tanglewood, Fort Worth</td>\n",
       "      <td>cannabis</td>\n",
       "    </tr>\n",
       "  </tbody>\n",
       "</table>\n",
       "</div>"
      ],
      "text/plain": [
       "                        Date             User  \\\n",
       "0  2022-10-14 23:04:07+00:00  RobbinsGroupLLC   \n",
       "1  2022-10-14 22:40:56+00:00   levenson_scott   \n",
       "2  2022-10-14 22:33:20+00:00      BikeLanesLA   \n",
       "3  2022-10-14 19:39:49+00:00      cannabenoid   \n",
       "4  2022-10-14 16:52:59+00:00     VoteHunt2022   \n",
       "\n",
       "                                               Tweet  \\\n",
       "0  🎧 Like to listen &amp; learn? \\n\\nNo small tal...   \n",
       "1  As government ended alcohol prohibition,penalt...   \n",
       "2  California exceptionalism is living near more ...   \n",
       "3  The best cannabis investment you can make is a...   \n",
       "4  Decriminalize cannabis, reform the criminal ju...   \n",
       "\n",
       "                                            Hashtags         Location  \\\n",
       "0                               ['CannabisIndustry']    Las Vegas, NV   \n",
       "1                                       ['cannabis']     New York, NY   \n",
       "2                                                NaN  Los Angeles, CA   \n",
       "3  ['NotFinancialAdvice', 'DoYourOwnResearch', 'S...     Longmont, CO   \n",
       "4                                                NaN   Fort Worth, TX   \n",
       "\n",
       "  Mentioned User                location  Key Word  \n",
       "0            NaN           Las Vegas, NV  cannabis  \n",
       "1            NaN           New York, USA  cannabis  \n",
       "2            NaN      West Hollywood, CA  cannabis  \n",
       "3            NaN            Longmont, CO  cannabis  \n",
       "4            NaN  Tanglewood, Fort Worth  cannabis  "
      ]
     },
     "execution_count": 5,
     "metadata": {},
     "output_type": "execute_result"
    }
   ],
   "source": [
    "tweetDf.head()"
   ]
  },
  {
   "cell_type": "code",
   "execution_count": 6,
   "metadata": {},
   "outputs": [],
   "source": [
    "\n",
    "# Delete duplicate rows based on specific columns \n",
    "tweetDf = tweetDf.drop_duplicates(subset=[\"Tweet\"], keep=False)\n"
   ]
  },
  {
   "cell_type": "code",
   "execution_count": 7,
   "metadata": {},
   "outputs": [],
   "source": [
    "tweetDf.drop(tweetDf.index[tweetDf['Key Word'] == 'burger'], inplace=True)\n",
    "tweetDf.drop(tweetDf.index[tweetDf['Key Word'] == 'cali'], inplace=True)\n",
    "tweetDf.drop(tweetDf.index[tweetDf['Key Word'] == 'chief'], inplace=True)\n",
    "tweetDf.drop(tweetDf.index[tweetDf['Key Word'] == 'bomb'], inplace=True)\n",
    "tweetDf.drop(tweetDf.index[tweetDf['Key Word'] == 'bone'], inplace=True)\n",
    "tweetDf.drop(tweetDf.index[tweetDf['Key Word'] == 'boo'], inplace=True)\n",
    "tweetDf.drop(tweetDf.index[tweetDf['Key Word'] == 'boo-yah'], inplace=True)\n",
    "tweetDf.drop(tweetDf.index[tweetDf['Key Word'] == 'bubonic chronic'], inplace=True)\n",
    "tweetDf.drop(tweetDf.index[tweetDf['Key Word'] == 'bud'], inplace=True)\n",
    "tweetDf.drop(tweetDf.index[tweetDf['Key Word'] == 'buddha'], inplace=True)"
   ]
  },
  {
   "cell_type": "code",
   "execution_count": 8,
   "metadata": {},
   "outputs": [
    {
     "data": {
      "text/plain": [
       "(2826, 8)"
      ]
     },
     "execution_count": 8,
     "metadata": {},
     "output_type": "execute_result"
    }
   ],
   "source": [
    "tweetDf.shape"
   ]
  },
  {
   "cell_type": "code",
   "execution_count": 9,
   "metadata": {},
   "outputs": [],
   "source": [
    "tweetDf['Tweet'] = tweetDf['Tweet'].str.lower()\n",
    "tweetDf['Hashtags'] = tweetDf['Hashtags'].str.lower()\n",
    "tweetDf['Hashtags'] = tweetDf['Hashtags'].replace(np.nan,'no hashtags')\n",
    "tweetDf['Mentioned User'] = tweetDf['Mentioned User'].replace(np.nan,'no mentions')"
   ]
  },
  {
   "cell_type": "code",
   "execution_count": 10,
   "metadata": {},
   "outputs": [],
   "source": [
    "tweetDf = tweetDf.reset_index(drop=True)"
   ]
  },
  {
   "cell_type": "code",
   "execution_count": 11,
   "metadata": {},
   "outputs": [
    {
     "data": {
      "text/plain": [
       "(2826, 8)"
      ]
     },
     "execution_count": 11,
     "metadata": {},
     "output_type": "execute_result"
    }
   ],
   "source": [
    "tweetDf.shape"
   ]
  },
  {
   "cell_type": "code",
   "execution_count": 12,
   "metadata": {},
   "outputs": [],
   "source": [
    "def hashtags(text):\n",
    "    \n",
    "    hashtag = []  \n",
    "    for i in text:\n",
    "        if i != 'no hashtags':\n",
    "        \n",
    "            for j in ast.literal_eval(i):\n",
    "                hashtag.append(j)\n",
    "    return hashtag"
   ]
  },
  {
   "cell_type": "code",
   "execution_count": 13,
   "metadata": {},
   "outputs": [],
   "source": [
    "hashtag = hashtags(tweetDf['Hashtags'])"
   ]
  },
  {
   "cell_type": "code",
   "execution_count": 14,
   "metadata": {},
   "outputs": [],
   "source": [
    "hashtag = {x:hashtag.count(x) for x in hashtag}"
   ]
  },
  {
   "cell_type": "code",
   "execution_count": 15,
   "metadata": {},
   "outputs": [
    {
     "data": {
      "image/png": "[encoded data removed]",
      "text/plain": [
       "<Figure size 1152x360 with 1 Axes>"
      ]
     },
     "metadata": {
      "needs_background": "light"
     },
     "output_type": "display_data"
    }
   ],
   "source": [
    "a = nltk.FreqDist(hashtag)\n",
    "n_largest_hashtags = pd.DataFrame({'Hashtag': list(a.keys()),\n",
    "                  'Count': list(a.values())})\n",
    "# selecting top 10 most frequent hashtags    \n",
    "n_largest_hashtags = n_largest_hashtags.nlargest(columns=\"Count\", n = 20)\n",
    "plt.figure(figsize=(16,5))\n",
    "ax = sns.barplot(data=n_largest_hashtags, x= \"Hashtag\", y = \"Count\")\n",
    "ax.set(ylabel = 'Count')\n",
    "plt.xticks(rotation=30)\n",
    "plt.show()"
   ]
  },
  {
   "cell_type": "code",
   "execution_count": 16,
   "metadata": {},
   "outputs": [],
   "source": [
    "#function to extract mentions from text\n",
    "def mentions(x):\n",
    "    # @x : text parameter to the function\n",
    "    mentions = []\n",
    "    for i in x:\n",
    "        # re for finding mentions\n",
    "        ht = re.findall(r'@[\\w]*', i)\n",
    "        # storing hashtags in list\n",
    "        mentions.append(ht)\n",
    "    # returns mentions from the function\n",
    "    return mentions"
   ]
  },
  {
   "cell_type": "code",
   "execution_count": 17,
   "metadata": {},
   "outputs": [],
   "source": [
    "\n",
    "#storing the mentions in list\n",
    "mentions = mentions(tweetDf['Tweet'])\n",
    "\n",
    "    # getting sum of the mentions\n",
    "mentions = sum(mentions,[])\n"
   ]
  },
  {
   "cell_type": "code",
   "execution_count": 18,
   "metadata": {},
   "outputs": [
    {
     "data": {
      "image/png": "[encoded data removed]",
      "text/plain": [
       "<Figure size 1152x360 with 1 Axes>"
      ]
     },
     "metadata": {
      "needs_background": "light"
     },
     "output_type": "display_data"
    }
   ],
   "source": [
    "a = nltk.FreqDist(mentions)\n",
    "n_largest_mentions = pd.DataFrame({'Mentions': list(a.keys()),\n",
    "                  'Count': list(a.values())})\n",
    "# selecting top 10 most frequent hashtags    \n",
    "n_largest_mentions = n_largest_mentions.nlargest(columns=\"Count\", n = 10)\n",
    "n_largest_mentions.drop(n_largest_mentions.index[n_largest_mentions['Mentions'] == '@'], inplace=True)\n",
    "plt.figure(figsize=(16,5))\n",
    "ax = sns.barplot(data=n_largest_mentions, x= \"Mentions\", y = \"Count\")\n",
    "ax.set(ylabel = 'Count')\n",
    "plt.xticks(rotation=30)\n",
    "plt.show()"
   ]
  },
  {
   "cell_type": "code",
   "execution_count": null,
   "metadata": {},
   "outputs": [],
   "source": []
  },
  {
   "cell_type": "code",
   "execution_count": 19,
   "metadata": {},
   "outputs": [],
   "source": [
    "clean_tweets = []   \n",
    "for index, row in tweetDf.iterrows():\n",
    "    # Here we are filtering out all the words that contains link\n",
    "    words_without_links = [word for word in row.Tweet.split() if 'http' not in word]\n",
    "    clean_tweets.append(' '.join(words_without_links))"
   ]
  },
  {
   "cell_type": "code",
   "execution_count": 20,
   "metadata": {},
   "outputs": [],
   "source": [
    "tweetDf['Tweet'] = clean_tweets"
   ]
  },
  {
   "cell_type": "code",
   "execution_count": 21,
   "metadata": {},
   "outputs": [],
   "source": [
    "def remove_pattern(text, pattern_regex):\n",
    "    r = re.findall(pattern_regex, text)\n",
    "    for i in r:\n",
    "        text = re.sub(i, '', text)\n",
    "    \n",
    "    return text\n",
    "\n",
    "tweetDf['Tweet'] = np.vectorize(remove_pattern)(tweetDf['Tweet'], r\"RT\\s*:\")\n"
   ]
  },
  {
   "cell_type": "code",
   "execution_count": 22,
   "metadata": {},
   "outputs": [],
   "source": [
    "#creating the function to clean th text of tweets\n",
    "\n",
    "def cleantextdata(text):\n",
    "\n",
    "    # funtion to clean emojies\n",
    "    def deEmojify(text):\n",
    "        regrex_pattern = re.compile(pattern = \"[\"\n",
    "                        u\"\\U0001F600-\\U0001F64F\"  # emoticons\n",
    "                        u\"\\U0001F300-\\U0001F5FF\"  # symbols & pictographs\n",
    "                        u\"\\U0001F680-\\U0001F6FF\"  # transport & map symbols\n",
    "                        u\"\\U0001F1E0-\\U0001F1FF\"  # flags (iOS)\n",
    "                        u\"\\U00002702-\\U000027B0\"\n",
    "                        u\"\\U000024C2-\\U0001F251\"\n",
    "                        u\"\\U0001f926-\\U0001f937\"\n",
    "                        u\"\\U0001F1F2\"\n",
    "                        u\"\\U0001F1F4\"\n",
    "                        u\"\\U0001F620\"\n",
    "                        u\"\\u200d\"\n",
    "                        u\"\\u2640-\\u2642\"\n",
    "                        u\"\\u2600-\\u2B55\"\n",
    "                        u\"\\u23cf\"\n",
    "                        u\"\\u23e9\"\n",
    "                        u\"\\u231a\"\n",
    "                        u\"\\ufe0f\"  # dingbats\n",
    "                        u\"\\u3030\"\n",
    "                        u\"\\U00002500-\\U00002BEF\"  # Chinese char\n",
    "                        u\"\\U00010000-\\U0010ffff\"\n",
    "                               \"]+\", flags = re.UNICODE)\n",
    "        return regrex_pattern.sub(r'',text)\n",
    "    \n",
    "    #removes all the mentions in the tweets\n",
    "    text = re.sub(r'@[A-Za-z0-9]+','',text)\n",
    "    \n",
    "    #removes  and replaces with '', if there are any characters with '@' character\n",
    "    text = re.sub(r'@+','',text)\n",
    "    #removes  and replaces with '', if there are any characters with '_' character\n",
    "    text = re.sub(r'_*','',text)\n",
    "    \n",
    "    #removes  and replaces with '', if there are any characters with '.' character\n",
    "    text = re.sub(r'/.+','',text)\n",
    "    \n",
    "    #removes all the hash tag in the tweet\n",
    "    text = re.sub(r'#[A-Za-z0-9]+','',text)\n",
    "    \n",
    "    #removes next line character and replaces with ''\n",
    "    text = re.sub(r'\\n+',' ',text)\n",
    "    \n",
    "    #removes all the emojies from text replaces it with ''\n",
    "    text = deEmojify(text)\n",
    "    \n",
    "    #removes all the pucntuations in the text replaces it with ''\n",
    "    text = text.translate(str.maketrans('','',string.punctuation))\n",
    "    \n",
    "    #removes and replaces the extra space in the text with ''\n",
    "    text = re.sub(r'^\\s+|\\s+$|\\s+(?=\\s)/g','',text)\n",
    "    \n",
    "    #removes and replaces the extra space in the text with ''\n",
    "    text = re.sub(r'\\s+',' ',text)\n",
    "    \n",
    "    #removes the space between words like ca nt, have nt and joins the words\n",
    "    if \" nt\" in text:\n",
    "\n",
    "        text = re.sub(r'\\s+nt',\"nt\",text)\n",
    "    \n",
    "    return text"
   ]
  },
  {
   "cell_type": "code",
   "execution_count": 23,
   "metadata": {},
   "outputs": [],
   "source": [
    "tweetDf['TweetCleaned'] = tweetDf['Tweet'].apply(cleantextdata)"
   ]
  },
  {
   "cell_type": "code",
   "execution_count": 24,
   "metadata": {},
   "outputs": [],
   "source": [
    "stopwords_set = set(stopwords)\n",
    "cleaned_tweets = []\n",
    "\n",
    "\n",
    "for index, row in tweetDf.iterrows():\n",
    "    \n",
    "    # filerting out all the stopwords \n",
    "    words_without_stopwords = [word for word in row.TweetCleaned.split() if not word in stopwords_set and '#' not in word.lower()]\n",
    "    \n",
    "    # finally creating tweets list of tuples containing stopwords(list) and sentimentType \n",
    "    cleaned_tweets.append(' '.join(words_without_stopwords))\n",
    "    \n",
    "tweetDf['TweetCleaned'] = cleaned_tweets"
   ]
  },
  {
   "cell_type": "code",
   "execution_count": 25,
   "metadata": {},
   "outputs": [],
   "source": [
    "tokenized_tweet = tweetDf['TweetCleaned'].apply(lambda x: x.split())"
   ]
  },
  {
   "cell_type": "code",
   "execution_count": 26,
   "metadata": {},
   "outputs": [],
   "source": [
    "    \n",
    "word_lemmatizer = WordNetLemmatizer()\n",
    "\n",
    "\n",
    "tokenized_tweet = tokenized_tweet.apply(lambda x: [word_lemmatizer.lemmatize(i) for i in x])\n",
    "tokenized_tweet.head()\n",
    "\n",
    "    \n",
    "for i, tokens in enumerate(tokenized_tweet):\n",
    "    tokenized_tweet[i] = ' '.join(tokens)\n",
    "\n",
    "\n",
    "tweetDf['TweetCleaned'] = tokenized_tweet"
   ]
  },
  {
   "cell_type": "code",
   "execution_count": 27,
   "metadata": {},
   "outputs": [],
   "source": [
    "#creat a funtion to get subjectivity  and polarity\n",
    "\n",
    "#if subjectivity is towards 1 that means its directed towards the topic\n",
    "def subjectivity(text):\n",
    "    return TextBlob(text).sentiment.subjectivity\n",
    "\n",
    "#gives us the polarity of the tweet so that we can decide is it positive or negative tweet\n",
    "def polarity(text):\n",
    "    \n",
    "    return TextBlob(text).sentiment.polarity\n",
    "\n",
    "tweetDf['Subjectivity'] = tweetDf['TweetCleaned'].apply(subjectivity)\n",
    "tweetDf['Polarity'] = tweetDf['TweetCleaned'].apply(polarity)"
   ]
  },
  {
   "cell_type": "code",
   "execution_count": 28,
   "metadata": {},
   "outputs": [],
   "source": [
    "#creating a function to calculate and show the that tweet is negative or positive with the help of polarity\n",
    "\n",
    "def analysis(score):\n",
    "    \n",
    "    #if polarity score is < 0 its a negative tweet\n",
    "    if score < 0:\n",
    "        return \"Negative\"\n",
    "    #if polarity score is = 0 its a neutral tweet\n",
    "    elif score == 0:\n",
    "        return \"Neutral\"\n",
    "    \n",
    "    #if polarity score is > 0 its a Positive tweet\n",
    "    else:\n",
    "        return \"Positive\""
   ]
  },
  {
   "cell_type": "code",
   "execution_count": 29,
   "metadata": {},
   "outputs": [],
   "source": [
    "tweetDf['analysis'] = tweetDf['Polarity'].apply(analysis)"
   ]
  },
  {
   "cell_type": "code",
   "execution_count": 30,
   "metadata": {},
   "outputs": [
    {
     "data": {
      "text/plain": [
       "Positive    1278\n",
       "Neutral     1105\n",
       "Negative     443\n",
       "Name: analysis, dtype: int64"
      ]
     },
     "execution_count": 30,
     "metadata": {},
     "output_type": "execute_result"
    }
   ],
   "source": [
    "tweetDf['analysis'].value_counts()"
   ]
  },
  {
   "cell_type": "code",
   "execution_count": 31,
   "metadata": {},
   "outputs": [],
   "source": [
    "tweetDf['Date'] = pd.to_datetime(tweetDf['Date'], format= '%Y-%m-%d %H:%M:%S')"
   ]
  },
  {
   "cell_type": "code",
   "execution_count": 32,
   "metadata": {},
   "outputs": [
    {
     "data": {
      "image/png": "[encoded data removed]",
      "text/plain": [
       "<Figure size 1296x432 with 1 Axes>"
      ]
     },
     "metadata": {
      "needs_background": "light"
     },
     "output_type": "display_data"
    },
    {
     "data": {
      "text/plain": [
       "<Figure size 432x288 with 0 Axes>"
      ]
     },
     "metadata": {},
     "output_type": "display_data"
    }
   ],
   "source": [
    "#i am plotting the recent 1000 tweets which were made with  a frequency of 30 mins\n",
    "\n",
    "#getting the data from the dataframe and grouping them at a frequency of 30 mins \n",
    "tweets = tweetDf.groupby(pd.Grouper(key='Date', freq='D', convention='start')).size()\n",
    "\n",
    "# plot size \n",
    "tweets.plot(figsize=(18,6))\n",
    "\n",
    "#X axis label\n",
    "plt.xlabel('Date')\n",
    "#y axis label\n",
    "plt.ylabel('Tweets')\n",
    "\n",
    "#title of the plot\n",
    "plt.title('Marijuna Related tweets')\n",
    "plt.grid(True)\n",
    "fig1 = plt.gcf()\n",
    "plt.show()\n",
    "plt.draw()\n",
    "fig1.savefig(\"Marijuna_related_tweets_done_everyday.jpg\", dpi=100)"
   ]
  },
  {
   "cell_type": "code",
   "execution_count": 33,
   "metadata": {},
   "outputs": [
    {
     "data": {
      "image/png": "[encoded data removed]",
      "text/plain": [
       "<Figure size 1296x432 with 1 Axes>"
      ]
     },
     "metadata": {
      "needs_background": "light"
     },
     "output_type": "display_data"
    },
    {
     "data": {
      "text/plain": [
       "<Figure size 432x288 with 0 Axes>"
      ]
     },
     "metadata": {},
     "output_type": "display_data"
    }
   ],
   "source": [
    "#i am plotting the recent 1000 tweets which were made with  a frequency of 30 mins\n",
    "\n",
    "#getting the data from the dataframe and grouping them at a frequency of 30 mins \n",
    "tweets = tweetDf.groupby(pd.Grouper(key='Date', freq='D', convention='start')).size()\n",
    "\n",
    "# plot size \n",
    "tweets.plot(figsize=(18,6))\n",
    "\n",
    "#X axis label\n",
    "plt.xlabel('date')\n",
    "#y axis label\n",
    "plt.ylabel('sentiment polarity')\n",
    "\n",
    "#title of the plot\n",
    "plt.title('Sentiment Polarity over time')\n",
    "plt.grid(True)\n",
    "fig1 = plt.gcf()\n",
    "plt.show()\n",
    "plt.draw()\n",
    "fig1.savefig(\"Marijuna_related_tweets_done_everyday.jpg\", dpi=100)"
   ]
  },
  {
   "cell_type": "code",
   "execution_count": 34,
   "metadata": {},
   "outputs": [
    {
     "data": {
      "text/html": [
       "<div>\n",
       "<style scoped>\n",
       "    .dataframe tbody tr th:only-of-type {\n",
       "        vertical-align: middle;\n",
       "    }\n",
       "\n",
       "    .dataframe tbody tr th {\n",
       "        vertical-align: top;\n",
       "    }\n",
       "\n",
       "    .dataframe thead th {\n",
       "        text-align: right;\n",
       "    }\n",
       "</style>\n",
       "<table border=\"1\" class=\"dataframe\">\n",
       "  <thead>\n",
       "    <tr style=\"text-align: right;\">\n",
       "      <th></th>\n",
       "      <th>Date</th>\n",
       "      <th>User</th>\n",
       "      <th>Tweet</th>\n",
       "      <th>Hashtags</th>\n",
       "      <th>Location</th>\n",
       "      <th>Mentioned User</th>\n",
       "      <th>location</th>\n",
       "      <th>Key Word</th>\n",
       "      <th>TweetCleaned</th>\n",
       "      <th>Subjectivity</th>\n",
       "      <th>Polarity</th>\n",
       "      <th>analysis</th>\n",
       "    </tr>\n",
       "  </thead>\n",
       "  <tbody>\n",
       "    <tr>\n",
       "      <th>0</th>\n",
       "      <td>2022-10-05 06:50:45+00:00</td>\n",
       "      <td>theemtriagency</td>\n",
       "      <td>cannabis farmers inside the emerald triangle @...</td>\n",
       "      <td>['sandwichtour', 'cannabiscommunity', 'cannabi...</td>\n",
       "      <td>Los Angeles California</td>\n",
       "      <td>[User(username='theemtriagency', id=1501984267...</td>\n",
       "      <td>Los Angeles, CA</td>\n",
       "      <td>cannabis</td>\n",
       "      <td>cannabis farmer inside emerald triangle would ...</td>\n",
       "      <td>0.357143</td>\n",
       "      <td>0.000000</td>\n",
       "      <td>Neutral</td>\n",
       "    </tr>\n",
       "    <tr>\n",
       "      <th>1</th>\n",
       "      <td>2022-10-05 05:48:54+00:00</td>\n",
       "      <td>KayleighMichael</td>\n",
       "      <td>cannabis gummies for the win 🔥🛸</td>\n",
       "      <td>no hashtags</td>\n",
       "      <td>Minooka, IL</td>\n",
       "      <td>no mentions</td>\n",
       "      <td>Minooka, IL</td>\n",
       "      <td>cannabis</td>\n",
       "      <td>cannabis gummies win</td>\n",
       "      <td>0.400000</td>\n",
       "      <td>0.800000</td>\n",
       "      <td>Positive</td>\n",
       "    </tr>\n",
       "    <tr>\n",
       "      <th>2</th>\n",
       "      <td>2022-10-05 00:03:21+00:00</td>\n",
       "      <td>BCobblaw</td>\n",
       "      <td>today was one for the books—telling the #sunbu...</td>\n",
       "      <td>['sunburn', 'getburnt', 'dopeboys']</td>\n",
       "      <td>Fort Lauderdale, FL</td>\n",
       "      <td>[User(username='dmoses34', id=4197084093, disp...</td>\n",
       "      <td>Medford, MA</td>\n",
       "      <td>cannabis</td>\n",
       "      <td>today one books—telling story journey cannabis...</td>\n",
       "      <td>0.566667</td>\n",
       "      <td>0.016667</td>\n",
       "      <td>Positive</td>\n",
       "    </tr>\n",
       "    <tr>\n",
       "      <th>3</th>\n",
       "      <td>2022-10-04 23:26:23+00:00</td>\n",
       "      <td>ambthebrand</td>\n",
       "      <td>🎃 its officially spooky szn 🎃 in honor of the ...</td>\n",
       "      <td>['ambthebrand', 'follow', 'like', 'support', '...</td>\n",
       "      <td>Philly</td>\n",
       "      <td>no mentions</td>\n",
       "      <td>Philadelphia, PA</td>\n",
       "      <td>cannabis</td>\n",
       "      <td>officially spooky szn honor season here’s oran...</td>\n",
       "      <td>0.300000</td>\n",
       "      <td>-0.200000</td>\n",
       "      <td>Negative</td>\n",
       "    </tr>\n",
       "    <tr>\n",
       "      <th>4</th>\n",
       "      <td>2022-10-04 22:12:46+00:00</td>\n",
       "      <td>the_cannabis_pl</td>\n",
       "      <td>join us on october 15th as we join with the @n...</td>\n",
       "      <td>['hispanicheritagemonth', 'cannabis', 'eachone...</td>\n",
       "      <td>New York, USA</td>\n",
       "      <td>[User(username='nhccouncil', id=13726047427994...</td>\n",
       "      <td>Jersey City, NJ</td>\n",
       "      <td>cannabis</td>\n",
       "      <td>join u october 15th join celebrate amp 1st ann...</td>\n",
       "      <td>0.550000</td>\n",
       "      <td>0.350000</td>\n",
       "      <td>Positive</td>\n",
       "    </tr>\n",
       "  </tbody>\n",
       "</table>\n",
       "</div>"
      ],
      "text/plain": [
       "                       Date             User  \\\n",
       "0 2022-10-05 06:50:45+00:00   theemtriagency   \n",
       "1 2022-10-05 05:48:54+00:00  KayleighMichael   \n",
       "2 2022-10-05 00:03:21+00:00         BCobblaw   \n",
       "3 2022-10-04 23:26:23+00:00      ambthebrand   \n",
       "4 2022-10-04 22:12:46+00:00  the_cannabis_pl   \n",
       "\n",
       "                                               Tweet  \\\n",
       "0  cannabis farmers inside the emerald triangle @...   \n",
       "1                    cannabis gummies for the win 🔥🛸   \n",
       "2  today was one for the books—telling the #sunbu...   \n",
       "3  🎃 its officially spooky szn 🎃 in honor of the ...   \n",
       "4  join us on october 15th as we join with the @n...   \n",
       "\n",
       "                                            Hashtags                Location  \\\n",
       "0  ['sandwichtour', 'cannabiscommunity', 'cannabi...  Los Angeles California   \n",
       "1                                        no hashtags             Minooka, IL   \n",
       "2                ['sunburn', 'getburnt', 'dopeboys']     Fort Lauderdale, FL   \n",
       "3  ['ambthebrand', 'follow', 'like', 'support', '...                  Philly   \n",
       "4  ['hispanicheritagemonth', 'cannabis', 'eachone...           New York, USA   \n",
       "\n",
       "                                      Mentioned User          location  \\\n",
       "0  [User(username='theemtriagency', id=1501984267...   Los Angeles, CA   \n",
       "1                                        no mentions       Minooka, IL   \n",
       "2  [User(username='dmoses34', id=4197084093, disp...       Medford, MA   \n",
       "3                                        no mentions  Philadelphia, PA   \n",
       "4  [User(username='nhccouncil', id=13726047427994...   Jersey City, NJ   \n",
       "\n",
       "   Key Word                                       TweetCleaned  Subjectivity  \\\n",
       "0  cannabis  cannabis farmer inside emerald triangle would ...      0.357143   \n",
       "1  cannabis                               cannabis gummies win      0.400000   \n",
       "2  cannabis  today one books—telling story journey cannabis...      0.566667   \n",
       "3  cannabis  officially spooky szn honor season here’s oran...      0.300000   \n",
       "4  cannabis  join u october 15th join celebrate amp 1st ann...      0.550000   \n",
       "\n",
       "   Polarity  analysis  \n",
       "0  0.000000   Neutral  \n",
       "1  0.800000  Positive  \n",
       "2  0.016667  Positive  \n",
       "3 -0.200000  Negative  \n",
       "4  0.350000  Positive  "
      ]
     },
     "execution_count": 34,
     "metadata": {},
     "output_type": "execute_result"
    }
   ],
   "source": [
    "tweetDf.head()"
   ]
  },
  {
   "cell_type": "code",
   "execution_count": 46,
   "metadata": {},
   "outputs": [],
   "source": [
    "\n",
    "#\n",
    "# LDA parameters\n",
    "#\n",
    "\n",
    "# number of topics to discover (default = 10)\n",
    "topicNum = 5\n",
    "# maximum number of words to display per topic (default = 10)\n",
    "# Answer to Exercise 1 (change from 10 to 15)\n",
    "wordNumToDisplay = 15\n",
    "# this is the number of features/words to used to describe our documents\n",
    "# please feel free to change to see effect\n",
    "featureNum = 1500\n",
    "\n"
   ]
  },
  {
   "cell_type": "code",
   "execution_count": 47,
   "metadata": {},
   "outputs": [],
   "source": [
    "# Count Vectorizer\n",
    "tfVectorizer = CountVectorizer(max_df=0.95, min_df=2, max_features=featureNum, stop_words='english')\n",
    "tf = tfVectorizer.fit_transform(tweetDf['TweetCleaned'])\n",
    "# extract the names of the features \n",
    "tfFeatureNames = tfVectorizer.get_feature_names()\n",
    "\n",
    "#\n",
    "# LDA MODEL\n",
    "#\n",
    "# Run LDA \n",
    "ldaModel = LatentDirichletAllocation(n_components =topicNum, max_iter=10, learning_method='online').fit(tf)"
   ]
  },
  {
   "cell_type": "code",
   "execution_count": 48,
   "metadata": {},
   "outputs": [],
   "source": [
    "def display_topics(model, featureNames, numTopWords):\n",
    "    \"\"\"\n",
    "    Prints out the most associated words for each feature.\n",
    "    @param model: lda model.\n",
    "    @param featureNames: list of strings, representing the list of features/words.\n",
    "    @param numTopWords: number of words to print per topic.\n",
    "    \"\"\"\n",
    "    # print out the topic distributions\n",
    "    for topicId, lTopicDist in enumerate(model.components_):\n",
    "        print(\"Topic %d:\" % (topicId))\n",
    "        print(\" \".join([featureNames[i] for i in lTopicDist.argsort()[:-numTopWords - 1:-1]]))"
   ]
  },
  {
   "cell_type": "code",
   "execution_count": 49,
   "metadata": {},
   "outputs": [
    {
     "name": "stdout",
     "output_type": "stream",
     "text": [
      "Topic 0:\n",
      "blunt candle amp pumpkin cali house smoke weed today got gift birthday rotation game morning\n",
      "Topic 1:\n",
      "marijuana people biden possession smell pardon spy let simple life candle year thing federal make\n",
      "Topic 2:\n",
      "marijuana cannabis cali hey amp know wanna week black best hold man legal good oh\n",
      "Topic 3:\n",
      "cali candle time blunt good going happy smoking week ve yes love like getting really\n",
      "Topic 4:\n",
      "candle like cali blunt day light amp fall need blunts lit night today new cannabis\n"
     ]
    }
   ],
   "source": [
    "display_topics(ldaModel, tfFeatureNames, wordNumToDisplay)"
   ]
  },
  {
   "cell_type": "code",
   "execution_count": 50,
   "metadata": {},
   "outputs": [
    {
     "data": {
      "text/html": [
       "\n",
       "<link rel=\"stylesheet\" type=\"text/css\" href=\"https://cdn.jsdelivr.net/gh/bmabey/pyLDAvis@3.3.1/pyLDAvis/js/ldavis.v1.0.0.css\">\n",
       "\n",
       "\n",
       "<div id=\"ldavis_el2389620457579423528170092382\"></div>\n",
       "<script type=\"text/javascript\">\n",
       "\n",
       "var ldavis_el2389620457579423528170092382_data = {\"mdsDat\": {\"x\": [150.22215270996094, 51.16336441040039, -73.1445541381836, -66.4101333618164, 54.41732406616211], \"y\": [-72.2695541381836, -159.968017578125, 21.523815155029297, -110.60643768310547, 12.44344425201416], \"topics\": [1, 2, 3, 4, 5], \"cluster\": [1, 1, 1, 1, 1], \"Freq\": [27.447846578178194, 22.001140841135037, 20.168573239186358, 15.337993831920963, 15.044445509579452]}, \"tinfo\": {\"Term\": [\"marijuana\", \"blunt\", \"candle\", \"people\", \"hey\", \"biden\", \"light\", \"like\", \"fall\", \"pumpkin\", \"smell\", \"possession\", \"time\", \"house\", \"cali\", \"smoke\", \"blunts\", \"spy\", \"know\", \"good\", \"happy\", \"pardon\", \"smoking\", \"week\", \"going\", \"life\", \"lit\", \"day\", \"simple\", \"amp\", \"light\", \"blunts\", \"lit\", \"fall\", \"lol\", \"coming\", \"girl\", \"amazing\", \"little\", \"open\", \"october\", \"dropped\", \"trip\", \"buy\", \"fuck\", \"watching\", \"feel\", \"old\", \"bed\", \"fine\", \"season\", \"maybe\", \"store\", \"ready\", \"walk\", \"queen\", \"different\", \"drink\", \"damn\", \"price\", \"night\", \"guy\", \"like\", \"day\", \"need\", \"candle\", \"new\", \"don\", \"look\", \"tonight\", \"think\", \"cali\", \"amp\", \"today\", \"work\", \"blunt\", \"make\", \"cannabis\", \"love\", \"know\", \"say\", \"got\", \"want\", \"smoking\", \"hour\", \"happy\", \"support\", \"gonna\", \"getting\", \"long\", \"sunday\", \"hand\", \"team\", \"book\", \"obsessed\", \"smelling\", \"food\", \"sale\", \"change\", \"tomorrow\", \"fan\", \"speaking\", \"head\", \"clean\", \"bought\", \"tho\", \"boy\", \"expensive\", \"water\", \"recreational\", \"space\", \"yall\", \"line\", \"yes\", \"green\", \"time\", \"going\", \"ve\", \"weekend\", \"good\", \"home\", \"cali\", \"really\", \"week\", \"better\", \"way\", \"love\", \"candle\", \"blunt\", \"say\", \"start\", \"right\", \"mean\", \"like\", \"deeper\", \"marijuana\", \"spy\", \"life\", \"help\", \"smell\", \"dream\", \"simple\", \"guess\", \"experience\", \"play\", \"drug\", \"12\", \"prison\", \"post\", \"finally\", \"tell\", \"conviction\", \"free\", \"pardoned\", \"true\", \"sin\", \"fucking\", \"convicted\", \"month\", \"talking\", \"win\", \"jeff\", \"putting\", \"party\", \"jail\", \"aren\", \"possession\", \"people\", \"biden\", \"pardon\", \"marijuana\", \"issue\", \"offense\", \"let\", \"thank\", \"president\", \"level\", \"thing\", \"federal\", \"year\", \"ll\", \"cake\", \"make\", \"legalize\", \"great\", \"candle\", \"house\", \"pumpkin\", \"gift\", \"lighting\", \"cat\", \"art\", \"coffee\", \"game\", \"beautiful\", \"kid\", \"inside\", \"15\", \"bitch\", \"pls\", \"scent\", \"river\", \"white\", \"ya\", \"fat\", \"apartment\", \"face\", \"leave\", \"dark\", \"beach\", \"rotation\", \"woman\", \"son\", \"nightmare\", \"30\", \"men\", \"nice\", \"weed\", \"smoke\", \"blunt\", \"birthday\", \"candle\", \"hit\", \"morning\", \"amp\", \"got\", \"today\", \"cali\", \"im\", \"hey\", \"legal\", \"man\", \"room\", \"place\", \"medical\", \"la\", \"city\", \"gt\", \"texas\", \"soon\", \"forest\", \"flame\", \"sex\", \"enjoy\", \"didn\", \"da\", \"working\", \"stop\", \"rolling\", \"dinner\", \"rolled\", \"motherhood\", \"yeah\", \"vega\", \"second\", \"program\", \"pa\", \"waiting\", \"led\", \"hold\", \"wanna\", \"best\", \"black\", \"know\", \"cannabis\", \"oh\", \"marijuana\", \"week\", \"amp\", \"cali\", \"step\", \"federal\", \"good\", \"got\", \"vote\", \"use\", \"day\", \"right\"], \"Freq\": [424.0, 402.0, 766.0, 134.0, 73.0, 98.0, 94.0, 206.0, 90.0, 57.0, 68.0, 73.0, 128.0, 52.0, 475.0, 67.0, 70.0, 54.0, 86.0, 123.0, 60.0, 65.0, 55.0, 79.0, 82.0, 50.0, 63.0, 139.0, 51.0, 235.0, 93.38032870952297, 70.05100473571558, 62.91569853094019, 89.76100002586328, 38.088349603585336, 38.805523400048884, 34.969499661349616, 31.97166964911096, 27.84329409531506, 26.932906946199758, 26.88029393552878, 24.872905083117747, 24.145925515157916, 23.666117276489288, 23.745748129245012, 21.907073806464027, 24.142508405269137, 20.374322690648285, 19.786762174122366, 19.400761957031936, 18.741261111313737, 19.26052202629921, 18.62935558102396, 17.80217137253999, 17.62309277756731, 16.7712156891791, 16.72605523060538, 15.195787123288522, 14.790225998113469, 14.990174302148, 61.45266930096552, 25.494195437546367, 151.89009876771675, 103.67886727903812, 88.22904907068663, 407.01323793261844, 57.149508486726994, 45.161370751927535, 35.285470920030264, 32.13851677307548, 33.040537218250385, 147.02070268545137, 91.804497938494, 58.84104749969057, 41.551021472326546, 109.9225867008632, 39.29488128407928, 51.81131986759496, 36.7788358901094, 33.98339496995962, 31.073916675494925, 30.255748796321654, 29.133944422873725, 54.52392722552034, 30.991913586842532, 59.28136594422229, 28.27379646176683, 27.124788562845442, 38.75953425514347, 26.10959654172366, 25.431251505408163, 23.32297825582492, 23.131319221270815, 23.549615354598657, 21.11048938195643, 20.945570163404735, 20.778924807401815, 22.751793599836105, 20.538198217033397, 19.848694811007036, 19.35020726188294, 18.299005234638702, 18.2984410148713, 18.277304218920463, 18.103882118867286, 17.5990899045409, 17.937484296775384, 17.95454534074567, 15.965710765318514, 15.822422325287926, 17.787054603327316, 15.333692810952725, 14.738442181260936, 42.61577033567449, 32.96062295527982, 93.28909385765029, 63.90033040253248, 44.518796748686356, 28.748331486701, 75.52638220400164, 35.884963744978265, 191.79482261430724, 37.92041831532779, 46.472167040699254, 28.12925164567457, 37.522489230158584, 40.83136471748951, 115.85489921354063, 76.368520726857, 33.35595106486548, 28.40679260360951, 34.52633369592042, 28.040279933365515, 40.2093444188184, 26.145040231788148, 29.230083424563222, 53.99789792828638, 49.952148580305945, 35.22886575856721, 67.36753806869397, 29.014592164737838, 50.14999384812245, 26.935548359285573, 26.75420459771029, 25.94642552250669, 29.957634622333728, 24.227404896914788, 22.570195371828646, 22.844698513495917, 22.728860523002005, 22.832410669105304, 25.92006179839101, 22.044987755283135, 21.059894508751682, 20.446160510304818, 20.304371996791968, 20.60168249962512, 23.77939226770977, 20.292681764104454, 19.479484041226875, 19.144379060623233, 18.769787197311793, 16.48111837950308, 16.376342272489392, 15.389721179751444, 15.449061875625382, 69.86257228788527, 123.06260008274481, 86.9393631399581, 58.89890934238126, 306.34116717916766, 24.07159655482874, 28.076673925731694, 50.559417843255076, 36.79341320942386, 30.727793045072648, 28.16889076872338, 42.85825874315324, 41.543545603343446, 45.33054674569647, 36.58680656512663, 26.28709284814917, 39.3761709122763, 28.55785412211842, 30.48770466242274, 45.45785690186782, 51.83324466226261, 56.44799896328121, 34.89205427805002, 26.902633573133198, 26.288337967979547, 23.500709708068165, 23.21409828388718, 29.01261088337018, 22.79399950862501, 22.0848846080882, 23.103223718981003, 21.238630726545637, 20.551616505867624, 18.52012761924083, 18.026780595810827, 18.20414200137691, 17.829403209550883, 16.799265449140687, 16.009803081102902, 15.90790882089495, 15.781118042114601, 15.323371080375116, 13.909295865057084, 13.883227968087008, 30.05737743262701, 12.887215496374345, 12.767450314496186, 12.515208566558549, 12.648150042407607, 12.080280522590355, 19.293469979272906, 41.00784089735235, 50.24552924370783, 213.61882059449792, 32.442548659842736, 190.26713671809364, 25.45778943393802, 28.76645610267442, 60.68633225703305, 37.9653138676432, 38.4648940593285, 54.37582068251996, 20.48879537180498, 72.66760406440204, 29.803978697726933, 29.958758587812234, 26.9787403802174, 23.006681660475103, 23.93534634599355, 21.841179168029342, 21.010216860414975, 22.41770286593945, 20.05501792123989, 19.912904826169033, 18.306854399510147, 18.789370775483153, 16.766162896366293, 16.65414880943767, 16.36070129413977, 15.790680964283037, 15.28578710664139, 15.165848785652031, 14.35756300728232, 14.354284703800836, 13.473577329782634, 13.124255942504755, 13.20117348490256, 12.927880065912285, 12.98312771691201, 12.194572496237853, 12.973858424054882, 11.63035195699159, 11.618594915700223, 29.983005256602052, 41.156124352492526, 31.18218307430748, 31.675897527549672, 48.10424148626772, 74.33011364377158, 27.4434775854957, 87.0747299477587, 32.40146174172258, 54.86480907086023, 73.3429167132822, 21.212165682413612, 27.16295241837945, 29.39767962366284, 24.95785531044034, 17.99021461849221, 19.47335993284849, 22.702600367122677, 20.375853936066058], \"Total\": [424.0, 402.0, 766.0, 134.0, 73.0, 98.0, 94.0, 206.0, 90.0, 57.0, 68.0, 73.0, 128.0, 52.0, 475.0, 67.0, 70.0, 54.0, 86.0, 123.0, 60.0, 65.0, 55.0, 79.0, 82.0, 50.0, 63.0, 139.0, 51.0, 235.0, 94.21076111268894, 70.83227588741836, 63.69233931920692, 90.90550651170346, 38.870571537421554, 39.605065899162554, 35.74610935695269, 32.77260050775212, 28.621071257621114, 27.71964394617052, 27.66742007900632, 25.651127233514227, 24.92500345970273, 24.44338034734172, 24.525773275395327, 22.68571602862521, 25.027401156916564, 21.16283479790199, 20.562630027349332, 20.183455410785204, 19.522882893912033, 20.070468820073813, 19.418050389252933, 18.578692264731433, 18.39827806793817, 17.544737473837568, 17.505452217703628, 15.975771444617102, 15.564434309714569, 15.78091839885435, 66.53580848073939, 27.780689391208472, 206.6592580667222, 139.96688952667463, 123.45227587587961, 766.5277748069936, 84.25810788810762, 64.65236275904925, 46.279683418354104, 43.720036194037014, 46.16307238270751, 475.8769691499906, 235.49077600878257, 116.11602714087418, 69.48814909131711, 402.92071445343515, 79.2401553849853, 186.19845037825814, 78.20527280833277, 86.6622379322279, 65.0307179709364, 93.5776078220545, 63.92874323267398, 55.30098113897592, 31.77067170096114, 60.925444560741056, 29.07905254621231, 27.905436109583274, 39.916520503946536, 26.88978623122945, 26.213360006733517, 24.097817959787385, 23.906019216192764, 24.351440112201995, 21.885737954592802, 21.72554323437221, 21.55488311214783, 23.614129075710128, 21.32290894670674, 20.63438329446232, 20.126067586118698, 19.068110267028853, 19.08035308374605, 19.063973054928763, 18.887220125007097, 18.366295468293462, 18.720539590588427, 18.764195939335675, 16.75451118064387, 16.606002935090373, 18.673939935167354, 16.11941496315599, 15.517710376279226, 45.677522606506066, 36.11474995297846, 128.57060276191655, 82.81388710152638, 57.16925123783707, 34.15381233832839, 123.59444660039404, 47.72744272596475, 475.8769691499906, 51.937284837938535, 79.4539950164267, 36.87680816740567, 59.72568617994629, 78.20527280833277, 766.5277748069936, 402.92071445343515, 65.0307179709364, 44.42755160906383, 73.92063741463505, 46.73266110393431, 206.6592580667222, 45.3651528868376, 424.13890792650375, 54.77728521111829, 50.71016436363527, 36.05422777286912, 68.99480298556055, 29.773758687254418, 51.4762316008285, 27.684137639613926, 27.523779346492535, 26.70495510233792, 30.872390110939588, 24.971756432295667, 23.313120295422767, 23.598849992960165, 23.487870005011143, 23.60354849868272, 26.798237201035352, 22.79959027438315, 21.819261090917525, 21.20122880040198, 21.05464166934268, 21.36889169308121, 24.668736859788808, 21.06262089020051, 20.237057240322823, 19.90336354530962, 19.514887297732514, 17.234297221014973, 17.130521354822033, 16.13146686055541, 16.20172884827372, 73.61068163827024, 134.43988635794923, 98.22189279646459, 65.72462261786922, 424.13890792650375, 25.73294346602408, 31.930474363143183, 69.5971303183268, 46.84767802831169, 37.367521395357166, 34.94140271065412, 72.05111639935646, 69.25140394813654, 85.48888293342226, 59.67073109834848, 32.231307871278965, 79.2401553849853, 40.30582281862314, 56.74559531922598, 766.5277748069936, 52.62536018045015, 57.37605447764808, 35.67360065617928, 27.69096206201826, 27.074281510509234, 24.28163488429729, 23.98687678376043, 29.983255890159942, 23.570938372835467, 22.86945963917791, 23.929697768180436, 22.02765271872948, 21.32672399188547, 19.296247097356908, 18.80837814390057, 18.994396908594247, 18.611867434574172, 17.575346317955624, 16.79051872734875, 16.68529090408004, 16.567133509875287, 16.098309224108306, 14.685254051501843, 14.657889629304087, 31.8683275049038, 13.668364937013072, 13.546113104764522, 13.282620497762895, 13.433004654061408, 12.859576957053466, 20.765938967704525, 50.39595313924232, 67.2451386995828, 402.92071445343515, 42.955566228290216, 766.5277748069936, 37.35143663894782, 53.19683410564134, 235.49077600878257, 93.5776078220545, 116.11602714087418, 475.8769691499906, 65.44708365829267, 73.42616712611392, 30.563499887374242, 30.72608895602467, 27.745405869783095, 23.767263263899583, 24.75525850840708, 22.596836475313435, 21.771844060923918, 23.26509873338232, 20.815495403253387, 20.69153740624342, 19.070576505419552, 19.620078422786037, 17.523553181281105, 17.420064834672374, 17.12541931931363, 16.54987038786752, 16.044426330088776, 15.93155913908903, 15.11910438089406, 15.128788207943122, 14.236314043505159, 13.876551059150888, 13.970509284611452, 13.685696126228223, 13.74508623190011, 12.95242741961878, 13.819268815781252, 12.399801709203501, 12.393353061236457, 35.78581317381244, 56.07818843750333, 40.676452586144705, 43.432607284373276, 86.6622379322279, 186.19845037825814, 43.575041990899905, 424.13890792650375, 79.4539950164267, 235.49077600878257, 475.8769691499906, 35.91428556574445, 69.25140394813654, 123.59444660039404, 93.5776078220545, 25.492847301660095, 42.07501764178454, 139.96688952667463, 73.92063741463505], \"Category\": [\"Default\", \"Default\", \"Default\", \"Default\", \"Default\", \"Default\", \"Default\", \"Default\", \"Default\", \"Default\", \"Default\", \"Default\", \"Default\", \"Default\", \"Default\", \"Default\", \"Default\", \"Default\", \"Default\", \"Default\", \"Default\", \"Default\", \"Default\", \"Default\", \"Default\", \"Default\", \"Default\", \"Default\", \"Default\", \"Default\", \"Topic1\", \"Topic1\", \"Topic1\", \"Topic1\", \"Topic1\", \"Topic1\", \"Topic1\", \"Topic1\", \"Topic1\", \"Topic1\", \"Topic1\", \"Topic1\", \"Topic1\", \"Topic1\", \"Topic1\", \"Topic1\", \"Topic1\", \"Topic1\", \"Topic1\", \"Topic1\", \"Topic1\", \"Topic1\", \"Topic1\", \"Topic1\", \"Topic1\", \"Topic1\", \"Topic1\", \"Topic1\", \"Topic1\", \"Topic1\", \"Topic1\", \"Topic1\", \"Topic1\", \"Topic1\", \"Topic1\", \"Topic1\", \"Topic1\", \"Topic1\", \"Topic1\", \"Topic1\", \"Topic1\", \"Topic1\", \"Topic1\", \"Topic1\", \"Topic1\", \"Topic1\", \"Topic1\", \"Topic1\", \"Topic1\", \"Topic1\", \"Topic1\", \"Topic1\", \"Topic1\", \"Topic2\", \"Topic2\", \"Topic2\", \"Topic2\", \"Topic2\", \"Topic2\", \"Topic2\", \"Topic2\", \"Topic2\", \"Topic2\", \"Topic2\", \"Topic2\", \"Topic2\", \"Topic2\", \"Topic2\", \"Topic2\", \"Topic2\", \"Topic2\", \"Topic2\", \"Topic2\", \"Topic2\", \"Topic2\", \"Topic2\", \"Topic2\", \"Topic2\", \"Topic2\", \"Topic2\", \"Topic2\", \"Topic2\", \"Topic2\", \"Topic2\", \"Topic2\", \"Topic2\", \"Topic2\", \"Topic2\", \"Topic2\", \"Topic2\", \"Topic2\", \"Topic2\", \"Topic2\", \"Topic2\", \"Topic2\", \"Topic2\", \"Topic2\", \"Topic2\", \"Topic2\", \"Topic2\", \"Topic2\", \"Topic2\", \"Topic2\", \"Topic2\", \"Topic2\", \"Topic2\", \"Topic3\", \"Topic3\", \"Topic3\", \"Topic3\", \"Topic3\", \"Topic3\", \"Topic3\", \"Topic3\", \"Topic3\", \"Topic3\", \"Topic3\", \"Topic3\", \"Topic3\", \"Topic3\", \"Topic3\", \"Topic3\", \"Topic3\", \"Topic3\", \"Topic3\", \"Topic3\", \"Topic3\", \"Topic3\", \"Topic3\", \"Topic3\", \"Topic3\", \"Topic3\", \"Topic3\", \"Topic3\", \"Topic3\", \"Topic3\", \"Topic3\", \"Topic3\", \"Topic3\", \"Topic3\", \"Topic3\", \"Topic3\", \"Topic3\", \"Topic3\", \"Topic3\", \"Topic3\", \"Topic3\", \"Topic3\", \"Topic3\", \"Topic3\", \"Topic3\", \"Topic3\", \"Topic3\", \"Topic3\", \"Topic3\", \"Topic3\", \"Topic4\", \"Topic4\", \"Topic4\", \"Topic4\", \"Topic4\", \"Topic4\", \"Topic4\", \"Topic4\", \"Topic4\", \"Topic4\", \"Topic4\", \"Topic4\", \"Topic4\", \"Topic4\", \"Topic4\", \"Topic4\", \"Topic4\", \"Topic4\", \"Topic4\", \"Topic4\", \"Topic4\", \"Topic4\", \"Topic4\", \"Topic4\", \"Topic4\", \"Topic4\", \"Topic4\", \"Topic4\", \"Topic4\", \"Topic4\", \"Topic4\", \"Topic4\", \"Topic4\", \"Topic4\", \"Topic4\", \"Topic4\", \"Topic4\", \"Topic4\", \"Topic4\", \"Topic4\", \"Topic4\", \"Topic4\", \"Topic4\", \"Topic5\", \"Topic5\", \"Topic5\", \"Topic5\", \"Topic5\", \"Topic5\", \"Topic5\", \"Topic5\", \"Topic5\", \"Topic5\", \"Topic5\", \"Topic5\", \"Topic5\", \"Topic5\", \"Topic5\", \"Topic5\", \"Topic5\", \"Topic5\", \"Topic5\", \"Topic5\", \"Topic5\", \"Topic5\", \"Topic5\", \"Topic5\", \"Topic5\", \"Topic5\", \"Topic5\", \"Topic5\", \"Topic5\", \"Topic5\", \"Topic5\", \"Topic5\", \"Topic5\", \"Topic5\", \"Topic5\", \"Topic5\", \"Topic5\", \"Topic5\", \"Topic5\", \"Topic5\", \"Topic5\", \"Topic5\", \"Topic5\", \"Topic5\", \"Topic5\", \"Topic5\", \"Topic5\", \"Topic5\", \"Topic5\"], \"logprob\": [30.0, 29.0, 28.0, 27.0, 26.0, 25.0, 24.0, 23.0, 22.0, 21.0, 20.0, 19.0, 18.0, 17.0, 16.0, 15.0, 14.0, 13.0, 12.0, 11.0, 10.0, 9.0, 8.0, 7.0, 6.0, 5.0, 4.0, 3.0, 2.0, 1.0, -4.1141, -4.4015, -4.5089, -4.1536, -5.0108, -4.9922, -5.0963, -5.1859, -5.3241, -5.3574, -5.3593, -5.437, -5.4666, -5.4867, -5.4833, -5.5639, -5.4668, -5.6365, -5.6657, -5.6854, -5.72, -5.6927, -5.726, -5.7714, -5.7815, -5.8311, -5.8338, -5.9297, -5.9568, -5.9433, -4.5325, -5.4123, -3.6276, -4.0094, -4.1708, -2.6419, -4.6051, -4.8405, -5.0873, -5.1807, -5.153, -3.6602, -4.1311, -4.5759, -4.9238, -3.951, -4.9796, -4.7031, -5.0458, -5.1249, -5.2144, -5.2411, -5.2788, -4.4309, -4.9958, -4.3473, -5.0876, -5.1291, -4.7722, -5.1672, -5.1936, -5.2801, -5.2884, -5.2704, -5.3798, -5.3876, -5.3956, -5.3049, -5.4073, -5.4414, -5.4668, -5.5227, -5.5227, -5.5239, -5.5334, -5.5617, -5.5427, -5.5417, -5.6591, -5.6681, -5.5511, -5.6995, -5.7391, -4.6773, -4.9342, -3.8938, -4.2722, -4.6336, -5.071, -4.1051, -4.8492, -3.1731, -4.7941, -4.5907, -5.0927, -4.8046, -4.7201, -3.6772, -4.094, -4.9223, -5.0829, -4.8878, -5.0959, -4.7354, -5.1659, -5.0543, -4.3536, -4.4315, -4.7807, -4.1324, -4.9748, -4.4276, -5.0491, -5.0559, -5.0865, -4.9428, -5.1551, -5.2259, -5.2139, -5.2189, -5.2144, -5.0876, -5.2495, -5.2952, -5.3248, -5.3317, -5.3172, -5.1738, -5.3323, -5.3732, -5.3906, -5.4103, -5.5404, -5.5467, -5.6089, -5.605, -4.096, -3.5299, -3.8774, -4.2668, -2.6179, -5.1615, -5.0076, -4.4194, -4.7373, -4.9174, -5.0044, -4.5847, -4.6158, -4.5286, -4.7429, -5.0735, -4.6694, -4.9906, -4.9253, -4.5258, -4.1208, -4.0355, -4.5165, -4.7766, -4.7997, -4.9118, -4.924, -4.7011, -4.9423, -4.9739, -4.9288, -5.013, -5.0458, -5.1499, -5.1769, -5.1671, -5.1879, -5.2474, -5.2956, -5.302, -5.31, -5.3394, -5.4362, -5.4381, -4.6657, -5.5125, -5.5219, -5.5418, -5.5313, -5.5772, -5.109, -4.355, -4.1519, -2.7046, -4.5893, -2.8204, -4.8318, -4.7096, -3.9631, -4.4321, -4.419, -4.0729, -5.0489, -3.7636, -4.6548, -4.6496, -4.7544, -4.9137, -4.8741, -4.9657, -5.0045, -4.9396, -5.051, -5.0581, -5.1422, -5.1162, -5.2301, -5.2368, -5.2546, -5.29, -5.3225, -5.3304, -5.3852, -5.3854, -5.4487, -5.475, -5.4692, -5.4901, -5.4858, -5.5485, -5.4865, -5.5958, -5.5969, -4.6488, -4.3321, -4.6096, -4.5939, -4.1761, -3.7409, -4.7373, -3.5827, -4.5713, -4.0446, -3.7543, -4.9949, -4.7476, -4.6685, -4.8323, -5.1596, -5.0804, -4.927, -5.0351], \"loglift\": [30.0, 29.0, 28.0, 27.0, 26.0, 25.0, 24.0, 23.0, 22.0, 21.0, 20.0, 19.0, 18.0, 17.0, 16.0, 15.0, 14.0, 13.0, 12.0, 11.0, 10.0, 9.0, 8.0, 7.0, 6.0, 5.0, 4.0, 3.0, 2.0, 1.0, 1.284, 1.2818, 1.2806, 1.2802, 1.2726, 1.2725, 1.2709, 1.2681, 1.2653, 1.2641, 1.264, 1.2621, 1.2611, 1.2606, 1.2606, 1.258, 1.2569, 1.2549, 1.2544, 1.2533, 1.252, 1.2517, 1.2514, 1.2502, 1.2498, 1.2478, 1.2473, 1.2428, 1.2419, 1.2415, 1.2134, 1.207, 0.985, 0.9928, 0.957, 0.6599, 0.9047, 0.9341, 1.0217, 0.9851, 0.9584, 0.1183, 0.3509, 0.6131, 0.7786, -0.0061, 0.5915, 0.0137, 0.5385, 0.3567, 0.5544, 0.1638, 0.507, 1.4999, 1.4893, 1.4867, 1.486, 1.4857, 1.4847, 1.4846, 1.4838, 1.4814, 1.4811, 1.4806, 1.478, 1.4775, 1.4774, 1.4769, 1.4766, 1.4753, 1.4748, 1.4729, 1.4722, 1.4719, 1.4717, 1.4714, 1.4713, 1.47, 1.4659, 1.4657, 1.4654, 1.4641, 1.4626, 1.4447, 1.4227, 1.1933, 1.2548, 1.264, 1.3418, 1.0216, 1.2289, 0.6053, 1.1995, 0.9778, 1.2433, 1.0493, 0.8642, -0.3755, -0.1491, 0.8465, 1.0668, 0.7528, 1.0033, -0.1229, 0.963, -1.1608, 1.5867, 1.586, 1.5779, 1.5772, 1.5752, 1.5749, 1.5736, 1.5727, 1.5722, 1.571, 1.5708, 1.5687, 1.5686, 1.5682, 1.5678, 1.5677, 1.5674, 1.5656, 1.5648, 1.5648, 1.5645, 1.5643, 1.5638, 1.5629, 1.5622, 1.5621, 1.5564, 1.556, 1.554, 1.5535, 1.5488, 1.5126, 1.479, 1.4914, 1.2757, 1.5343, 1.4724, 1.2815, 1.3595, 1.4054, 1.3856, 1.0816, 1.09, 0.9666, 1.1119, 1.3972, 0.9017, 1.2565, 0.9798, -1.224, 1.8597, 1.8585, 1.8527, 1.846, 1.8454, 1.8421, 1.8421, 1.8419, 1.8413, 1.8399, 1.8397, 1.8384, 1.8378, 1.8338, 1.8324, 1.8323, 1.8319, 1.8297, 1.8272, 1.8271, 1.8262, 1.8255, 1.8206, 1.8205, 1.8163, 1.816, 1.8156, 1.8153, 1.8146, 1.8123, 1.8013, 1.6687, 1.5834, 1.2403, 1.5941, 0.4814, 1.4915, 1.26, 0.5189, 0.9727, 0.77, -0.2944, 0.7135, 1.8838, 1.869, 1.8689, 1.8661, 1.8616, 1.8605, 1.8601, 1.8586, 1.8571, 1.8569, 1.8558, 1.8533, 1.8509, 1.85, 1.8492, 1.8485, 1.8472, 1.8457, 1.8449, 1.8425, 1.8416, 1.8391, 1.8384, 1.8375, 1.8372, 1.8371, 1.8339, 1.831, 1.8301, 1.8296, 1.7172, 1.5848, 1.6284, 1.5785, 1.3055, 0.9759, 1.4318, 0.3109, 0.9972, 0.4374, 0.0241, 1.3676, 0.9583, 0.4581, 0.5726, 1.5456, 1.1238, 0.0752, 0.6055]}, \"token.table\": {\"Topic\": [3, 4, 4, 1, 1, 2, 3, 4, 5, 4, 3, 4, 4, 4, 1, 4, 5, 2, 5, 3, 5, 1, 3, 4, 4, 4, 5, 1, 2, 3, 4, 5, 1, 2, 2, 2, 1, 1, 3, 1, 2, 3, 4, 5, 1, 2, 3, 4, 5, 1, 2, 3, 4, 5, 4, 2, 5, 2, 4, 1, 3, 3, 5, 1, 4, 1, 2, 3, 5, 2, 5, 5, 1, 5, 1, 2, 3, 1, 1, 3, 5, 2, 3, 4, 1, 4, 2, 4, 3, 5, 1, 3, 1, 5, 2, 5, 3, 1, 3, 4, 2, 4, 4, 1, 2, 3, 4, 2, 1, 2, 5, 1, 4, 5, 1, 3, 5, 1, 2, 5, 3, 1, 5, 2, 2, 5, 2, 3, 5, 2, 3, 4, 1, 5, 1, 2, 2, 4, 1, 2, 4, 5, 4, 3, 4, 3, 3, 4, 1, 2, 5, 5, 4, 5, 5, 2, 3, 5, 2, 3, 3, 5, 3, 1, 4, 1, 2, 4, 2, 1, 1, 1, 3, 4, 1, 2, 1, 3, 1, 2, 1, 3, 5, 2, 3, 4, 5, 1, 2, 3, 5, 4, 3, 1, 2, 4, 5, 5, 1, 3, 5, 1, 2, 5, 3, 4, 1, 5, 4, 2, 1, 3, 5, 2, 5, 1, 1, 5, 3, 5, 3, 3, 1, 3, 5, 3, 4, 3, 5, 3, 3, 5, 1, 3, 5, 4, 3, 1, 1, 1, 2, 2, 1, 2, 5, 4, 5, 5, 5, 3, 4, 2, 1, 2, 4, 1, 5, 5, 3, 4, 3, 2, 3, 2, 1, 4, 2, 4, 5, 2, 2, 3, 1, 2, 3, 4, 5, 5, 1, 2, 2, 3, 2, 3, 5, 3, 4, 5, 1, 3, 1, 3, 5, 2, 1, 2, 5, 1, 3, 4, 2, 1, 5, 1, 3, 1, 2, 3, 5, 2, 3, 5, 1, 2, 5, 5, 1, 1, 4, 5, 1, 2, 4, 5, 1, 2, 1, 2, 2, 4, 2, 5, 1, 2, 4, 3, 4, 1, 2, 5, 5, 4, 2, 5, 1, 2, 3, 4, 2, 3], \"Freq\": [0.9610857796514903, 0.9533471526970417, 0.9677656142305816, 0.9764254134312789, 0.39067347587562784, 0.0849290164947017, 0.033971606597880684, 0.2590335003088402, 0.2335547953604297, 0.9589284413427597, 0.925827122554161, 0.9884013211779483, 0.9551170293990457, 0.9757778683307131, 0.9726382264038692, 0.22125823241197778, 0.7621116894190346, 0.7592848023313574, 0.2169385149518164, 0.8857495770345355, 0.11199132583195277, 0.20951883050892406, 0.02327987005654712, 0.7449558418095078, 0.9846800665676649, 0.25326593745519205, 0.736773636233286, 0.27300656445329646, 0.1886227172586412, 0.004963755717332663, 0.531121861754595, 0.0024818778586663316, 0.9882500473549489, 0.985567994722994, 0.9530253727581436, 0.9615107466800438, 0.9818609234467057, 0.15512867240660302, 0.8066690965143357, 0.3089033711015071, 0.4034656275611522, 0.018912451291929006, 0.11347470775157405, 0.15340099381231306, 0.5309657567235313, 0.1513317635870507, 0.05870628759842484, 0.24787099208223823, 0.010436673350831083, 0.2792719267768508, 0.12889473543546962, 0.10741227952955801, 0.0859298236236464, 0.3974254342593646, 0.9603209595758898, 0.9848562432305179, 0.9645485215324859, 0.944189332839322, 0.9588576373382397, 0.9847225125012266, 0.9728913213680235, 0.970213070544636, 0.9667749429463434, 0.9637356360993938, 0.9533372695427245, 0.7430328726436396, 0.07859001537576957, 0.021433640557028063, 0.16432457760388183, 0.5731271327323958, 0.41882367391982767, 0.9342836926600443, 0.971126011975146, 0.9253880619896264, 0.6960302466857864, 0.29387943748955425, 0.9740120588944772, 0.9389217949192757, 0.9746160382120165, 0.9717420611813772, 0.9758861497555228, 0.9592737177864531, 0.980969933674487, 0.965767553600191, 0.9900390356266604, 0.011000433729185116, 0.9440492991837429, 0.9529187430010047, 0.6064858992816153, 0.38988379239532417, 0.9589489475764993, 0.9792288528118107, 0.9413650741808652, 0.9683957214938601, 0.9742571968838415, 0.9438623942430209, 0.9649296208940411, 0.978562418012614, 0.9827369758628779, 0.9672065003960216, 0.9770390682260013, 0.0250522838006667, 0.981117671224965, 0.9791275366641387, 0.7728172440636516, 0.012075269438494556, 0.20527958045440747, 0.9675534148247076, 0.14563761151985782, 0.6149143597505108, 0.2346383741153265, 0.32058951599882163, 0.4060800535985074, 0.26715792999901805, 0.3700727762544944, 0.5286753946492777, 0.08811256577487962, 0.08306855243095997, 0.9137540767405596, 0.9456224644528557, 0.9752877388300881, 0.8999056736119567, 0.07199245388895653, 0.9544432628041535, 0.9683967088853749, 0.016413503540430082, 0.9433787687783215, 0.9707599402902084, 0.9941959774996568, 0.24095458728929706, 0.053545463842066016, 0.6693182980258252, 0.1397201727878837, 0.8383210367273023, 0.2304753695511904, 0.7542830276220777, 0.9757426689553489, 0.9881167524876634, 0.39726751058533366, 0.24447231420635918, 0.30559039275794897, 0.045838558913692345, 0.9611487877035929, 0.9326566170592908, 0.03886069237747045, 0.9298596420067621, 0.9736156663434925, 0.9619816273363787, 0.39232774056202974, 0.0461562047720035, 0.553874457264042, 0.9735876092228456, 0.9317748709620067, 0.9682609654309958, 0.9815629790616021, 0.024810311018832597, 0.7194990195461453, 0.27291342120715856, 0.25863135329963616, 0.7327888343489691, 0.801341612752782, 0.17171605987559616, 0.9859956209460733, 0.9871483777607878, 0.9750473797020579, 0.7355102375859935, 0.1935553256805246, 0.06774436398818362, 0.9666374507755596, 0.9891299436226212, 0.9783002092398712, 0.28489679424206876, 0.6200694933503849, 0.08379317477707904, 0.9776033255239523, 0.9669098808157848, 0.7562713790327986, 0.21607753686651388, 0.4731138792991673, 0.5242613257098881, 0.4921747037284313, 0.4921747037284313, 0.9763689756589635, 0.06837382625841348, 0.7214617529336044, 0.002357718146841844, 0.20512147877524045, 0.9466644835419507, 0.5991526983179382, 0.38516959177581744, 0.9694909868078901, 0.9331566691560573, 0.9495494461140447, 0.11278866686098, 0.31956788943944336, 0.5451452231614033, 0.03759622228699334, 0.936832210293865, 0.7128260647740204, 0.17010622000289125, 0.11340414666859416, 0.6764927605031719, 0.13055123448306824, 0.17802441065872943, 0.0481557805575377, 0.9149598305932163, 0.916799560910996, 0.06011800399416368, 0.9787225346225547, 0.9595289884019229, 0.9758770395974596, 0.8769052310829412, 0.09395413190174369, 0.3442337474541633, 0.619620745417494, 0.945052975699774, 0.9740384852140231, 0.9407154729600695, 0.8976848804904218, 0.09128998784648357, 0.9624523906880352, 0.934005432093647, 0.08182095580408519, 0.9149070512638617, 0.9677176435763646, 0.9736020862182163, 0.9846474241409623, 0.9509489443935126, 0.04075495475972197, 0.9746237637368427, 0.8295974376253835, 0.16056724599200972, 0.9505150220591063, 0.9865689237881965, 0.9264672644931283, 0.9760169204701213, 0.9283813430169982, 0.9689515175333987, 0.9688518300165838, 0.25030187928699565, 0.7316516471466027, 0.9635069957858541, 0.2435043937599529, 0.4734807656443528, 0.2705604375110588, 0.9476478819843803, 0.913157714860246, 0.9259807755340147, 0.9731340794479096, 0.031379117710087646, 0.9413735313026294, 0.9739931515686585, 0.47669779709113097, 0.5074524936776555, 0.957020316280555, 0.9732169220727597, 0.9457925385603703, 0.97012288684464, 0.9713220732186476, 0.019426441464372952, 0.9499093033305656, 0.014493845285843965, 0.9710876341515456, 0.9666041384307335, 0.2379354152495676, 0.7435481726548987, 0.9945573996559025, 0.9596848852109141, 0.9665787325191817, 0.9639101369337614, 0.9439844718710406, 0.9858100815306465, 0.3376283287449897, 0.6302395469906474, 0.3898170262741742, 0.02784407330529816, 0.5847255394112614, 0.9415274342607565, 0.9784710421039845, 0.9537121526419415, 0.9628924448450483, 0.9388716834847926, 0.9621007911020556, 0.9744297558175881, 0.9608226762104385, 0.7897936793716779, 0.14942042582707418, 0.04269155023630691, 0.40249202856569505, 0.5967985251146513, 0.7148570989040508, 0.1299740179825547, 0.1299740179825547, 0.9800561050035478, 0.21000134883086646, 0.7233379793063178, 0.05444479414133575, 0.508112458312237, 0.1550173601630553, 0.327258871455339, 0.9692560089919154, 0.7319298606702546, 0.2516008896054, 0.9628885323447108, 0.9433415481852068, 0.11883536312613495, 0.30897194412795087, 0.09506829050090795, 0.4515743798793128, 0.7871364243129542, 0.20990304648345445, 0.9498968762784301, 0.039226689281384425, 0.23536013568830658, 0.7060804070649197, 0.9677574110796662, 0.9783524269789015, 0.14265796065997474, 0.10699347049498105, 0.7311220483823705, 0.4536300658133085, 0.06256966425011153, 0.2502786570004461, 0.2346362409379182, 0.9697732252418234, 0.9549666849418119, 0.3683507282564599, 0.6362421669884308, 0.17858576809001514, 0.8135573879656245, 0.5789513792288197, 0.4027487855504832, 0.14639654134273192, 0.8490999397878451, 0.9671248768171676, 0.9546125184693969, 0.9511013248407509, 0.6044196103828603, 0.23025508966966107, 0.158300374147892, 0.9349041026085102, 0.9672640124668366, 0.9305548640744948, 0.9305315744157967, 0.2339485476208148, 0.03509228214312222, 0.5263842321468333, 0.19885626547769258, 0.9413820528409154, 0.043785211760042575], \"Term\": [\"12\", \"15\", \"30\", \"amazing\", \"amp\", \"amp\", \"amp\", \"amp\", \"amp\", \"apartment\", \"aren\", \"art\", \"beach\", \"beautiful\", \"bed\", \"best\", \"best\", \"better\", \"better\", \"biden\", \"biden\", \"birthday\", \"birthday\", \"birthday\", \"bitch\", \"black\", \"black\", \"blunt\", \"blunt\", \"blunt\", \"blunt\", \"blunt\", \"blunts\", \"book\", \"bought\", \"boy\", \"buy\", \"cake\", \"cake\", \"cali\", \"cali\", \"cali\", \"cali\", \"cali\", \"candle\", \"candle\", \"candle\", \"candle\", \"candle\", \"cannabis\", \"cannabis\", \"cannabis\", \"cannabis\", \"cannabis\", \"cat\", \"change\", \"city\", \"clean\", \"coffee\", \"coming\", \"convicted\", \"conviction\", \"da\", \"damn\", \"dark\", \"day\", \"day\", \"day\", \"day\", \"deeper\", \"deeper\", \"didn\", \"different\", \"dinner\", \"don\", \"don\", \"dream\", \"drink\", \"dropped\", \"drug\", \"enjoy\", \"expensive\", \"experience\", \"face\", \"fall\", \"fall\", \"fan\", \"fat\", \"federal\", \"federal\", \"feel\", \"finally\", \"fine\", \"flame\", \"food\", \"forest\", \"free\", \"fuck\", \"fucking\", \"game\", \"getting\", \"getting\", \"gift\", \"girl\", \"going\", \"going\", \"going\", \"gonna\", \"good\", \"good\", \"good\", \"got\", \"got\", \"got\", \"great\", \"great\", \"great\", \"green\", \"green\", \"gt\", \"guess\", \"guy\", \"guy\", \"hand\", \"happy\", \"happy\", \"head\", \"help\", \"hey\", \"hit\", \"hit\", \"hit\", \"hold\", \"hold\", \"home\", \"home\", \"hour\", \"house\", \"im\", \"im\", \"im\", \"im\", \"inside\", \"issue\", \"issue\", \"jail\", \"jeff\", \"kid\", \"know\", \"know\", \"know\", \"la\", \"leave\", \"led\", \"legal\", \"legalize\", \"legalize\", \"legalize\", \"let\", \"let\", \"level\", \"level\", \"life\", \"light\", \"lighting\", \"like\", \"like\", \"like\", \"line\", \"lit\", \"little\", \"ll\", \"ll\", \"ll\", \"lol\", \"long\", \"look\", \"look\", \"love\", \"love\", \"make\", \"make\", \"man\", \"marijuana\", \"marijuana\", \"marijuana\", \"marijuana\", \"maybe\", \"mean\", \"mean\", \"medical\", \"men\", \"month\", \"morning\", \"morning\", \"morning\", \"morning\", \"motherhood\", \"need\", \"need\", \"need\", \"new\", \"new\", \"new\", \"nice\", \"nice\", \"night\", \"night\", \"nightmare\", \"obsessed\", \"october\", \"offense\", \"offense\", \"oh\", \"oh\", \"old\", \"open\", \"pa\", \"pardon\", \"pardon\", \"pardoned\", \"party\", \"people\", \"people\", \"place\", \"play\", \"pls\", \"possession\", \"possession\", \"post\", \"president\", \"president\", \"price\", \"prison\", \"program\", \"pumpkin\", \"putting\", \"queen\", \"ready\", \"really\", \"really\", \"recreational\", \"right\", \"right\", \"right\", \"river\", \"rolled\", \"rolling\", \"room\", \"rotation\", \"rotation\", \"sale\", \"say\", \"say\", \"scent\", \"season\", \"second\", \"sex\", \"simple\", \"simple\", \"sin\", \"smell\", \"smell\", \"smelling\", \"smoke\", \"smoke\", \"smoking\", \"son\", \"soon\", \"space\", \"speaking\", \"spy\", \"start\", \"start\", \"step\", \"step\", \"step\", \"stop\", \"store\", \"sunday\", \"support\", \"talking\", \"team\", \"tell\", \"texas\", \"thank\", \"thank\", \"thank\", \"thing\", \"thing\", \"think\", \"think\", \"think\", \"tho\", \"time\", \"time\", \"time\", \"today\", \"today\", \"today\", \"tomorrow\", \"tonight\", \"tonight\", \"trip\", \"true\", \"use\", \"use\", \"use\", \"use\", \"ve\", \"ve\", \"vega\", \"vote\", \"vote\", \"vote\", \"waiting\", \"walk\", \"wanna\", \"wanna\", \"wanna\", \"want\", \"want\", \"want\", \"want\", \"watching\", \"water\", \"way\", \"way\", \"weed\", \"weed\", \"week\", \"week\", \"weekend\", \"weekend\", \"white\", \"win\", \"woman\", \"work\", \"work\", \"work\", \"working\", \"ya\", \"yall\", \"yeah\", \"year\", \"year\", \"year\", \"year\", \"yes\", \"yes\"]}, \"R\": 30, \"lambda.step\": 0.01, \"plot.opts\": {\"xlab\": \"PC1\", \"ylab\": \"PC2\"}, \"topic.order\": [5, 4, 2, 1, 3]};\n",
       "\n",
       "function LDAvis_load_lib(url, callback){\n",
       "  var s = document.createElement('script');\n",
       "  s.src = url;\n",
       "  s.async = true;\n",
       "  s.onreadystatechange = s.onload = callback;\n",
       "  s.onerror = function(){console.warn(\"failed to load library \" + url);};\n",
       "  document.getElementsByTagName(\"head\")[0].appendChild(s);\n",
       "}\n",
       "\n",
       "if(typeof(LDAvis) !== \"undefined\"){\n",
       "   // already loaded: just create the visualization\n",
       "   !function(LDAvis){\n",
       "       new LDAvis(\"#\" + \"ldavis_el2389620457579423528170092382\", ldavis_el2389620457579423528170092382_data);\n",
       "   }(LDAvis);\n",
       "}else if(typeof define === \"function\" && define.amd){\n",
       "   // require.js is available: use it to load d3/LDAvis\n",
       "   require.config({paths: {d3: \"https://d3js.org/d3.v5\"}});\n",
       "   require([\"d3\"], function(d3){\n",
       "      window.d3 = d3;\n",
       "      LDAvis_load_lib(\"https://cdn.jsdelivr.net/gh/bmabey/pyLDAvis@3.3.1/pyLDAvis/js/ldavis.v3.0.0.js\", function(){\n",
       "        new LDAvis(\"#\" + \"ldavis_el2389620457579423528170092382\", ldavis_el2389620457579423528170092382_data);\n",
       "      });\n",
       "    });\n",
       "}else{\n",
       "    // require.js not available: dynamically load d3 & LDAvis\n",
       "    LDAvis_load_lib(\"https://d3js.org/d3.v5.js\", function(){\n",
       "         LDAvis_load_lib(\"https://cdn.jsdelivr.net/gh/bmabey/pyLDAvis@3.3.1/pyLDAvis/js/ldavis.v3.0.0.js\", function(){\n",
       "                 new LDAvis(\"#\" + \"ldavis_el2389620457579423528170092382\", ldavis_el2389620457579423528170092382_data);\n",
       "            })\n",
       "         });\n",
       "}\n",
       "</script>"
      ],
      "text/plain": [
       "<IPython.core.display.HTML object>"
      ]
     },
     "execution_count": 50,
     "metadata": {},
     "output_type": "execute_result"
    }
   ],
   "source": [
    "panel = pyLDAvis.sklearn.prepare(ldaModel, tf, tfVectorizer, mds='tsne')\n",
    "pyLDAvis.display(panel)"
   ]
  },
  {
   "cell_type": "code",
   "execution_count": null,
   "metadata": {},
   "outputs": [],
   "source": []
  }
 ],
 "metadata": {
  "kernelspec": {
   "display_name": "Python 3",
   "language": "python",
   "name": "python3"
  },
  "language_info": {
   "codemirror_mode": {
    "name": "ipython",
    "version": 3
   },
   "file_extension": ".py",
   "mimetype": "text/x-python",
   "name": "python",
   "nbconvert_exporter": "python",
   "pygments_lexer": "ipython3",
   "version": "3.8.5"
  }
 },
 "nbformat": 4,
 "nbformat_minor": 4
}
