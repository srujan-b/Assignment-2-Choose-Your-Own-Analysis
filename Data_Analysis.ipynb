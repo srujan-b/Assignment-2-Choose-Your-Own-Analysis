{
 "cells": [
  {
   "cell_type": "code",
   "execution_count": null,
   "metadata": {},
   "outputs": [],
   "source": [
    "pip install pyLDAvis"
   ]
  },
  {
   "cell_type": "code",
   "execution_count": 56,
   "metadata": {},
   "outputs": [],
   "source": [
    "import snscrape.modules.twitter as sntwitter\n",
    "import pandas as pd\n",
    "import re\n",
    "import nltk\n",
    "import matplotlib.pyplot as plt\n",
    "import seaborn as sns\n",
    "from collections import Counter\n",
    "import string\n",
    "from sklearn.feature_extraction.text import CountVectorizer\n",
    "from sklearn.decomposition import LatentDirichletAllocation\n",
    "import pyLDAvis.sklearn\n",
    "import numpy as np\n",
    "import math\n",
    "from wordcloud import WordCloud\n"
   ]
  },
  {
   "cell_type": "code",
   "execution_count": 52,
   "metadata": {},
   "outputs": [],
   "source": [
    "wordList = ['cannabis','marijuana','bammer','BC bud','blunt','bomb','bone','boo','boo-yah','bubonic chronic','bud','buddha','burger','Cali','candle','cheeba','chiba','chief','chiefs','chino','choke','chronic','cigga-weed','cigweed','clickem','colitas','combustible herbage','crippy','cronick','dank',\"Devil's lettuce\",' the','dirt weed','ditch weed','doja','dolja','doob','doober','doobie','dope','drat','draw','dro','dub','dube','Dutchie','endo','erve','fatty','fatty boom blatty','gange','ganja','ganje','giggle stick','gonj','grass','green','green bud','heim','herb','herbal refreshment','hippie lettuce','hog leg','hooter','hydro','indica','indo','j','jay','jib','joint','keef','kief','kill','kind bud','la la','left-handed cigarette','limbo','loud','Mary Jane','Mexican dirt weed','mighty mez','MJ','mota','Mr. J','nib','nugget','onion','paca lolo','pakaloco','pakalolo','pato','pot','purp','reefer','reggie','reggs','roach','schwag','shake','shwag','sinse','sinsemilla','skater','skunk weed','smoke','spliff','spliffy','sticky icky icky','sweet','tea',\n",
    "'Thai stick','tical','toke','treats','trees','tunechi','tweed','wacky tobaccy','weed','whifty','woolies','zombie/20','4:20','bake','bake-out','blaze','boge','bug out','bun',\n",
    "'celebrate 4-20','chief','chief out','choke','chokker','crossfade','dirp','ent','fire it up','get blazed','get high','get right','go up to bat','green','hotbox','load a fat one',\n",
    "'MacGyver smoker','poke smot','puff','puff',' puff',' give','pull bong','session','shotgun','smoke','smoke dope','smoke out','smoke pot','smoke up','spark','spark it up','spark up',\n",
    "'tea time','toke','toke up','torch up','wake and bake','baked','blazed','blitzed','blown','blown out','blunted','bread','burned','caned','carmelyzed','crossfade','crunched','crunk','dankrupt','faded','flame-broiled','geeked','high','high as a kite','hurt','in like Flint','keyed','krunked','lifted','lit','lit up','low','munchies','on the choongs',\n",
    "\"out of (one's) element\",'pot-head','red','ripped','sketch','skunt','sloppy','smoked','stoned','strunk','stuck','tall','zoned', 'ATMed','bat','batty','bong','bowl','cashed','chillum','chipper','dug out','head shop','one hitter','oney bat','piece','pinch hitter','pinchie','roach clip','sploof','spoof','toke']"
   ]
  },
  {
   "cell_type": "code",
   "execution_count": null,
   "metadata": {},
   "outputs": [],
   "source": [
    "tweets = []\n",
    "df=[]"
   ]
  },
  {
   "cell_type": "code",
   "execution_count": null,
   "metadata": {},
   "outputs": [],
   "source": [
    "for word in wordList :\n",
    "    dates = ' lang:en until:2022-10-15 since:2022-04-15 -filter:replies'\n",
    "    query = str(word) + dates\n",
    "    print(query)\n",
    "    for i,tweet in enumerate(sntwitter.TwitterSearchScraper(query).get_items()):\n",
    "        if len(tweets) > 10000:\n",
    "            break\n",
    "        else:\n",
    "            tweets.append([tweet.date,tweet.user.username,tweet.content,tweet.hashtags,tweet.user.location])\n",
    "df = pd.DataFrame(tweets,columns = ['Date','User','Tweet','Hashtags','Location'])"
   ]
  },
  {
   "cell_type": "code",
   "execution_count": null,
   "metadata": {},
   "outputs": [],
   "source": [
    "df.head()"
   ]
  },
  {
   "cell_type": "code",
   "execution_count": null,
   "metadata": {},
   "outputs": [],
   "source": [
    "df.info()"
   ]
  },
  {
   "cell_type": "code",
   "execution_count": null,
   "metadata": {},
   "outputs": [],
   "source": [
    "csv_data = df.to_csv('data.csv', index = True)"
   ]
  },
  {
   "cell_type": "code",
   "execution_count": 57,
   "metadata": {},
   "outputs": [
    {
     "data": {
      "text/html": [
       "<div>\n",
       "<style scoped>\n",
       "    .dataframe tbody tr th:only-of-type {\n",
       "        vertical-align: middle;\n",
       "    }\n",
       "\n",
       "    .dataframe tbody tr th {\n",
       "        vertical-align: top;\n",
       "    }\n",
       "\n",
       "    .dataframe thead th {\n",
       "        text-align: right;\n",
       "    }\n",
       "</style>\n",
       "<table border=\"1\" class=\"dataframe\">\n",
       "  <thead>\n",
       "    <tr style=\"text-align: right;\">\n",
       "      <th></th>\n",
       "      <th>Date</th>\n",
       "      <th>User</th>\n",
       "      <th>Tweet</th>\n",
       "      <th>Hashtags</th>\n",
       "      <th>Location</th>\n",
       "    </tr>\n",
       "  </thead>\n",
       "  <tbody>\n",
       "    <tr>\n",
       "      <th>0</th>\n",
       "      <td>2022-10-14 23:59:49+00:00</td>\n",
       "      <td>ShadAhmadKhan5</td>\n",
       "      <td>SHE IS MY WIFE MEHWISH Cannabis Smoker https:/...</td>\n",
       "      <td>NaN</td>\n",
       "      <td>NaN</td>\n",
       "    </tr>\n",
       "    <tr>\n",
       "      <th>1</th>\n",
       "      <td>2022-10-14 23:58:12+00:00</td>\n",
       "      <td>EvEnergy2030</td>\n",
       "      <td>Aurora Cannabis Inc. $ACB Stock Rose Thursday,...</td>\n",
       "      <td>NaN</td>\n",
       "      <td>Seattle, Washington</td>\n",
       "    </tr>\n",
       "    <tr>\n",
       "      <th>2</th>\n",
       "      <td>2022-10-14 23:57:07+00:00</td>\n",
       "      <td>TempleGrower</td>\n",
       "      <td>Some absolutely CAKED Fuel D.OG from @Seedsman...</td>\n",
       "      <td>['GrowYourOwn', 'Cannabis']</td>\n",
       "      <td>Treaty 6 Territory</td>\n",
       "    </tr>\n",
       "    <tr>\n",
       "      <th>3</th>\n",
       "      <td>2022-10-14 23:56:48+00:00</td>\n",
       "      <td>MMPconnection</td>\n",
       "      <td>#cannabiscommunity #marijuana #cannabis Alarmi...</td>\n",
       "      <td>['cannabiscommunity', 'marijuana', 'cannabis']</td>\n",
       "      <td>NaN</td>\n",
       "    </tr>\n",
       "    <tr>\n",
       "      <th>4</th>\n",
       "      <td>2022-10-14 23:56:47+00:00</td>\n",
       "      <td>MMPconnection</td>\n",
       "      <td>#cannabiscommunity #marijuana #cannabis Campai...</td>\n",
       "      <td>['cannabiscommunity', 'marijuana', 'cannabis']</td>\n",
       "      <td>NaN</td>\n",
       "    </tr>\n",
       "  </tbody>\n",
       "</table>\n",
       "</div>"
      ],
      "text/plain": [
       "                        Date            User  \\\n",
       "0  2022-10-14 23:59:49+00:00  ShadAhmadKhan5   \n",
       "1  2022-10-14 23:58:12+00:00    EvEnergy2030   \n",
       "2  2022-10-14 23:57:07+00:00    TempleGrower   \n",
       "3  2022-10-14 23:56:48+00:00   MMPconnection   \n",
       "4  2022-10-14 23:56:47+00:00   MMPconnection   \n",
       "\n",
       "                                               Tweet  \\\n",
       "0  SHE IS MY WIFE MEHWISH Cannabis Smoker https:/...   \n",
       "1  Aurora Cannabis Inc. $ACB Stock Rose Thursday,...   \n",
       "2  Some absolutely CAKED Fuel D.OG from @Seedsman...   \n",
       "3  #cannabiscommunity #marijuana #cannabis Alarmi...   \n",
       "4  #cannabiscommunity #marijuana #cannabis Campai...   \n",
       "\n",
       "                                         Hashtags             Location  \n",
       "0                                             NaN                  NaN  \n",
       "1                                             NaN  Seattle, Washington  \n",
       "2                     ['GrowYourOwn', 'Cannabis']   Treaty 6 Territory  \n",
       "3  ['cannabiscommunity', 'marijuana', 'cannabis']                  NaN  \n",
       "4  ['cannabiscommunity', 'marijuana', 'cannabis']                  NaN  "
      ]
     },
     "execution_count": 57,
     "metadata": {},
     "output_type": "execute_result"
    }
   ],
   "source": [
    "tweet_df = pd.read_csv('data1.csv')\n",
    "tweet_df.head()"
   ]
  },
  {
   "cell_type": "code",
   "execution_count": 58,
   "metadata": {},
   "outputs": [
    {
     "name": "stdout",
     "output_type": "stream",
     "text": [
      "<class 'pandas.core.frame.DataFrame'>\n",
      "RangeIndex: 10001 entries, 0 to 10000\n",
      "Data columns (total 5 columns):\n",
      " #   Column    Non-Null Count  Dtype \n",
      "---  ------    --------------  ----- \n",
      " 0   Date      10001 non-null  object\n",
      " 1   User      10001 non-null  object\n",
      " 2   Tweet     10001 non-null  object\n",
      " 3   Hashtags  4638 non-null   object\n",
      " 4   Location  7301 non-null   object\n",
      "dtypes: object(5)\n",
      "memory usage: 390.8+ KB\n"
     ]
    }
   ],
   "source": [
    "tweet_df.info()"
   ]
  },
  {
   "cell_type": "code",
   "execution_count": 62,
   "metadata": {},
   "outputs": [],
   "source": [
    "tweet_df[\"Location\"].fillna(\"No Location\", inplace = True)\n",
    "tweet_df[\"Hashtags\"].fillna(\"No Hashtag\", inplace = True)"
   ]
  },
  {
   "cell_type": "code",
   "execution_count": 63,
   "metadata": {},
   "outputs": [
    {
     "data": {
      "text/html": [
       "<div>\n",
       "<style scoped>\n",
       "    .dataframe tbody tr th:only-of-type {\n",
       "        vertical-align: middle;\n",
       "    }\n",
       "\n",
       "    .dataframe tbody tr th {\n",
       "        vertical-align: top;\n",
       "    }\n",
       "\n",
       "    .dataframe thead th {\n",
       "        text-align: right;\n",
       "    }\n",
       "</style>\n",
       "<table border=\"1\" class=\"dataframe\">\n",
       "  <thead>\n",
       "    <tr style=\"text-align: right;\">\n",
       "      <th></th>\n",
       "      <th>Date</th>\n",
       "      <th>User</th>\n",
       "      <th>Tweet</th>\n",
       "      <th>Hashtags</th>\n",
       "      <th>Location</th>\n",
       "    </tr>\n",
       "  </thead>\n",
       "  <tbody>\n",
       "    <tr>\n",
       "      <th>0</th>\n",
       "      <td>2022-10-14 23:59:49+00:00</td>\n",
       "      <td>ShadAhmadKhan5</td>\n",
       "      <td>SHE IS MY WIFE MEHWISH Cannabis Smoker https:/...</td>\n",
       "      <td>No Hashtag</td>\n",
       "      <td>No Location</td>\n",
       "    </tr>\n",
       "    <tr>\n",
       "      <th>1</th>\n",
       "      <td>2022-10-14 23:58:12+00:00</td>\n",
       "      <td>EvEnergy2030</td>\n",
       "      <td>Aurora Cannabis Inc. $ACB Stock Rose Thursday,...</td>\n",
       "      <td>No Hashtag</td>\n",
       "      <td>Seattle, Washington</td>\n",
       "    </tr>\n",
       "    <tr>\n",
       "      <th>2</th>\n",
       "      <td>2022-10-14 23:57:07+00:00</td>\n",
       "      <td>TempleGrower</td>\n",
       "      <td>Some absolutely CAKED Fuel D.OG from @Seedsman...</td>\n",
       "      <td>['GrowYourOwn', 'Cannabis']</td>\n",
       "      <td>Treaty 6 Territory</td>\n",
       "    </tr>\n",
       "    <tr>\n",
       "      <th>3</th>\n",
       "      <td>2022-10-14 23:56:48+00:00</td>\n",
       "      <td>MMPconnection</td>\n",
       "      <td>#cannabiscommunity #marijuana #cannabis Alarmi...</td>\n",
       "      <td>['cannabiscommunity', 'marijuana', 'cannabis']</td>\n",
       "      <td>No Location</td>\n",
       "    </tr>\n",
       "    <tr>\n",
       "      <th>4</th>\n",
       "      <td>2022-10-14 23:56:47+00:00</td>\n",
       "      <td>MMPconnection</td>\n",
       "      <td>#cannabiscommunity #marijuana #cannabis Campai...</td>\n",
       "      <td>['cannabiscommunity', 'marijuana', 'cannabis']</td>\n",
       "      <td>No Location</td>\n",
       "    </tr>\n",
       "  </tbody>\n",
       "</table>\n",
       "</div>"
      ],
      "text/plain": [
       "                        Date            User  \\\n",
       "0  2022-10-14 23:59:49+00:00  ShadAhmadKhan5   \n",
       "1  2022-10-14 23:58:12+00:00    EvEnergy2030   \n",
       "2  2022-10-14 23:57:07+00:00    TempleGrower   \n",
       "3  2022-10-14 23:56:48+00:00   MMPconnection   \n",
       "4  2022-10-14 23:56:47+00:00   MMPconnection   \n",
       "\n",
       "                                               Tweet  \\\n",
       "0  SHE IS MY WIFE MEHWISH Cannabis Smoker https:/...   \n",
       "1  Aurora Cannabis Inc. $ACB Stock Rose Thursday,...   \n",
       "2  Some absolutely CAKED Fuel D.OG from @Seedsman...   \n",
       "3  #cannabiscommunity #marijuana #cannabis Alarmi...   \n",
       "4  #cannabiscommunity #marijuana #cannabis Campai...   \n",
       "\n",
       "                                         Hashtags             Location  \n",
       "0                                      No Hashtag          No Location  \n",
       "1                                      No Hashtag  Seattle, Washington  \n",
       "2                     ['GrowYourOwn', 'Cannabis']   Treaty 6 Territory  \n",
       "3  ['cannabiscommunity', 'marijuana', 'cannabis']          No Location  \n",
       "4  ['cannabiscommunity', 'marijuana', 'cannabis']          No Location  "
      ]
     },
     "execution_count": 63,
     "metadata": {},
     "output_type": "execute_result"
    }
   ],
   "source": [
    "\n",
    "tweet_df.head()"
   ]
  },
  {
   "cell_type": "code",
   "execution_count": 64,
   "metadata": {},
   "outputs": [],
   "source": [
    "#function to extract hashtags from text\n",
    "def hashtag_extract(x):\n",
    "    # @x : text parameter to the function \n",
    "    hashtags = []\n",
    "    for i in x:\n",
    "        # re for finding hashtags\n",
    "        ht = re.findall(r\"#(\\w+)\", i)\n",
    "        # storing hashtags in list\n",
    "        hashtags.append(ht)\n",
    "    # returns hashtags from the function\n",
    "    return hashtags"
   ]
  },
  {
   "cell_type": "code",
   "execution_count": 65,
   "metadata": {},
   "outputs": [],
   "source": [
    "#storing the hashtags in list\n",
    "hashtags_text = hashtag_extract(tweet_df['Tweet'])"
   ]
  },
  {
   "cell_type": "code",
   "execution_count": 66,
   "metadata": {},
   "outputs": [],
   "source": [
    "# getting sum of the hashtags\n",
    "hashtags_text = sum(hashtags_text,[])"
   ]
  },
  {
   "cell_type": "code",
   "execution_count": 67,
   "metadata": {},
   "outputs": [
    {
     "data": {
      "image/png": "[encoded data removed]",
      "text/plain": [
       "<Figure size 1152x360 with 1 Axes>"
      ]
     },
     "metadata": {
      "needs_background": "light"
     },
     "output_type": "display_data"
    }
   ],
   "source": [
    "a = nltk.FreqDist(hashtags_text)\n",
    "n_largest_hashtags = pd.DataFrame({'Hashtag': list(a.keys()),\n",
    "                  'Count': list(a.values())})\n",
    "# selecting top 10 most frequent hashtags     \n",
    "n_largest_hashtags = n_largest_hashtags.nlargest(columns=\"Count\", n = 10) \n",
    "plt.figure(figsize=(16,5))\n",
    "ax = sns.barplot(data=n_largest_hashtags, x= \"Hashtag\", y = \"Count\")\n",
    "ax.set(ylabel = 'Count')\n",
    "plt.show()"
   ]
  },
  {
   "cell_type": "code",
   "execution_count": 68,
   "metadata": {},
   "outputs": [],
   "source": [
    "def remove_url(text):\n",
    "    \"\"\"\n",
    "    Removes the url from the text which is essential\n",
    "    step for data preprocessing\n",
    "    @ param text: twitter text\n",
    "    \"\"\"\n",
    "    url_pattern = re.compile(r'https?://\\S+|www\\.\\S+')\n",
    "    return url_pattern.sub(r'',text)\n",
    "tweet_df['Tweet'] = tweet_df['Tweet'].apply(lambda text:remove_url(text))"
   ]
  },
  {
   "cell_type": "code",
   "execution_count": 69,
   "metadata": {},
   "outputs": [
    {
     "data": {
      "text/plain": [
       "0                  SHE IS MY WIFE MEHWISH Cannabis Smoker \n",
       "1        Aurora Cannabis Inc. $ACB Stock Rose Thursday,...\n",
       "2        Some absolutely CAKED Fuel D.OG from @Seedsman...\n",
       "3        #cannabiscommunity #marijuana #cannabis Alarmi...\n",
       "4        #cannabiscommunity #marijuana #cannabis Campai...\n",
       "                               ...                        \n",
       "9996     I must confess the Animal Justice Party are my...\n",
       "9997     You can watch todays show on #YouTube with the...\n",
       "9998     Team 2: another proactive stop in Bordesley Gr...\n",
       "9999     Ricky Williams talks Mike Ditka, his \"interest...\n",
       "10000    The Virtuoso Recycler Bong\\n\\n\\n\\n#bong #bongs...\n",
       "Name: Tweet, Length: 10001, dtype: object"
      ]
     },
     "execution_count": 69,
     "metadata": {},
     "output_type": "execute_result"
    }
   ],
   "source": [
    "tweet_df['Tweet']"
   ]
  },
  {
   "cell_type": "code",
   "execution_count": 70,
   "metadata": {},
   "outputs": [],
   "source": [
    "def remove_hashtag(text):\n",
    "    \"\"\"\n",
    "    Function to remove the #hastag of users from the text.\n",
    "    #hashtags are not useful information in nlp and hence it is good \n",
    "    practice to remove them during data preprocessing\n",
    "    \n",
    "    @ param text: twitter text\n",
    "    It subtitutes the #hashtags with empty string\n",
    "    \"\"\"\n",
    "    regular = re.findall(r'#[\\w]*',text)\n",
    "    for mentions in regular:\n",
    "        text = re.sub(mentions,\"\",text)\n",
    "    return text"
   ]
  },
  {
   "cell_type": "code",
   "execution_count": 71,
   "metadata": {},
   "outputs": [],
   "source": [
    "#applying the function to remove @users from whole column\n",
    "tweet_df['Tweet'] = tweet_df['Tweet'].apply(lambda text:remove_hashtag(str(text)))"
   ]
  },
  {
   "cell_type": "code",
   "execution_count": 72,
   "metadata": {},
   "outputs": [],
   "source": [
    "#function to extract mentions from text\n",
    "def mentions(x):\n",
    "    # @x : text parameter to the function \n",
    "    mentions = []\n",
    "    for i in x:\n",
    "        # re for finding mentions\n",
    "        ht = re.findall(r'@[\\w]*', i)\n",
    "        # storing hashtags in list\n",
    "        mentions.append(ht)\n",
    "    # returns mentions from the function\n",
    "    return mentions"
   ]
  },
  {
   "cell_type": "code",
   "execution_count": 73,
   "metadata": {},
   "outputs": [],
   "source": [
    "#storing the mentions in list\n",
    "mentions = mentions(tweet_df['Tweet'])"
   ]
  },
  {
   "cell_type": "code",
   "execution_count": 74,
   "metadata": {},
   "outputs": [],
   "source": [
    "# getting sum of the mentions\n",
    "mentions = sum(mentions,[])"
   ]
  },
  {
   "cell_type": "code",
   "execution_count": 76,
   "metadata": {},
   "outputs": [
    {
     "data": {
      "image/png": "[encoded data removed]",
      "text/plain": [
       "<Figure size 1152x360 with 1 Axes>"
      ]
     },
     "metadata": {
      "needs_background": "light"
     },
     "output_type": "display_data"
    }
   ],
   "source": [
    "a = nltk.FreqDist(mentions)\n",
    "n_largest_mentions = pd.DataFrame({'Mentions': list(a.keys()),\n",
    "                  'Count': list(a.values())})\n",
    "# selecting top 10 most frequent hashtags     \n",
    "n_largest_mentions = n_largest_mentions.nlargest(columns=\"Count\", n = 10) \n",
    "plt.figure(figsize=(16,5))\n",
    "ax = sns.barplot(data=n_largest_mentions, x= \"Mentions\", y = \"Count\")\n",
    "ax.set(ylabel = 'Count')\n",
    "plt.show()"
   ]
  },
  {
   "cell_type": "code",
   "execution_count": 77,
   "metadata": {},
   "outputs": [
    {
     "data": {
      "text/html": [
       "<div>\n",
       "<style scoped>\n",
       "    .dataframe tbody tr th:only-of-type {\n",
       "        vertical-align: middle;\n",
       "    }\n",
       "\n",
       "    .dataframe tbody tr th {\n",
       "        vertical-align: top;\n",
       "    }\n",
       "\n",
       "    .dataframe thead th {\n",
       "        text-align: right;\n",
       "    }\n",
       "</style>\n",
       "<table border=\"1\" class=\"dataframe\">\n",
       "  <thead>\n",
       "    <tr style=\"text-align: right;\">\n",
       "      <th></th>\n",
       "      <th>Mentions</th>\n",
       "      <th>Count</th>\n",
       "    </tr>\n",
       "  </thead>\n",
       "  <tbody>\n",
       "    <tr>\n",
       "      <th>28</th>\n",
       "      <td>@</td>\n",
       "      <td>90</td>\n",
       "    </tr>\n",
       "    <tr>\n",
       "      <th>7</th>\n",
       "      <td>@YouTube</td>\n",
       "      <td>57</td>\n",
       "    </tr>\n",
       "    <tr>\n",
       "      <th>211</th>\n",
       "      <td>@TheGrowthOp</td>\n",
       "      <td>40</td>\n",
       "    </tr>\n",
       "    <tr>\n",
       "      <th>191</th>\n",
       "      <td>@cannabis_net</td>\n",
       "      <td>37</td>\n",
       "    </tr>\n",
       "    <tr>\n",
       "      <th>101</th>\n",
       "      <td>@POTUS</td>\n",
       "      <td>26</td>\n",
       "    </tr>\n",
       "    <tr>\n",
       "      <th>172</th>\n",
       "      <td>@cbt_bot</td>\n",
       "      <td>26</td>\n",
       "    </tr>\n",
       "    <tr>\n",
       "      <th>173</th>\n",
       "      <td>@TheWeedSpot_</td>\n",
       "      <td>26</td>\n",
       "    </tr>\n",
       "    <tr>\n",
       "      <th>179</th>\n",
       "      <td>@MJBizDaily</td>\n",
       "      <td>26</td>\n",
       "    </tr>\n",
       "    <tr>\n",
       "      <th>106</th>\n",
       "      <td>@DasheedaDawson</td>\n",
       "      <td>19</td>\n",
       "    </tr>\n",
       "    <tr>\n",
       "      <th>15</th>\n",
       "      <td>@SolFireGardens</td>\n",
       "      <td>15</td>\n",
       "    </tr>\n",
       "  </tbody>\n",
       "</table>\n",
       "</div>"
      ],
      "text/plain": [
       "            Mentions  Count\n",
       "28                 @     90\n",
       "7           @YouTube     57\n",
       "211     @TheGrowthOp     40\n",
       "191    @cannabis_net     37\n",
       "101           @POTUS     26\n",
       "172         @cbt_bot     26\n",
       "173    @TheWeedSpot_     26\n",
       "179      @MJBizDaily     26\n",
       "106  @DasheedaDawson     19\n",
       "15   @SolFireGardens     15"
      ]
     },
     "execution_count": 77,
     "metadata": {},
     "output_type": "execute_result"
    }
   ],
   "source": [
    "n_largest_mentions"
   ]
  },
  {
   "cell_type": "code",
   "execution_count": 78,
   "metadata": {},
   "outputs": [],
   "source": [
    "def remove_rt(text):\n",
    "    \"\"\"\n",
    "    Function to remove the Retweet of users from the text.\n",
    "    Retweets are not useful information in nlp and hence it is good \n",
    "    practice to remove them during data preprocessing\n",
    "    \n",
    "    @ param text: twitter text\n",
    "    It subtitutes the RT with empty string\n",
    "    \"\"\"\n",
    "    regular = re.findall(r'^[Rr][Tt]',text)\n",
    "    for mentions in regular:\n",
    "        text = re.sub(mentions,\"\",text)\n",
    "    return text"
   ]
  },
  {
   "cell_type": "code",
   "execution_count": 79,
   "metadata": {},
   "outputs": [],
   "source": [
    "# removing Rt from column\n",
    "tweet_df['Tweet'] = tweet_df['Tweet'].apply(lambda text:remove_rt(text))"
   ]
  },
  {
   "cell_type": "code",
   "execution_count": 80,
   "metadata": {},
   "outputs": [
    {
     "data": {
      "text/plain": [
       "0                  SHE IS MY WIFE MEHWISH Cannabis Smoker \n",
       "1        Aurora Cannabis Inc. $ACB Stock Rose Thursday,...\n",
       "2        Some absolutely CAKED Fuel D.OG from @Seedsman...\n",
       "3           Alarming Rise in Hospital Borne Infections ...\n",
       "4           Campaign 2022: Andersen vows to end marijua...\n",
       "                               ...                        \n",
       "9996     I must confess the Animal Justice Party are my...\n",
       "9997     You can watch todays show on  with the link be...\n",
       "9998     Team 2: another proactive stop in Bordesley Gr...\n",
       "9999     Ricky Williams talks Mike Ditka, his \"interest...\n",
       "10000    The Virtuoso Recycler Bong\\n\\n\\n\\n shop  thing...\n",
       "Name: Tweet, Length: 10001, dtype: object"
      ]
     },
     "execution_count": 80,
     "metadata": {},
     "output_type": "execute_result"
    }
   ],
   "source": [
    "tweet_df['Tweet']"
   ]
  },
  {
   "cell_type": "code",
   "execution_count": 81,
   "metadata": {},
   "outputs": [],
   "source": [
    "#Converting the text of column to lower case\n",
    "tweet_df['Tweet'] = tweet_df['Tweet'].str.lower()"
   ]
  },
  {
   "cell_type": "code",
   "execution_count": 82,
   "metadata": {},
   "outputs": [
    {
     "data": {
      "text/html": [
       "<div>\n",
       "<style scoped>\n",
       "    .dataframe tbody tr th:only-of-type {\n",
       "        vertical-align: middle;\n",
       "    }\n",
       "\n",
       "    .dataframe tbody tr th {\n",
       "        vertical-align: top;\n",
       "    }\n",
       "\n",
       "    .dataframe thead th {\n",
       "        text-align: right;\n",
       "    }\n",
       "</style>\n",
       "<table border=\"1\" class=\"dataframe\">\n",
       "  <thead>\n",
       "    <tr style=\"text-align: right;\">\n",
       "      <th></th>\n",
       "      <th>Date</th>\n",
       "      <th>User</th>\n",
       "      <th>Tweet</th>\n",
       "      <th>Hashtags</th>\n",
       "      <th>Location</th>\n",
       "    </tr>\n",
       "  </thead>\n",
       "  <tbody>\n",
       "    <tr>\n",
       "      <th>0</th>\n",
       "      <td>2022-10-14 23:59:49+00:00</td>\n",
       "      <td>ShadAhmadKhan5</td>\n",
       "      <td>she is my wife mehwish cannabis smoker</td>\n",
       "      <td>No Hashtag</td>\n",
       "      <td>No Location</td>\n",
       "    </tr>\n",
       "    <tr>\n",
       "      <th>1</th>\n",
       "      <td>2022-10-14 23:58:12+00:00</td>\n",
       "      <td>EvEnergy2030</td>\n",
       "      <td>aurora cannabis inc. $acb stock rose thursday,...</td>\n",
       "      <td>No Hashtag</td>\n",
       "      <td>Seattle, Washington</td>\n",
       "    </tr>\n",
       "    <tr>\n",
       "      <th>2</th>\n",
       "      <td>2022-10-14 23:57:07+00:00</td>\n",
       "      <td>TempleGrower</td>\n",
       "      <td>some absolutely caked fuel d.og from @seedsman...</td>\n",
       "      <td>['GrowYourOwn', 'Cannabis']</td>\n",
       "      <td>Treaty 6 Territory</td>\n",
       "    </tr>\n",
       "    <tr>\n",
       "      <th>3</th>\n",
       "      <td>2022-10-14 23:56:48+00:00</td>\n",
       "      <td>MMPconnection</td>\n",
       "      <td>alarming rise in hospital borne infections ...</td>\n",
       "      <td>['cannabiscommunity', 'marijuana', 'cannabis']</td>\n",
       "      <td>No Location</td>\n",
       "    </tr>\n",
       "    <tr>\n",
       "      <th>4</th>\n",
       "      <td>2022-10-14 23:56:47+00:00</td>\n",
       "      <td>MMPconnection</td>\n",
       "      <td>campaign 2022: andersen vows to end marijua...</td>\n",
       "      <td>['cannabiscommunity', 'marijuana', 'cannabis']</td>\n",
       "      <td>No Location</td>\n",
       "    </tr>\n",
       "    <tr>\n",
       "      <th>...</th>\n",
       "      <td>...</td>\n",
       "      <td>...</td>\n",
       "      <td>...</td>\n",
       "      <td>...</td>\n",
       "      <td>...</td>\n",
       "    </tr>\n",
       "    <tr>\n",
       "      <th>9996</th>\n",
       "      <td>2022-10-12 23:52:16+00:00</td>\n",
       "      <td>SuDharmapala</td>\n",
       "      <td>i must confess the animal justice party are my...</td>\n",
       "      <td>No Hashtag</td>\n",
       "      <td>Melbourne, Victoria</td>\n",
       "    </tr>\n",
       "    <tr>\n",
       "      <th>9997</th>\n",
       "      <td>2022-10-12 23:51:37+00:00</td>\n",
       "      <td>highat9news</td>\n",
       "      <td>you can watch todays show on  with the link be...</td>\n",
       "      <td>['YouTube', 'ElonMusk', 'BarcaInter', 'Champio...</td>\n",
       "      <td>Los Angeles, CA</td>\n",
       "    </tr>\n",
       "    <tr>\n",
       "      <th>9998</th>\n",
       "      <td>2022-10-12 23:51:05+00:00</td>\n",
       "      <td>BE_NTF</td>\n",
       "      <td>team 2: another proactive stop in bordesley gr...</td>\n",
       "      <td>No Hashtag</td>\n",
       "      <td>B'ham East Local Policing Unit</td>\n",
       "    </tr>\n",
       "    <tr>\n",
       "      <th>9999</th>\n",
       "      <td>2022-10-12 23:51:01+00:00</td>\n",
       "      <td>BearsViews</td>\n",
       "      <td>ricky williams talks mike ditka, his \"interest...</td>\n",
       "      <td>['BearsFootball', 'BearsTalk', 'DaBears', 'Bea...</td>\n",
       "      <td>No Location</td>\n",
       "    </tr>\n",
       "    <tr>\n",
       "      <th>10000</th>\n",
       "      <td>2022-10-12 23:50:43+00:00</td>\n",
       "      <td>SmokingOutlet</td>\n",
       "      <td>the virtuoso recycler bong\\n\\n\\n\\n shop  thing...</td>\n",
       "      <td>['bong', 'bongshop', 'stoner', 'stonerthings',...</td>\n",
       "      <td>Federal Way, WA</td>\n",
       "    </tr>\n",
       "  </tbody>\n",
       "</table>\n",
       "<p>10001 rows × 5 columns</p>\n",
       "</div>"
      ],
      "text/plain": [
       "                            Date            User  \\\n",
       "0      2022-10-14 23:59:49+00:00  ShadAhmadKhan5   \n",
       "1      2022-10-14 23:58:12+00:00    EvEnergy2030   \n",
       "2      2022-10-14 23:57:07+00:00    TempleGrower   \n",
       "3      2022-10-14 23:56:48+00:00   MMPconnection   \n",
       "4      2022-10-14 23:56:47+00:00   MMPconnection   \n",
       "...                          ...             ...   \n",
       "9996   2022-10-12 23:52:16+00:00    SuDharmapala   \n",
       "9997   2022-10-12 23:51:37+00:00     highat9news   \n",
       "9998   2022-10-12 23:51:05+00:00          BE_NTF   \n",
       "9999   2022-10-12 23:51:01+00:00      BearsViews   \n",
       "10000  2022-10-12 23:50:43+00:00   SmokingOutlet   \n",
       "\n",
       "                                                   Tweet  \\\n",
       "0                she is my wife mehwish cannabis smoker    \n",
       "1      aurora cannabis inc. $acb stock rose thursday,...   \n",
       "2      some absolutely caked fuel d.og from @seedsman...   \n",
       "3         alarming rise in hospital borne infections ...   \n",
       "4         campaign 2022: andersen vows to end marijua...   \n",
       "...                                                  ...   \n",
       "9996   i must confess the animal justice party are my...   \n",
       "9997   you can watch todays show on  with the link be...   \n",
       "9998   team 2: another proactive stop in bordesley gr...   \n",
       "9999   ricky williams talks mike ditka, his \"interest...   \n",
       "10000  the virtuoso recycler bong\\n\\n\\n\\n shop  thing...   \n",
       "\n",
       "                                                Hashtags  \\\n",
       "0                                             No Hashtag   \n",
       "1                                             No Hashtag   \n",
       "2                            ['GrowYourOwn', 'Cannabis']   \n",
       "3         ['cannabiscommunity', 'marijuana', 'cannabis']   \n",
       "4         ['cannabiscommunity', 'marijuana', 'cannabis']   \n",
       "...                                                  ...   \n",
       "9996                                          No Hashtag   \n",
       "9997   ['YouTube', 'ElonMusk', 'BarcaInter', 'Champio...   \n",
       "9998                                          No Hashtag   \n",
       "9999   ['BearsFootball', 'BearsTalk', 'DaBears', 'Bea...   \n",
       "10000  ['bong', 'bongshop', 'stoner', 'stonerthings',...   \n",
       "\n",
       "                             Location  \n",
       "0                         No Location  \n",
       "1                 Seattle, Washington  \n",
       "2                  Treaty 6 Territory  \n",
       "3                         No Location  \n",
       "4                         No Location  \n",
       "...                               ...  \n",
       "9996              Melbourne, Victoria  \n",
       "9997                  Los Angeles, CA  \n",
       "9998   B'ham East Local Policing Unit  \n",
       "9999                      No Location  \n",
       "10000                 Federal Way, WA  \n",
       "\n",
       "[10001 rows x 5 columns]"
      ]
     },
     "execution_count": 82,
     "metadata": {},
     "output_type": "execute_result"
    }
   ],
   "source": [
    "tweet_df"
   ]
  },
  {
   "cell_type": "code",
   "execution_count": 83,
   "metadata": {},
   "outputs": [],
   "source": [
    "punctuations = string.punctuation\n",
    "\n",
    "def remove_punctuation(text): \n",
    "    \"\"\"\n",
    "    Function to remove the punctuations  from the text.    \n",
    "    @ param text: twitter text\n",
    "    It subtitutes the RT with empty string\n",
    "    \"\"\"\n",
    "    return text.translate(str.maketrans('','',punctuations))\n",
    "#removing punctuations from the column\n",
    "tweet_df['Tweet'] = tweet_df['Tweet'].apply(lambda text:remove_punctuation(text))"
   ]
  },
  {
   "cell_type": "code",
   "execution_count": 84,
   "metadata": {},
   "outputs": [
    {
     "data": {
      "text/plain": [
       "0                  she is my wife mehwish cannabis smoker \n",
       "1        aurora cannabis inc acb stock rose thursday ou...\n",
       "2        some absolutely caked fuel dog from seedsmanse...\n",
       "3           alarming rise in hospital borne infections ...\n",
       "4           campaign 2022 andersen vows to end marijuan...\n",
       "                               ...                        \n",
       "9996     i must confess the animal justice party are my...\n",
       "9997     you can watch todays show on  with the link be...\n",
       "9998     team 2 another proactive stop in bordesley gre...\n",
       "9999     ricky williams talks mike ditka his interestin...\n",
       "10000    the virtuoso recycler bong\\n\\n\\n\\n shop  thing...\n",
       "Name: Tweet, Length: 10001, dtype: object"
      ]
     },
     "execution_count": 84,
     "metadata": {},
     "output_type": "execute_result"
    }
   ],
   "source": [
    "tweet_df['Tweet']"
   ]
  },
  {
   "cell_type": "code",
   "execution_count": 85,
   "metadata": {},
   "outputs": [
    {
     "name": "stderr",
     "output_type": "stream",
     "text": [
      "<>:2: DeprecationWarning: invalid escape sequence \\d\n",
      "<>:6: DeprecationWarning: invalid escape sequence \\w\n",
      "<>:2: DeprecationWarning: invalid escape sequence \\d\n",
      "<>:6: DeprecationWarning: invalid escape sequence \\w\n",
      "/var/folders/ff/v5b12v310hb00xbbrrld12lh0000gn/T/ipykernel_1508/807632372.py:2: DeprecationWarning: invalid escape sequence \\d\n",
      "  tweet_df['Tweet'] = tweet_df['Tweet'].str.replace('\\d+', '')\n",
      "/var/folders/ff/v5b12v310hb00xbbrrld12lh0000gn/T/ipykernel_1508/807632372.py:6: DeprecationWarning: invalid escape sequence \\w\n",
      "  tweet_df['Tweet'] = tweet_df['Tweet'].str.replace('[^\\w\\s#@/:%.,_-]', '', flags=re.UNICODE)\n",
      "/var/folders/ff/v5b12v310hb00xbbrrld12lh0000gn/T/ipykernel_1508/807632372.py:2: FutureWarning: The default value of regex will change from True to False in a future version.\n",
      "  tweet_df['Tweet'] = tweet_df['Tweet'].str.replace('\\d+', '')\n",
      "/var/folders/ff/v5b12v310hb00xbbrrld12lh0000gn/T/ipykernel_1508/807632372.py:4: FutureWarning: The default value of regex will change from True to False in a future version.\n",
      "  tweet_df['Tweet'] = tweet_df['Tweet'].str.replace('\\\\n+', '')\n",
      "/var/folders/ff/v5b12v310hb00xbbrrld12lh0000gn/T/ipykernel_1508/807632372.py:6: FutureWarning: The default value of regex will change from True to False in a future version.\n",
      "  tweet_df['Tweet'] = tweet_df['Tweet'].str.replace('[^\\w\\s#@/:%.,_-]', '', flags=re.UNICODE)\n"
     ]
    }
   ],
   "source": [
    "#replacing digits with empty string\n",
    "tweet_df['Tweet'] = tweet_df['Tweet'].str.replace('\\d+', '')\n",
    "#replacing \\n with empty string\n",
    "tweet_df['Tweet'] = tweet_df['Tweet'].str.replace('\\\\n+', '')\n",
    "#removing emojis from the column\n",
    "tweet_df['Tweet'] = tweet_df['Tweet'].str.replace('[^\\w\\s#@/:%.,_-]', '', flags=re.UNICODE)"
   ]
  },
  {
   "cell_type": "code",
   "execution_count": 86,
   "metadata": {},
   "outputs": [
    {
     "data": {
      "text/plain": [
       "\"i, me, my, myself, we, our, ours, ourselves, you, you're, you've, you'll, you'd, your, yours, yourself, yourselves, he, him, his, himself, she, she's, her, hers, herself, it, it's, its, itself, they, them, their, theirs, themselves, what, which, who, whom, this, that, that'll, these, those, am, is, are, was, were, be, been, being, have, has, had, having, do, does, did, doing, a, an, the, and, but, if, or, because, as, until, while, of, at, by, for, with, about, against, between, into, through, during, before, after, above, below, to, from, up, down, in, out, on, off, over, under, again, further, then, once, here, there, when, where, why, how, all, any, both, each, few, more, most, other, some, such, no, nor, not, only, own, same, so, than, too, very, s, t, can, will, just, don, don't, should, should've, now, d, ll, m, o, re, ve, y, ain, aren, aren't, couldn, couldn't, didn, didn't, doesn, doesn't, hadn, hadn't, hasn, hasn't, haven, haven't, isn, isn't, ma, mightn, mightn't, mustn, mustn't, needn, needn't, shan, shan't, shouldn, shouldn't, wasn, wasn't, weren, weren't, won, won't, wouldn, wouldn't\""
      ]
     },
     "execution_count": 86,
     "metadata": {},
     "output_type": "execute_result"
    }
   ],
   "source": [
    "from nltk.corpus import stopwords\n",
    "\", \".join(stopwords.words('english'))"
   ]
  },
  {
   "cell_type": "code",
   "execution_count": 87,
   "metadata": {},
   "outputs": [],
   "source": [
    "stop = list(stopwords.words('english'))\n",
    "def removal_stopwords(text):\n",
    "    #function to remove stopwords from the text\n",
    "    return \" \".join([w for w in str(text).split() if w not in stop])\n",
    "#removing stopwords from the column\n",
    "tweet_df['Tweet'] = tweet_df['Tweet'].apply(lambda text:removal_stopwords(text))"
   ]
  },
  {
   "cell_type": "code",
   "execution_count": 88,
   "metadata": {},
   "outputs": [
    {
     "data": {
      "text/html": [
       "<div>\n",
       "<style scoped>\n",
       "    .dataframe tbody tr th:only-of-type {\n",
       "        vertical-align: middle;\n",
       "    }\n",
       "\n",
       "    .dataframe tbody tr th {\n",
       "        vertical-align: top;\n",
       "    }\n",
       "\n",
       "    .dataframe thead th {\n",
       "        text-align: right;\n",
       "    }\n",
       "</style>\n",
       "<table border=\"1\" class=\"dataframe\">\n",
       "  <thead>\n",
       "    <tr style=\"text-align: right;\">\n",
       "      <th></th>\n",
       "      <th>Date</th>\n",
       "      <th>User</th>\n",
       "      <th>Tweet</th>\n",
       "      <th>Hashtags</th>\n",
       "      <th>Location</th>\n",
       "    </tr>\n",
       "  </thead>\n",
       "  <tbody>\n",
       "    <tr>\n",
       "      <th>0</th>\n",
       "      <td>2022-10-14 23:59:49+00:00</td>\n",
       "      <td>ShadAhmadKhan5</td>\n",
       "      <td>wife mehwish cannabis smoker</td>\n",
       "      <td>No Hashtag</td>\n",
       "      <td>No Location</td>\n",
       "    </tr>\n",
       "    <tr>\n",
       "      <th>1</th>\n",
       "      <td>2022-10-14 23:58:12+00:00</td>\n",
       "      <td>EvEnergy2030</td>\n",
       "      <td>aurora cannabis inc acb stock rose thursday ou...</td>\n",
       "      <td>No Hashtag</td>\n",
       "      <td>Seattle, Washington</td>\n",
       "    </tr>\n",
       "    <tr>\n",
       "      <th>2</th>\n",
       "      <td>2022-10-14 23:57:07+00:00</td>\n",
       "      <td>TempleGrower</td>\n",
       "      <td>absolutely caked fuel dog seedsmanseeds least ...</td>\n",
       "      <td>['GrowYourOwn', 'Cannabis']</td>\n",
       "      <td>Treaty 6 Territory</td>\n",
       "    </tr>\n",
       "    <tr>\n",
       "      <th>3</th>\n",
       "      <td>2022-10-14 23:56:48+00:00</td>\n",
       "      <td>MMPconnection</td>\n",
       "      <td>alarming rise hospital borne infections unders...</td>\n",
       "      <td>['cannabiscommunity', 'marijuana', 'cannabis']</td>\n",
       "      <td>No Location</td>\n",
       "    </tr>\n",
       "    <tr>\n",
       "      <th>4</th>\n",
       "      <td>2022-10-14 23:56:47+00:00</td>\n",
       "      <td>MMPconnection</td>\n",
       "      <td>campaign andersen vows end marijuana possessio...</td>\n",
       "      <td>['cannabiscommunity', 'marijuana', 'cannabis']</td>\n",
       "      <td>No Location</td>\n",
       "    </tr>\n",
       "  </tbody>\n",
       "</table>\n",
       "</div>"
      ],
      "text/plain": [
       "                        Date            User  \\\n",
       "0  2022-10-14 23:59:49+00:00  ShadAhmadKhan5   \n",
       "1  2022-10-14 23:58:12+00:00    EvEnergy2030   \n",
       "2  2022-10-14 23:57:07+00:00    TempleGrower   \n",
       "3  2022-10-14 23:56:48+00:00   MMPconnection   \n",
       "4  2022-10-14 23:56:47+00:00   MMPconnection   \n",
       "\n",
       "                                               Tweet  \\\n",
       "0                       wife mehwish cannabis smoker   \n",
       "1  aurora cannabis inc acb stock rose thursday ou...   \n",
       "2  absolutely caked fuel dog seedsmanseeds least ...   \n",
       "3  alarming rise hospital borne infections unders...   \n",
       "4  campaign andersen vows end marijuana possessio...   \n",
       "\n",
       "                                         Hashtags             Location  \n",
       "0                                      No Hashtag          No Location  \n",
       "1                                      No Hashtag  Seattle, Washington  \n",
       "2                     ['GrowYourOwn', 'Cannabis']   Treaty 6 Territory  \n",
       "3  ['cannabiscommunity', 'marijuana', 'cannabis']          No Location  \n",
       "4  ['cannabiscommunity', 'marijuana', 'cannabis']          No Location  "
      ]
     },
     "execution_count": 88,
     "metadata": {},
     "output_type": "execute_result"
    }
   ],
   "source": [
    "tweet_df.head()"
   ]
  },
  {
   "cell_type": "code",
   "execution_count": 89,
   "metadata": {},
   "outputs": [
    {
     "data": {
      "text/plain": [
       "0                    [wife, mehwish, cannabis, smoker]\n",
       "1    [aurora, cannabis, inc, acb, stock, rose, thur...\n",
       "2    [absolutely, caked, fuel, dog, seedsmanseeds, ...\n",
       "3    [alarming, rise, hospital, borne, infections, ...\n",
       "4    [campaign, andersen, vows, end, marijuana, pos...\n",
       "Name: Tweet, dtype: object"
      ]
     },
     "execution_count": 89,
     "metadata": {},
     "output_type": "execute_result"
    }
   ],
   "source": [
    "# tokenize the text of sentence\n",
    "tokenized = tweet_df['Tweet'].apply(lambda x:x.split()) \n",
    "tokenized.head()"
   ]
  },
  {
   "cell_type": "code",
   "execution_count": 90,
   "metadata": {},
   "outputs": [],
   "source": [
    "# applying stemming on tokened list and combine them\n",
    "from nltk import PorterStemmer\n",
    "port = PorterStemmer()\n",
    "tokenized = tokenized.apply(lambda x:[port.stem(i) for i in x])\n",
    "for i in range(len(tokenized)):\n",
    "    tokenized[i] = ' '.join(tokenized[i])\n",
    "tweet_df['Tweet'] = tokenized\n"
   ]
  },
  {
   "cell_type": "code",
   "execution_count": 91,
   "metadata": {},
   "outputs": [
    {
     "data": {
      "text/html": [
       "<div>\n",
       "<style scoped>\n",
       "    .dataframe tbody tr th:only-of-type {\n",
       "        vertical-align: middle;\n",
       "    }\n",
       "\n",
       "    .dataframe tbody tr th {\n",
       "        vertical-align: top;\n",
       "    }\n",
       "\n",
       "    .dataframe thead th {\n",
       "        text-align: right;\n",
       "    }\n",
       "</style>\n",
       "<table border=\"1\" class=\"dataframe\">\n",
       "  <thead>\n",
       "    <tr style=\"text-align: right;\">\n",
       "      <th></th>\n",
       "      <th>Date</th>\n",
       "      <th>User</th>\n",
       "      <th>Tweet</th>\n",
       "      <th>Hashtags</th>\n",
       "      <th>Location</th>\n",
       "    </tr>\n",
       "  </thead>\n",
       "  <tbody>\n",
       "    <tr>\n",
       "      <th>0</th>\n",
       "      <td>2022-10-14 23:59:49+00:00</td>\n",
       "      <td>ShadAhmadKhan5</td>\n",
       "      <td>wife mehwish cannabi smoker</td>\n",
       "      <td>No Hashtag</td>\n",
       "      <td>No Location</td>\n",
       "    </tr>\n",
       "    <tr>\n",
       "      <th>1</th>\n",
       "      <td>2022-10-14 23:58:12+00:00</td>\n",
       "      <td>EvEnergy2030</td>\n",
       "      <td>aurora cannabi inc acb stock rose thursday out...</td>\n",
       "      <td>No Hashtag</td>\n",
       "      <td>Seattle, Washington</td>\n",
       "    </tr>\n",
       "    <tr>\n",
       "      <th>2</th>\n",
       "      <td>2022-10-14 23:57:07+00:00</td>\n",
       "      <td>TempleGrower</td>\n",
       "      <td>absolut cake fuel dog seedsmanse least fuelli ...</td>\n",
       "      <td>['GrowYourOwn', 'Cannabis']</td>\n",
       "      <td>Treaty 6 Territory</td>\n",
       "    </tr>\n",
       "    <tr>\n",
       "      <th>3</th>\n",
       "      <td>2022-10-14 23:56:48+00:00</td>\n",
       "      <td>MMPconnection</td>\n",
       "      <td>alarm rise hospit born infect underscor applic...</td>\n",
       "      <td>['cannabiscommunity', 'marijuana', 'cannabis']</td>\n",
       "      <td>No Location</td>\n",
       "    </tr>\n",
       "    <tr>\n",
       "      <th>4</th>\n",
       "      <td>2022-10-14 23:56:47+00:00</td>\n",
       "      <td>MMPconnection</td>\n",
       "      <td>campaign andersen vow end marijuana possess pr...</td>\n",
       "      <td>['cannabiscommunity', 'marijuana', 'cannabis']</td>\n",
       "      <td>No Location</td>\n",
       "    </tr>\n",
       "  </tbody>\n",
       "</table>\n",
       "</div>"
      ],
      "text/plain": [
       "                        Date            User  \\\n",
       "0  2022-10-14 23:59:49+00:00  ShadAhmadKhan5   \n",
       "1  2022-10-14 23:58:12+00:00    EvEnergy2030   \n",
       "2  2022-10-14 23:57:07+00:00    TempleGrower   \n",
       "3  2022-10-14 23:56:48+00:00   MMPconnection   \n",
       "4  2022-10-14 23:56:47+00:00   MMPconnection   \n",
       "\n",
       "                                               Tweet  \\\n",
       "0                        wife mehwish cannabi smoker   \n",
       "1  aurora cannabi inc acb stock rose thursday out...   \n",
       "2  absolut cake fuel dog seedsmanse least fuelli ...   \n",
       "3  alarm rise hospit born infect underscor applic...   \n",
       "4  campaign andersen vow end marijuana possess pr...   \n",
       "\n",
       "                                         Hashtags             Location  \n",
       "0                                      No Hashtag          No Location  \n",
       "1                                      No Hashtag  Seattle, Washington  \n",
       "2                     ['GrowYourOwn', 'Cannabis']   Treaty 6 Territory  \n",
       "3  ['cannabiscommunity', 'marijuana', 'cannabis']          No Location  \n",
       "4  ['cannabiscommunity', 'marijuana', 'cannabis']          No Location  "
      ]
     },
     "execution_count": 91,
     "metadata": {},
     "output_type": "execute_result"
    }
   ],
   "source": [
    "tweet_df.head()"
   ]
  },
  {
   "cell_type": "code",
   "execution_count": 92,
   "metadata": {},
   "outputs": [],
   "source": [
    "#import vader sentiment\n",
    "from vaderSentiment.vaderSentiment import SentimentIntensityAnalyzer\n",
    "sentiment_intensity = SentimentIntensityAnalyzer()"
   ]
  },
  {
   "cell_type": "code",
   "execution_count": 93,
   "metadata": {},
   "outputs": [
    {
     "data": {
      "text/html": [
       "<div>\n",
       "<style scoped>\n",
       "    .dataframe tbody tr th:only-of-type {\n",
       "        vertical-align: middle;\n",
       "    }\n",
       "\n",
       "    .dataframe tbody tr th {\n",
       "        vertical-align: top;\n",
       "    }\n",
       "\n",
       "    .dataframe thead th {\n",
       "        text-align: right;\n",
       "    }\n",
       "</style>\n",
       "<table border=\"1\" class=\"dataframe\">\n",
       "  <thead>\n",
       "    <tr style=\"text-align: right;\">\n",
       "      <th></th>\n",
       "      <th>Date</th>\n",
       "      <th>User</th>\n",
       "      <th>Tweet</th>\n",
       "      <th>Hashtags</th>\n",
       "      <th>Location</th>\n",
       "      <th>vader_scores</th>\n",
       "    </tr>\n",
       "  </thead>\n",
       "  <tbody>\n",
       "    <tr>\n",
       "      <th>0</th>\n",
       "      <td>2022-10-14 23:59:49+00:00</td>\n",
       "      <td>ShadAhmadKhan5</td>\n",
       "      <td>wife mehwish cannabi smoker</td>\n",
       "      <td>No Hashtag</td>\n",
       "      <td>No Location</td>\n",
       "      <td>{'neg': 0.0, 'neu': 1.0, 'pos': 0.0, 'compound...</td>\n",
       "    </tr>\n",
       "    <tr>\n",
       "      <th>1</th>\n",
       "      <td>2022-10-14 23:58:12+00:00</td>\n",
       "      <td>EvEnergy2030</td>\n",
       "      <td>aurora cannabi inc acb stock rose thursday out...</td>\n",
       "      <td>No Hashtag</td>\n",
       "      <td>Seattle, Washington</td>\n",
       "      <td>{'neg': 0.0, 'neu': 1.0, 'pos': 0.0, 'compound...</td>\n",
       "    </tr>\n",
       "    <tr>\n",
       "      <th>2</th>\n",
       "      <td>2022-10-14 23:57:07+00:00</td>\n",
       "      <td>TempleGrower</td>\n",
       "      <td>absolut cake fuel dog seedsmanse least fuelli ...</td>\n",
       "      <td>['GrowYourOwn', 'Cannabis']</td>\n",
       "      <td>Treaty 6 Territory</td>\n",
       "      <td>{'neg': 0.0, 'neu': 0.741, 'pos': 0.259, 'comp...</td>\n",
       "    </tr>\n",
       "    <tr>\n",
       "      <th>3</th>\n",
       "      <td>2022-10-14 23:56:48+00:00</td>\n",
       "      <td>MMPconnection</td>\n",
       "      <td>alarm rise hospit born infect underscor applic...</td>\n",
       "      <td>['cannabiscommunity', 'marijuana', 'cannabis']</td>\n",
       "      <td>No Location</td>\n",
       "      <td>{'neg': 0.107, 'neu': 0.893, 'pos': 0.0, 'comp...</td>\n",
       "    </tr>\n",
       "    <tr>\n",
       "      <th>4</th>\n",
       "      <td>2022-10-14 23:56:47+00:00</td>\n",
       "      <td>MMPconnection</td>\n",
       "      <td>campaign andersen vow end marijuana possess pr...</td>\n",
       "      <td>['cannabiscommunity', 'marijuana', 'cannabis']</td>\n",
       "      <td>No Location</td>\n",
       "      <td>{'neg': 0.0, 'neu': 1.0, 'pos': 0.0, 'compound...</td>\n",
       "    </tr>\n",
       "  </tbody>\n",
       "</table>\n",
       "</div>"
      ],
      "text/plain": [
       "                        Date            User  \\\n",
       "0  2022-10-14 23:59:49+00:00  ShadAhmadKhan5   \n",
       "1  2022-10-14 23:58:12+00:00    EvEnergy2030   \n",
       "2  2022-10-14 23:57:07+00:00    TempleGrower   \n",
       "3  2022-10-14 23:56:48+00:00   MMPconnection   \n",
       "4  2022-10-14 23:56:47+00:00   MMPconnection   \n",
       "\n",
       "                                               Tweet  \\\n",
       "0                        wife mehwish cannabi smoker   \n",
       "1  aurora cannabi inc acb stock rose thursday out...   \n",
       "2  absolut cake fuel dog seedsmanse least fuelli ...   \n",
       "3  alarm rise hospit born infect underscor applic...   \n",
       "4  campaign andersen vow end marijuana possess pr...   \n",
       "\n",
       "                                         Hashtags             Location  \\\n",
       "0                                      No Hashtag          No Location   \n",
       "1                                      No Hashtag  Seattle, Washington   \n",
       "2                     ['GrowYourOwn', 'Cannabis']   Treaty 6 Territory   \n",
       "3  ['cannabiscommunity', 'marijuana', 'cannabis']          No Location   \n",
       "4  ['cannabiscommunity', 'marijuana', 'cannabis']          No Location   \n",
       "\n",
       "                                        vader_scores  \n",
       "0  {'neg': 0.0, 'neu': 1.0, 'pos': 0.0, 'compound...  \n",
       "1  {'neg': 0.0, 'neu': 1.0, 'pos': 0.0, 'compound...  \n",
       "2  {'neg': 0.0, 'neu': 0.741, 'pos': 0.259, 'comp...  \n",
       "3  {'neg': 0.107, 'neu': 0.893, 'pos': 0.0, 'comp...  \n",
       "4  {'neg': 0.0, 'neu': 1.0, 'pos': 0.0, 'compound...  "
      ]
     },
     "execution_count": 93,
     "metadata": {},
     "output_type": "execute_result"
    }
   ],
   "source": [
    "#applying scores \n",
    "tweet_df['vader_scores'] = tweet_df['Tweet'].apply(lambda tweet: sentiment_intensity.polarity_scores(tweet))\n",
    "tweet_df.head()"
   ]
  },
  {
   "cell_type": "code",
   "execution_count": 94,
   "metadata": {},
   "outputs": [
    {
     "data": {
      "text/html": [
       "<div>\n",
       "<style scoped>\n",
       "    .dataframe tbody tr th:only-of-type {\n",
       "        vertical-align: middle;\n",
       "    }\n",
       "\n",
       "    .dataframe tbody tr th {\n",
       "        vertical-align: top;\n",
       "    }\n",
       "\n",
       "    .dataframe thead th {\n",
       "        text-align: right;\n",
       "    }\n",
       "</style>\n",
       "<table border=\"1\" class=\"dataframe\">\n",
       "  <thead>\n",
       "    <tr style=\"text-align: right;\">\n",
       "      <th></th>\n",
       "      <th>Date</th>\n",
       "      <th>User</th>\n",
       "      <th>Tweet</th>\n",
       "      <th>Hashtags</th>\n",
       "      <th>Location</th>\n",
       "      <th>vader_scores</th>\n",
       "      <th>compound_scores_vader</th>\n",
       "    </tr>\n",
       "  </thead>\n",
       "  <tbody>\n",
       "    <tr>\n",
       "      <th>0</th>\n",
       "      <td>2022-10-14 23:59:49+00:00</td>\n",
       "      <td>ShadAhmadKhan5</td>\n",
       "      <td>wife mehwish cannabi smoker</td>\n",
       "      <td>No Hashtag</td>\n",
       "      <td>No Location</td>\n",
       "      <td>{'neg': 0.0, 'neu': 1.0, 'pos': 0.0, 'compound...</td>\n",
       "      <td>0.0000</td>\n",
       "    </tr>\n",
       "    <tr>\n",
       "      <th>1</th>\n",
       "      <td>2022-10-14 23:58:12+00:00</td>\n",
       "      <td>EvEnergy2030</td>\n",
       "      <td>aurora cannabi inc acb stock rose thursday out...</td>\n",
       "      <td>No Hashtag</td>\n",
       "      <td>Seattle, Washington</td>\n",
       "      <td>{'neg': 0.0, 'neu': 1.0, 'pos': 0.0, 'compound...</td>\n",
       "      <td>0.0000</td>\n",
       "    </tr>\n",
       "    <tr>\n",
       "      <th>2</th>\n",
       "      <td>2022-10-14 23:57:07+00:00</td>\n",
       "      <td>TempleGrower</td>\n",
       "      <td>absolut cake fuel dog seedsmanse least fuelli ...</td>\n",
       "      <td>['GrowYourOwn', 'Cannabis']</td>\n",
       "      <td>Treaty 6 Territory</td>\n",
       "      <td>{'neg': 0.0, 'neu': 0.741, 'pos': 0.259, 'comp...</td>\n",
       "      <td>0.8126</td>\n",
       "    </tr>\n",
       "    <tr>\n",
       "      <th>3</th>\n",
       "      <td>2022-10-14 23:56:48+00:00</td>\n",
       "      <td>MMPconnection</td>\n",
       "      <td>alarm rise hospit born infect underscor applic...</td>\n",
       "      <td>['cannabiscommunity', 'marijuana', 'cannabis']</td>\n",
       "      <td>No Location</td>\n",
       "      <td>{'neg': 0.107, 'neu': 0.893, 'pos': 0.0, 'comp...</td>\n",
       "      <td>-0.3400</td>\n",
       "    </tr>\n",
       "    <tr>\n",
       "      <th>4</th>\n",
       "      <td>2022-10-14 23:56:47+00:00</td>\n",
       "      <td>MMPconnection</td>\n",
       "      <td>campaign andersen vow end marijuana possess pr...</td>\n",
       "      <td>['cannabiscommunity', 'marijuana', 'cannabis']</td>\n",
       "      <td>No Location</td>\n",
       "      <td>{'neg': 0.0, 'neu': 1.0, 'pos': 0.0, 'compound...</td>\n",
       "      <td>0.0000</td>\n",
       "    </tr>\n",
       "  </tbody>\n",
       "</table>\n",
       "</div>"
      ],
      "text/plain": [
       "                        Date            User  \\\n",
       "0  2022-10-14 23:59:49+00:00  ShadAhmadKhan5   \n",
       "1  2022-10-14 23:58:12+00:00    EvEnergy2030   \n",
       "2  2022-10-14 23:57:07+00:00    TempleGrower   \n",
       "3  2022-10-14 23:56:48+00:00   MMPconnection   \n",
       "4  2022-10-14 23:56:47+00:00   MMPconnection   \n",
       "\n",
       "                                               Tweet  \\\n",
       "0                        wife mehwish cannabi smoker   \n",
       "1  aurora cannabi inc acb stock rose thursday out...   \n",
       "2  absolut cake fuel dog seedsmanse least fuelli ...   \n",
       "3  alarm rise hospit born infect underscor applic...   \n",
       "4  campaign andersen vow end marijuana possess pr...   \n",
       "\n",
       "                                         Hashtags             Location  \\\n",
       "0                                      No Hashtag          No Location   \n",
       "1                                      No Hashtag  Seattle, Washington   \n",
       "2                     ['GrowYourOwn', 'Cannabis']   Treaty 6 Territory   \n",
       "3  ['cannabiscommunity', 'marijuana', 'cannabis']          No Location   \n",
       "4  ['cannabiscommunity', 'marijuana', 'cannabis']          No Location   \n",
       "\n",
       "                                        vader_scores  compound_scores_vader  \n",
       "0  {'neg': 0.0, 'neu': 1.0, 'pos': 0.0, 'compound...                 0.0000  \n",
       "1  {'neg': 0.0, 'neu': 1.0, 'pos': 0.0, 'compound...                 0.0000  \n",
       "2  {'neg': 0.0, 'neu': 0.741, 'pos': 0.259, 'comp...                 0.8126  \n",
       "3  {'neg': 0.107, 'neu': 0.893, 'pos': 0.0, 'comp...                -0.3400  \n",
       "4  {'neg': 0.0, 'neu': 1.0, 'pos': 0.0, 'compound...                 0.0000  "
      ]
     },
     "execution_count": 94,
     "metadata": {},
     "output_type": "execute_result"
    }
   ],
   "source": [
    "tweet_df['compound_scores_vader']  = tweet_df['vader_scores'].apply(lambda vader_score_dict: vader_score_dict['compound'])\n",
    "tweet_df.head()"
   ]
  },
  {
   "cell_type": "code",
   "execution_count": 95,
   "metadata": {},
   "outputs": [],
   "source": [
    " #function to classify sentiment based upon values\n",
    "def format_output(output_dict):\n",
    "    polarity = \"Neutral\"\n",
    "    if(output_dict['compound']>= 0.05):\n",
    "        polarity = \"Positive\"\n",
    "    elif(output_dict['compound']<= -0.05):\n",
    "        polarity = \"Negative\"\n",
    "    return polarity\n",
    "def predict_sentiment(text): \n",
    "    output_dict =  sentiment_intensity.polarity_scores(text)\n",
    "    return format_output(output_dict)\n",
    "# Run the predictions\n",
    "tweet_df[\"vader_prediction\"] = tweet_df[\"Tweet\"].apply(predict_sentiment)"
   ]
  },
  {
   "cell_type": "code",
   "execution_count": 96,
   "metadata": {},
   "outputs": [
    {
     "data": {
      "text/html": [
       "<div>\n",
       "<style scoped>\n",
       "    .dataframe tbody tr th:only-of-type {\n",
       "        vertical-align: middle;\n",
       "    }\n",
       "\n",
       "    .dataframe tbody tr th {\n",
       "        vertical-align: top;\n",
       "    }\n",
       "\n",
       "    .dataframe thead th {\n",
       "        text-align: right;\n",
       "    }\n",
       "</style>\n",
       "<table border=\"1\" class=\"dataframe\">\n",
       "  <thead>\n",
       "    <tr style=\"text-align: right;\">\n",
       "      <th></th>\n",
       "      <th>Date</th>\n",
       "      <th>User</th>\n",
       "      <th>Tweet</th>\n",
       "      <th>Hashtags</th>\n",
       "      <th>Location</th>\n",
       "      <th>vader_scores</th>\n",
       "      <th>compound_scores_vader</th>\n",
       "      <th>vader_prediction</th>\n",
       "    </tr>\n",
       "  </thead>\n",
       "  <tbody>\n",
       "    <tr>\n",
       "      <th>0</th>\n",
       "      <td>2022-10-14 23:59:49+00:00</td>\n",
       "      <td>ShadAhmadKhan5</td>\n",
       "      <td>wife mehwish cannabi smoker</td>\n",
       "      <td>No Hashtag</td>\n",
       "      <td>No Location</td>\n",
       "      <td>{'neg': 0.0, 'neu': 1.0, 'pos': 0.0, 'compound...</td>\n",
       "      <td>0.0000</td>\n",
       "      <td>Neutral</td>\n",
       "    </tr>\n",
       "    <tr>\n",
       "      <th>1</th>\n",
       "      <td>2022-10-14 23:58:12+00:00</td>\n",
       "      <td>EvEnergy2030</td>\n",
       "      <td>aurora cannabi inc acb stock rose thursday out...</td>\n",
       "      <td>No Hashtag</td>\n",
       "      <td>Seattle, Washington</td>\n",
       "      <td>{'neg': 0.0, 'neu': 1.0, 'pos': 0.0, 'compound...</td>\n",
       "      <td>0.0000</td>\n",
       "      <td>Neutral</td>\n",
       "    </tr>\n",
       "    <tr>\n",
       "      <th>2</th>\n",
       "      <td>2022-10-14 23:57:07+00:00</td>\n",
       "      <td>TempleGrower</td>\n",
       "      <td>absolut cake fuel dog seedsmanse least fuelli ...</td>\n",
       "      <td>['GrowYourOwn', 'Cannabis']</td>\n",
       "      <td>Treaty 6 Territory</td>\n",
       "      <td>{'neg': 0.0, 'neu': 0.741, 'pos': 0.259, 'comp...</td>\n",
       "      <td>0.8126</td>\n",
       "      <td>Positive</td>\n",
       "    </tr>\n",
       "    <tr>\n",
       "      <th>3</th>\n",
       "      <td>2022-10-14 23:56:48+00:00</td>\n",
       "      <td>MMPconnection</td>\n",
       "      <td>alarm rise hospit born infect underscor applic...</td>\n",
       "      <td>['cannabiscommunity', 'marijuana', 'cannabis']</td>\n",
       "      <td>No Location</td>\n",
       "      <td>{'neg': 0.107, 'neu': 0.893, 'pos': 0.0, 'comp...</td>\n",
       "      <td>-0.3400</td>\n",
       "      <td>Negative</td>\n",
       "    </tr>\n",
       "    <tr>\n",
       "      <th>4</th>\n",
       "      <td>2022-10-14 23:56:47+00:00</td>\n",
       "      <td>MMPconnection</td>\n",
       "      <td>campaign andersen vow end marijuana possess pr...</td>\n",
       "      <td>['cannabiscommunity', 'marijuana', 'cannabis']</td>\n",
       "      <td>No Location</td>\n",
       "      <td>{'neg': 0.0, 'neu': 1.0, 'pos': 0.0, 'compound...</td>\n",
       "      <td>0.0000</td>\n",
       "      <td>Neutral</td>\n",
       "    </tr>\n",
       "  </tbody>\n",
       "</table>\n",
       "</div>"
      ],
      "text/plain": [
       "                        Date            User  \\\n",
       "0  2022-10-14 23:59:49+00:00  ShadAhmadKhan5   \n",
       "1  2022-10-14 23:58:12+00:00    EvEnergy2030   \n",
       "2  2022-10-14 23:57:07+00:00    TempleGrower   \n",
       "3  2022-10-14 23:56:48+00:00   MMPconnection   \n",
       "4  2022-10-14 23:56:47+00:00   MMPconnection   \n",
       "\n",
       "                                               Tweet  \\\n",
       "0                        wife mehwish cannabi smoker   \n",
       "1  aurora cannabi inc acb stock rose thursday out...   \n",
       "2  absolut cake fuel dog seedsmanse least fuelli ...   \n",
       "3  alarm rise hospit born infect underscor applic...   \n",
       "4  campaign andersen vow end marijuana possess pr...   \n",
       "\n",
       "                                         Hashtags             Location  \\\n",
       "0                                      No Hashtag          No Location   \n",
       "1                                      No Hashtag  Seattle, Washington   \n",
       "2                     ['GrowYourOwn', 'Cannabis']   Treaty 6 Territory   \n",
       "3  ['cannabiscommunity', 'marijuana', 'cannabis']          No Location   \n",
       "4  ['cannabiscommunity', 'marijuana', 'cannabis']          No Location   \n",
       "\n",
       "                                        vader_scores  compound_scores_vader  \\\n",
       "0  {'neg': 0.0, 'neu': 1.0, 'pos': 0.0, 'compound...                 0.0000   \n",
       "1  {'neg': 0.0, 'neu': 1.0, 'pos': 0.0, 'compound...                 0.0000   \n",
       "2  {'neg': 0.0, 'neu': 0.741, 'pos': 0.259, 'comp...                 0.8126   \n",
       "3  {'neg': 0.107, 'neu': 0.893, 'pos': 0.0, 'comp...                -0.3400   \n",
       "4  {'neg': 0.0, 'neu': 1.0, 'pos': 0.0, 'compound...                 0.0000   \n",
       "\n",
       "  vader_prediction  \n",
       "0          Neutral  \n",
       "1          Neutral  \n",
       "2         Positive  \n",
       "3         Negative  \n",
       "4          Neutral  "
      ]
     },
     "execution_count": 96,
     "metadata": {},
     "output_type": "execute_result"
    }
   ],
   "source": [
    "tweet_df.head()"
   ]
  },
  {
   "cell_type": "code",
   "execution_count": 97,
   "metadata": {},
   "outputs": [
    {
     "data": {
      "text/plain": [
       "<AxesSubplot:xlabel='vader_prediction', ylabel='count'>"
      ]
     },
     "execution_count": 97,
     "metadata": {},
     "output_type": "execute_result"
    },
    {
     "data": {
      "image/png": "[encoded data removed]",
      "text/plain": [
       "<Figure size 360x360 with 1 Axes>"
      ]
     },
     "metadata": {
      "needs_background": "light"
     },
     "output_type": "display_data"
    }
   ],
   "source": [
    "#plotting distribution of sentiments using vader\n",
    "import seaborn as sns\n",
    "import matplotlib.pyplot as plt\n",
    "fig =plt.figure(figsize=(5,5))\n",
    "sns.countplot(x='vader_prediction',data=tweet_df)"
   ]
  },
  {
   "cell_type": "code",
   "execution_count": 101,
   "metadata": {},
   "outputs": [],
   "source": [
    "#\n",
    "# LDA parameters\n",
    "#\n",
    "\n",
    "# number of topics to discover (default = 10)\n",
    "topicNum = 10\n",
    "# maximum number of words to display per topic (default = 10)\n",
    "# Answer to Exercise 1 (change from 10 to 15)\n",
    "wordNumToDisplay = 15\n",
    "# this is the number of features/words to used to describe our documents\n",
    "# please feel free to change to see effect\n",
    "featureNum = 1500"
   ]
  },
  {
   "cell_type": "code",
   "execution_count": 102,
   "metadata": {},
   "outputs": [],
   "source": [
    "\"\"\"\n",
    "Performs counting via CountVectorizer and then apply the LDA model.\n",
    "\"\"\"\n",
    "\n",
    "#\n",
    "# Count Vectorizer\n",
    "#\n",
    "\n",
    "tfVectorizer = CountVectorizer(max_df=0.95, min_df=2, max_features=featureNum, stop_words='english')\n",
    "tf = tfVectorizer.fit_transform(tweet_df['Tweet'])\n",
    "# extract the names of the features (in our case, the words)\n",
    "tfFeatureNames = tfVectorizer.get_feature_names_out()\n",
    "\n",
    "\n",
    "#\n",
    "# LDA MODEL\n",
    "#\n",
    "\n",
    "# Run LDA (see documentation about what the arguments means)\n",
    "ldaModel = LatentDirichletAllocation(n_components =topicNum, max_iter=10, learning_method='online').fit(tf)"
   ]
  },
  {
   "cell_type": "code",
   "execution_count": 103,
   "metadata": {},
   "outputs": [],
   "source": [
    "def display_topics(model, featureNames, numTopWords):\n",
    "    \"\"\"\n",
    "    Prints out the most associated words for each feature.\n",
    "\n",
    "    @param model: lda model.\n",
    "    @param featureNames: list of strings, representing the list of features/words.\n",
    "    @param numTopWords: number of words to print per topic.\n",
    "    \"\"\"\n",
    "\n",
    "    # print out the topic distributions\n",
    "    for topicId, lTopicDist in enumerate(model.components_):\n",
    "        print(\"Topic %d:\" % (topicId))\n",
    "        print(\" \".join([featureNames[i] for i in lTopicDist.argsort()[:-numTopWords - 1:-1]]))"
   ]
  },
  {
   "cell_type": "code",
   "execution_count": 104,
   "metadata": {},
   "outputs": [
    {
     "name": "stdout",
     "output_type": "stream",
     "text": [
      "Topic 0:\n",
      "cannabi delta thc citi look best great way want pot legalis price gummi cultur meet\n",
      "Topic 1:\n",
      "cannabi day time join brand vape launch love studi industri follow th high economi friend\n",
      "Topic 2:\n",
      "cbd cannabi oil peopl polic gummi arrest man life help consum commun natur home bring\n",
      "Topic 3:\n",
      "cannabi legal like im good today weed make know work state octob dont year strain\n",
      "Topic 4:\n",
      "cannabi amp market product stock thank store visit buy think share ask issu list growth\n",
      "Topic 5:\n",
      "cannabi marijuana biden legal pardon commun seed feder support presid possess come right plan approv\n",
      "Topic 6:\n",
      "cannabi open oper cultiv board search effort test gt job hold counti compani famili member\n",
      "Topic 7:\n",
      "new cannabi york dispensari read link medic vote articl licens nyc equiti elect research council\n",
      "Topic 8:\n",
      "cannabi busi industri drug amp medic news regul smoke retail hemp market use talk report\n",
      "Topic 9:\n",
      "cannabi use state need marijuana sale grow illeg medic say peopl legal plant farm program\n"
     ]
    }
   ],
   "source": [
    "\n",
    "display_topics(ldaModel, tfFeatureNames, wordNumToDisplay)"
   ]
  },
  {
   "cell_type": "code",
   "execution_count": 105,
   "metadata": {},
   "outputs": [
    {
     "name": "stderr",
     "output_type": "stream",
     "text": [
      "/Users/sunny/opt/anaconda3/lib/python3.9/site-packages/sklearn/utils/deprecation.py:87: FutureWarning: Function get_feature_names is deprecated; get_feature_names is deprecated in 1.0 and will be removed in 1.2. Please use get_feature_names_out instead.\n",
      "  warnings.warn(msg, category=FutureWarning)\n",
      "/Users/sunny/opt/anaconda3/lib/python3.9/site-packages/pyLDAvis/_prepare.py:246: FutureWarning: In a future version of pandas all arguments of DataFrame.drop except for the argument 'labels' will be keyword-only.\n",
      "  default_term_info = default_term_info.sort_values(\n",
      "/Users/sunny/opt/anaconda3/lib/python3.9/site-packages/past/builtins/misc.py:45: DeprecationWarning: the imp module is deprecated in favour of importlib; see the module's documentation for alternative uses\n",
      "  from imp import reload\n",
      "/Users/sunny/opt/anaconda3/lib/python3.9/site-packages/past/builtins/misc.py:45: DeprecationWarning: the imp module is deprecated in favour of importlib; see the module's documentation for alternative uses\n",
      "  from imp import reload\n",
      "/Users/sunny/opt/anaconda3/lib/python3.9/site-packages/past/builtins/misc.py:45: DeprecationWarning: the imp module is deprecated in favour of importlib; see the module's documentation for alternative uses\n",
      "  from imp import reload\n",
      "/Users/sunny/opt/anaconda3/lib/python3.9/site-packages/past/builtins/misc.py:45: DeprecationWarning: the imp module is deprecated in favour of importlib; see the module's documentation for alternative uses\n",
      "  from imp import reload\n",
      "/Users/sunny/opt/anaconda3/lib/python3.9/site-packages/past/builtins/misc.py:45: DeprecationWarning: the imp module is deprecated in favour of importlib; see the module's documentation for alternative uses\n",
      "  from imp import reload\n",
      "/Users/sunny/opt/anaconda3/lib/python3.9/site-packages/past/builtins/misc.py:45: DeprecationWarning: the imp module is deprecated in favour of importlib; see the module's documentation for alternative uses\n",
      "  from imp import reload\n",
      "/Users/sunny/opt/anaconda3/lib/python3.9/site-packages/past/builtins/misc.py:45: DeprecationWarning: the imp module is deprecated in favour of importlib; see the module's documentation for alternative uses\n",
      "  from imp import reload\n",
      "/Users/sunny/opt/anaconda3/lib/python3.9/site-packages/past/builtins/misc.py:45: DeprecationWarning: the imp module is deprecated in favour of importlib; see the module's documentation for alternative uses\n",
      "  from imp import reload\n",
      "/Users/sunny/opt/anaconda3/lib/python3.9/site-packages/past/builtins/misc.py:45: DeprecationWarning: the imp module is deprecated in favour of importlib; see the module's documentation for alternative uses\n",
      "  from imp import reload\n",
      "/Users/sunny/opt/anaconda3/lib/python3.9/site-packages/sklearn/manifold/_t_sne.py:780: FutureWarning: The default initialization in TSNE will change from 'random' to 'pca' in 1.2.\n",
      "  warnings.warn(\n",
      "/Users/sunny/opt/anaconda3/lib/python3.9/site-packages/sklearn/manifold/_t_sne.py:790: FutureWarning: The default learning rate in TSNE will change from 200.0 to 'auto' in 1.2.\n",
      "  warnings.warn(\n",
      "/Users/sunny/opt/anaconda3/lib/python3.9/site-packages/sklearn/manifold/_t_sne.py:819: FutureWarning: 'square_distances' has been introduced in 0.24 to help phase out legacy squaring behavior. The 'legacy' setting will be removed in 1.1 (renaming of 0.26), and the default setting will be changed to True. In 1.3, 'square_distances' will be removed altogether, and distances will be squared by default. Set 'square_distances'=True to silence this warning.\n",
      "  warnings.warn(\n"
     ]
    },
    {
     "data": {
      "text/html": [
       "\n",
       "<link rel=\"stylesheet\" type=\"text/css\" href=\"https://cdn.jsdelivr.net/gh/bmabey/pyLDAvis@3.3.1/pyLDAvis/js/ldavis.v1.0.0.css\">\n",
       "\n",
       "\n",
       "<div id=\"ldavis_el1508140652681765936350025440\"></div>\n",
       "<script type=\"text/javascript\">\n",
       "\n",
       "var ldavis_el1508140652681765936350025440_data = {\"mdsDat\": {\"x\": [32.42095184326172, 0.648955225944519, 71.01968383789062, 3.7859814167022705, -42.666500091552734, -3.6216893196105957, -3.632401704788208, -36.58440017700195, 44.391380310058594, 40.235809326171875], \"y\": [8.115229606628418, 71.70709991455078, 9.971006393432617, 33.18513488769531, -9.22206974029541, -43.52651596069336, -4.171707630157471, 35.804412841796875, 50.61538314819336, -31.591665267944336], \"topics\": [1, 2, 3, 4, 5, 6, 7, 8, 9, 10], \"cluster\": [1, 1, 1, 1, 1, 1, 1, 1, 1, 1], \"Freq\": [15.04870750364935, 13.392661208483592, 11.92981181318184, 9.581226806978934, 9.341866468324836, 9.096485417443429, 9.035690778145772, 8.239096236327066, 7.406333260346871, 6.928120507118317]}, \"tinfo\": {\"Term\": [\"new\", \"cbd\", \"marijuana\", \"amp\", \"busi\", \"legal\", \"biden\", \"state\", \"like\", \"use\", \"peopl\", \"pardon\", \"seed\", \"time\", \"delta\", \"day\", \"thc\", \"im\", \"market\", \"medic\", \"york\", \"good\", \"drug\", \"citi\", \"industri\", \"need\", \"today\", \"oil\", \"look\", \"polic\", \"drug\", \"smoke\", \"retail\", \"hemp\", \"talk\", \"becom\", \"thing\", \"watch\", \"director\", \"harm\", \"global\", \"pleas\", \"mean\", \"class\", \"children\", \"action\", \"commiss\", \"alcohol\", \"lead\", \"regul\", \"risk\", \"scienc\", \"current\", \"journal\", \"drive\", \"execut\", \"schedul\", \"packag\", \"servic\", \"reschedul\", \"busi\", \"led\", \"medicin\", \"industri\", \"chang\", \"report\", \"cannabi\", \"applic\", \"news\", \"long\", \"amp\", \"medic\", \"discuss\", \"market\", \"licens\", \"use\", \"legal\", \"grow\", \"plant\", \"high\", \"need\", \"sale\", \"illeg\", \"program\", \"let\", \"month\", \"governor\", \"better\", \"grower\", \"enforc\", \"hous\", \"anoth\", \"ca\", \"consid\", \"qualiti\", \"color\", \"environ\", \"shut\", \"prohibit\", \"jail\", \"receiv\", \"white\", \"ban\", \"complianc\", \"night\", \"substanc\", \"task\", \"therapeut\", \"mind\", \"school\", \"said\", \"green\", \"patient\", \"art\", \"state\", \"big\", \"use\", \"farm\", \"health\", \"grow\", \"say\", \"learn\", \"plant\", \"california\", \"million\", \"cannabi\", \"peopl\", \"medic\", \"marijuana\", \"legal\", \"dont\", \"product\", \"time\", \"life\", \"commun\", \"weed\", \"biden\", \"pardon\", \"seed\", \"feder\", \"presid\", \"possess\", \"right\", \"plan\", \"approv\", \"live\", \"review\", \"convict\", \"invest\", \"nation\", \"stori\", \"pack\", \"worth\", \"treat\", \"hour\", \"bank\", \"person\", \"voter\", \"novemb\", \"prison\", \"joe\", \"safe\", \"bag\", \"poll\", \"smell\", \"feminis\", \"support\", \"marijuana\", \"recreat\", \"recent\", \"commun\", \"come\", \"legal\", \"week\", \"cannabi\", \"announc\", \"law\", \"news\", \"join\", \"vape\", \"launch\", \"th\", \"economi\", \"friend\", \"photo\", \"feel\", \"design\", \"flower\", \"offici\", \"major\", \"benefit\", \"countri\", \"discord\", \"light\", \"tell\", \"set\", \"michigan\", \"boost\", \"fuck\", \"consumpt\", \"celebr\", \"oct\", \"shit\", \"unit\", \"bud\", \"push\", \"win\", \"view\", \"day\", \"time\", \"brand\", \"studi\", \"follow\", \"love\", \"post\", \"cannabi\", \"high\", \"industri\", \"commun\", \"year\", \"delta\", \"thc\", \"citi\", \"look\", \"best\", \"way\", \"pot\", \"legalis\", \"cultur\", \"meet\", \"space\", \"allow\", \"american\", \"cannabinoid\", \"women\", \"prevent\", \"everyon\", \"flavor\", \"someth\", \"easi\", \"sweet\", \"matter\", \"someon\", \"ive\", \"everyth\", \"favorit\", \"quarter\", \"sever\", \"belli\", \"punch\", \"power\", \"great\", \"price\", \"enjoy\", \"littl\", \"want\", \"parti\", \"gummi\", \"buy\", \"cannabi\", \"world\", \"youtub\", \"im\", \"good\", \"today\", \"octob\", \"strain\", \"got\", \"public\", \"tax\", \"question\", \"group\", \"manag\", \"canada\", \"access\", \"age\", \"campaign\", \"hit\", \"import\", \"south\", \"uk\", \"guy\", \"away\", \"cooki\", \"econom\", \"break\", \"kid\", \"leafli\", \"wont\", \"guid\", \"student\", \"connect\", \"like\", \"work\", \"weed\", \"know\", \"make\", \"dont\", \"legal\", \"govern\", \"cannabi\", \"year\", \"state\", \"check\", \"polic\", \"arrest\", \"man\", \"consum\", \"natur\", \"home\", \"bring\", \"build\", \"podcast\", \"alway\", \"street\", \"nft\", \"confer\", \"cash\", \"protect\", \"ad\", \"place\", \"thought\", \"smokerscommun\", \"anyon\", \"oz\", \"yearold\", \"premium\", \"add\", \"cannabidiol\", \"progress\", \"oregon\", \"claim\", \"spectrum\", \"warn\", \"cbd\", \"oil\", \"peopl\", \"gummi\", \"organ\", \"life\", \"help\", \"mg\", \"infus\", \"cannabi\", \"commun\", \"free\", \"want\", \"mani\", \"make\", \"thank\", \"store\", \"visit\", \"ask\", \"experi\", \"share\", \"growth\", \"video\", \"realli\", \"colorado\", \"list\", \"deal\", \"order\", \"mayor\", \"stay\", \"morn\", \"billion\", \"candi\", \"posit\", \"halloween\", \"project\", \"hope\", \"fine\", \"produc\", \"hand\", \"polit\", \"believ\", \"left\", \"alreadi\", \"yall\", \"stock\", \"amp\", \"market\", \"think\", \"onlin\", \"product\", \"buy\", \"issu\", \"provid\", \"cannabi\", \"illicit\", \"team\", \"start\", \"new\", \"york\", \"read\", \"link\", \"articl\", \"nyc\", \"equiti\", \"elect\", \"drop\", \"rule\", \"updat\", \"dawson\", \"dasheeda\", \"adultus\", \"featur\", \"appoint\", \"crimin\", \"decrimin\", \"psychedel\", \"combat\", \"episod\", \"boss\", \"tech\", \"author\", \"ye\", \"origin\", \"ndlea\", \"ny\", \"nearli\", \"ordin\", \"council\", \"dispensari\", \"vote\", \"cannabi\", \"licens\", \"research\", \"medic\", \"real\", \"open\", \"oper\", \"cultiv\", \"board\", \"search\", \"effort\", \"test\", \"gt\", \"hold\", \"counti\", \"famili\", \"member\", \"candid\", \"speak\", \"regist\", \"bonta\", \"bolster\", \"san\", \"rob\", \"soon\", \"partner\", \"driver\", \"gener\", \"sleep\", \"excit\", \"bear\", \"largest\", \"sign\", \"readi\", \"fight\", \"job\", \"event\", \"cannabi\", \"compani\", \"shop\"], \"Freq\": [930.0, 687.0, 945.0, 628.0, 499.0, 927.0, 376.0, 448.0, 315.0, 528.0, 389.0, 293.0, 290.0, 350.0, 258.0, 269.0, 250.0, 247.0, 348.0, 522.0, 220.0, 238.0, 294.0, 231.0, 546.0, 271.0, 223.0, 254.0, 220.0, 209.0, 293.73361346180627, 173.19978964144244, 161.0162122611649, 157.58024975644165, 137.9421507053311, 109.46179491056422, 102.20997900510731, 87.7355738089651, 86.62613740985587, 83.41216480425743, 78.68475606756908, 86.35897104288928, 77.7839361213417, 76.06564673729515, 74.0770607936852, 70.6154915678653, 70.02021977996245, 68.69167588587169, 67.66690036485065, 178.96129937479247, 64.00853162462529, 63.457857418711065, 62.03709634753397, 59.17927059209434, 58.960712201523435, 58.65903749370252, 57.46986840259377, 56.228488816019095, 56.14210521591726, 52.671408567583434, 482.50533769225433, 88.78924514246906, 125.86172903405956, 350.8239024390012, 118.88554416036513, 133.3831681899525, 1816.9818280946345, 105.00933213787157, 187.8718699670147, 76.98681116413384, 231.95536232521854, 198.7224462623304, 91.6043757636519, 153.57151293686246, 112.22882813867174, 143.52674240709732, 120.98079175476983, 99.3352459012179, 90.35408940804012, 85.9359017423902, 270.4328822993476, 223.48306208489484, 202.5322540291916, 143.01519544972646, 110.86098942183422, 93.5511680563538, 90.67944259344691, 85.45123385821353, 76.11771110398783, 74.96571576277294, 74.40684282597556, 73.78430320146066, 62.37444911922181, 59.849485186374366, 59.182484185999115, 58.02386368390582, 57.870669490344696, 55.95368753142694, 57.181311423574, 49.02871380042481, 46.102859168919956, 45.37569550240633, 45.1625206054762, 43.99566644783675, 40.75794959451451, 40.046384071506985, 39.39062453579532, 39.12095469408816, 38.76454152855912, 37.36776488283642, 142.83487214294925, 79.18841947400145, 136.1040859934003, 61.98475281081833, 317.72787177500334, 89.30818528823468, 362.58678584769524, 144.06014791181667, 115.81348333045445, 219.18817489702647, 183.86791420908517, 104.08636125298386, 145.80358159075143, 93.23224060177765, 123.65477491581798, 1040.7110709099786, 180.10510700808874, 201.06618094082182, 235.04382222882361, 171.84232214871085, 99.5813559962502, 96.97386333604392, 96.61173283680439, 86.88731737941418, 93.7900301188435, 88.01122360803649, 375.9082838332983, 292.4854241608666, 289.27568367068255, 201.14123290467055, 142.3623238877881, 141.5142692469172, 131.75689227781822, 130.8827099681917, 124.99225302977322, 116.1608814559565, 101.17961007052904, 99.47025600629446, 99.73114620360136, 92.04823806247367, 87.53290686735014, 85.31014759499789, 81.91930140504152, 77.19214747915534, 76.11929285703634, 72.36058533116423, 68.7006361159751, 68.3679453857523, 66.91552650586382, 66.43390619893866, 61.99807463474963, 60.99808361699656, 59.56650540830288, 57.917933338856855, 57.10198741302355, 55.88199321551753, 189.83457579992918, 623.4514748862667, 103.90172753701103, 81.3538301671483, 290.5123875532471, 136.30796081213228, 320.5471393840457, 107.5790499791632, 646.183353936279, 102.61685351365169, 81.50450593285397, 80.69343983221577, 153.0281235259704, 147.07720703136295, 132.59984394640549, 111.84713433997779, 108.13586998987387, 100.33659067665155, 99.5781667237179, 90.57092449861474, 89.23246262911528, 89.0964694511137, 88.4943446825544, 88.06760779668637, 87.16462924649872, 79.10991198372935, 78.31818503364916, 74.38339184918075, 70.93011790883213, 68.8650296314716, 64.8081397673012, 64.1994736871844, 63.315811416500054, 61.83752682554224, 57.36769377386371, 55.0613019349658, 54.9628638521267, 51.60117371182194, 51.84923462715203, 50.435173557459045, 50.07704175279489, 49.35333039200902, 260.7267016359533, 252.69598435348433, 147.3523381025841, 119.1614642506556, 112.26721619483912, 129.39859806931315, 87.90968623108841, 623.1043925276706, 110.98948343857039, 118.41625408427295, 99.76271256617125, 69.8777837450833, 257.16736684785417, 249.7648705227621, 230.7273944649521, 219.61821171965525, 185.8877421656849, 164.75844261561338, 148.36570246531207, 137.41653144869218, 118.97362343872119, 113.76358111067475, 108.93491826431274, 107.99100478235052, 83.62728501448738, 78.86053115229623, 71.94707143027169, 66.21911465522463, 64.88214423137453, 57.68261894645552, 56.36289835526736, 49.74304100152701, 48.420601235813336, 46.21633501232111, 43.54001314394742, 43.11092270486581, 43.54080110240298, 42.94812914137375, 41.20483146121708, 40.12052088424604, 39.168402986142006, 38.64621092109576, 52.559160144487066, 174.64867092767798, 123.18426293561811, 80.89317347659423, 70.92598748043612, 158.06475824937993, 67.74387890422628, 119.66165084281924, 82.66227728950751, 279.0725332173916, 72.78446564512068, 55.37849214123756, 246.8496981892939, 237.99595298091324, 222.58981346661164, 126.16768664631108, 106.33495737232363, 100.73471892537692, 95.48765911496533, 95.43106563566771, 83.86206612270136, 80.13178371453725, 77.53629217003764, 74.65878356499769, 72.07189251644976, 70.07847688719875, 70.29428261895785, 69.7794651457237, 69.22341758029681, 61.74727174373017, 66.7005711262817, 56.400670316609386, 55.33425329794143, 51.994425187743886, 50.07520760815356, 48.51171143140616, 45.99903393092916, 45.19324603602493, 44.73827343891617, 44.33027624381668, 41.67867599991586, 41.497822372557565, 281.7534860165075, 152.8671356152254, 178.89307462556914, 159.17820126134265, 161.68216774446122, 125.55164989840677, 298.33087022512916, 74.09944774965105, 574.3346684816637, 112.28618002112444, 130.30151470740122, 88.91296001234637, 208.80456478285453, 139.96074317052506, 123.86838434589909, 112.55929074955044, 99.65392586811353, 87.0336816232808, 85.03643986822858, 83.92585144407502, 80.34669551254383, 76.77152285761504, 75.82956015889495, 66.29469351259728, 65.95010947709615, 60.89096016538443, 57.6371938408205, 56.85185351746761, 56.119803314949166, 54.95707544732103, 49.405984648988614, 48.09481296890599, 48.042911008815246, 44.61306990790353, 43.20025604985923, 42.4382150662007, 41.95930815801454, 41.92993299831565, 41.795676297686825, 40.244495898062716, 39.189167213152736, 38.49355758692889, 651.5094647960888, 229.87198234527438, 209.02185846283953, 164.87493241126916, 60.52383440826966, 122.3136554447962, 115.27211412828653, 72.55593795323348, 66.66818399578044, 283.4686209749658, 110.58524892328074, 66.43254042389015, 79.09757038798918, 60.41497100408311, 57.12851674880004, 133.34862827981325, 133.25746957745935, 118.84349865353923, 92.62832294208489, 82.75806581137105, 94.72197412265876, 82.76310914025953, 74.85162172004895, 73.90681746678524, 72.43067034294087, 84.06744604927317, 68.06273799204232, 63.632788068090306, 58.80741029911963, 58.52432239102862, 57.98804203329092, 56.56395009888993, 53.98803345247526, 53.95770749185224, 53.58547610673757, 52.62305384185886, 51.4336865647739, 51.15298214102004, 50.825393619918806, 49.960182903503274, 48.874857374952484, 48.79088644601897, 48.64567199840099, 46.1460623428624, 45.64273993043399, 149.84812321298733, 391.0699847648741, 193.76397421941505, 102.32794451406615, 59.41482807394934, 163.74894648798536, 115.24728125923734, 89.03618306394625, 73.51648948199285, 399.5401285570203, 58.10788612724432, 60.565031032935195, 57.53476060111309, 929.2888020008894, 219.1834276188876, 129.50364457775945, 124.3678918317278, 112.82054696619622, 93.77463043551816, 92.88176658812088, 90.34397141618064, 71.49189199081837, 78.32048395644321, 70.02733369911795, 69.26514558473875, 64.40927420053148, 61.97400843313899, 60.937890361750526, 60.61868795393989, 59.51600795995145, 59.20217160821961, 59.024842142494194, 55.54270087965848, 54.02458102434213, 53.2312190589955, 52.99714564895069, 52.2498966611335, 49.359378234993436, 48.33268720423127, 44.28289012991061, 42.85525713500322, 42.58371730214684, 42.4312265090091, 83.09160474613437, 144.26138721311048, 117.56226756890075, 625.1897963277297, 95.45531354612228, 86.62140210637821, 121.59370359162894, 64.26703004383778, 135.4106388226061, 133.94673166432463, 98.66501101161352, 96.31490469238442, 94.55281888204607, 93.80319532307065, 93.00262027005591, 88.19783955654079, 83.48250353618398, 80.29902812466915, 76.37619969221048, 72.56956698037932, 69.63945365154294, 61.67294591611267, 56.48293142703295, 55.25153250216803, 53.80772151358748, 53.460320320046165, 52.629691129145634, 50.667728923061915, 50.63095233190212, 48.717443805783496, 48.70157154323001, 48.21335192464444, 46.349325774472824, 46.0411427449526, 45.96962267715634, 47.706769076160064, 44.85747371658836, 44.48835172503946, 86.75894697629295, 65.18320866788507, 348.6583411863571, 80.27669212756203, 50.38445157221389], \"Total\": [930.0, 687.0, 945.0, 628.0, 499.0, 927.0, 376.0, 448.0, 315.0, 528.0, 389.0, 293.0, 290.0, 350.0, 258.0, 269.0, 250.0, 247.0, 348.0, 522.0, 220.0, 238.0, 294.0, 231.0, 546.0, 271.0, 223.0, 254.0, 220.0, 209.0, 294.625457934868, 174.09165216792078, 161.90808331350073, 158.47214100566072, 138.83411536252515, 110.35406062032361, 103.10187899725172, 88.62746603806404, 87.51805838619647, 84.30440046381167, 79.5765872864698, 87.34127892154542, 78.67580274819532, 76.95743732332465, 74.96887231311283, 71.50739687445727, 70.91204369877396, 69.58351148183225, 68.5587630303086, 181.32077579212395, 64.90033075384993, 64.34965747216265, 62.929107443972896, 60.07111124971286, 59.852567226717184, 59.55086087009349, 58.361677201246074, 57.120392539458656, 57.03396636932011, 53.56323008692579, 499.98204399698585, 93.62052459988774, 143.32948495626758, 546.5785996733737, 146.5686503597914, 178.42404403315484, 6637.244734213691, 134.8123608322736, 320.3712905052185, 87.1756877132841, 628.5080867910233, 522.0759490881532, 121.66679953379725, 348.12684070254693, 208.4750928114305, 528.7629185518396, 927.8583512617714, 368.9586263330366, 236.9522454886412, 231.11375044773231, 271.322503472498, 224.37263850563534, 203.42179448373278, 143.9053189287444, 111.75061429504191, 94.44085357317431, 91.56899062832467, 86.34084952470496, 77.00729750907023, 75.85528335874443, 75.29650621918154, 74.67394364335365, 63.26398659103184, 60.73908828056963, 60.072084835924436, 58.91357400361672, 58.760211777898306, 56.84320350470588, 58.09439128739496, 49.91826418086727, 46.99253159093284, 46.26532191552721, 46.05209354080492, 44.88521843909507, 41.647613093380244, 40.935954136455265, 40.28011973122408, 40.01063550440542, 39.65421398121632, 38.25735304804405, 150.69778783499586, 83.06907257214073, 155.66401376464916, 67.03782141105457, 448.83916106006933, 103.232684430802, 528.7629185518396, 189.22071530947068, 153.5562874045878, 368.9586263330366, 294.80050694504627, 142.1616663865687, 236.9522454886412, 124.52506803056693, 198.09545477433403, 6637.244734213691, 389.917560186877, 522.0759490881532, 945.6740074633607, 927.8583512617714, 225.930396578005, 341.252360088789, 350.474747938862, 209.99150842904515, 611.5691389045228, 267.73740368256006, 376.79967241912425, 293.376737754544, 290.1670303806748, 202.0325959216603, 143.25373231642013, 142.4590208478772, 132.64832280210223, 131.77411842312853, 125.88365856255612, 117.05243179060527, 102.07099408757009, 100.36164041717895, 100.67784132090458, 92.93967368358271, 88.4243852537274, 86.20155686404026, 82.81072588276568, 78.08363341021327, 77.01073464548796, 73.25194977282334, 69.59209503846965, 69.25929969129784, 67.80695855192427, 67.32526367509509, 62.88937086582782, 61.88957441303121, 60.45793752808364, 58.81488015370125, 57.99341425754813, 56.773271175029095, 207.64365105160357, 945.6740074633607, 118.37157354470125, 91.10481789887365, 611.5691389045228, 215.04901733042146, 927.8583512617714, 171.24025835213033, 6637.244734213691, 187.41919025386784, 205.4133270151793, 320.3712905052185, 153.91654753651815, 147.96556260714553, 133.48823675737597, 112.73578050182559, 109.0244299035841, 101.22494125820558, 100.46648097837323, 91.45931510190339, 90.12081389177885, 89.98485536797342, 89.38274414158204, 88.95773458690633, 88.05302753498361, 79.99830075809446, 79.20651097018371, 75.27233839371384, 71.81862232396543, 69.75346550197075, 65.69655307507301, 65.08788753146338, 64.20419470160682, 62.72592109559547, 58.256051819768935, 55.94973466122557, 55.85123642989346, 52.48959774091986, 52.75566514236463, 51.323634878345494, 50.9654518541035, 50.24176884715601, 269.1172231031393, 350.474747938862, 190.87547581527392, 165.00811735587132, 153.13153502719638, 190.67196147311253, 114.8707303933789, 6637.244734213691, 231.11375044773231, 546.5785996733737, 611.5691389045228, 273.482214628419, 258.05681761649777, 250.6543599355018, 231.6170338883444, 220.50782572170223, 186.77728589706322, 165.64799120649215, 149.25520457815614, 138.3060685394343, 119.86327908210819, 114.6531954464689, 109.8244444416704, 108.88062477826463, 84.5168884968202, 79.75003026095773, 72.83664081939169, 67.10863383152004, 65.77592441245818, 58.57213787324554, 57.25247112306845, 50.63295336173056, 49.3101061723264, 47.10592082318972, 44.42961604560566, 44.00046110251763, 44.44194191479807, 43.838088666992654, 42.09429437296485, 41.01007371824063, 40.057822697739084, 39.53566074617928, 54.162670212135, 197.8982521618107, 159.20321692494136, 99.89564176771873, 87.56112808440011, 294.48545653544465, 92.75059482374718, 285.3270194356301, 199.50706326822038, 6637.244734213691, 154.37804272463336, 77.70835232611427, 247.73742107700411, 238.88343404868087, 223.47730853448746, 127.0791355955335, 107.22249280199884, 101.63276880967992, 96.37514753474903, 96.31853834786364, 84.7495460587663, 81.01925985457515, 78.42383078681883, 75.54623702783249, 72.95942125207307, 70.96595865667544, 71.18707310940509, 70.66695493218867, 70.11095861200243, 62.63472339269876, 67.6715455225109, 57.28812718904278, 56.22188734560203, 52.881903215753894, 50.962743095749815, 49.39918309453806, 46.8864883015175, 46.080680523998716, 45.62576761635141, 45.217698845959696, 42.566138083264995, 42.385330245421855, 315.1326449015375, 186.62808510234993, 267.73740368256006, 232.29824953959897, 315.1791283202241, 225.930396578005, 927.8583512617714, 102.57487362322244, 6637.244734213691, 273.482214628419, 448.83916106006933, 200.5524970361763, 209.6923916530087, 140.8485671914363, 124.75621346119975, 113.44719421286196, 100.54357551806058, 87.92156814553556, 85.92441144193666, 84.81374769521186, 81.2345926319649, 77.65940742197263, 76.71740780123146, 67.182538786896, 66.83804365887714, 61.77889342085659, 58.52514071337254, 57.73972791473007, 57.00771623067574, 55.84499459538168, 50.29377068994593, 48.982702844935346, 48.93079383836058, 45.50087282204464, 44.08812022788844, 43.326086752448724, 42.8471065613072, 42.817772573991526, 42.68358435078281, 41.13237410973175, 40.076990366271666, 39.38148897476088, 687.6830891027437, 254.67425670272294, 389.917560186877, 285.3270194356301, 73.47599818600457, 209.99150842904515, 218.61977915794282, 126.41885211065578, 109.82217000037299, 6637.244734213691, 611.5691389045228, 135.84420844606836, 294.48545653544465, 157.02973293022904, 315.1791283202241, 134.23504110866907, 134.143817824667, 119.73153958808501, 93.51472481806732, 83.64444526052537, 95.7456293994645, 83.68747501866245, 75.73807558583123, 74.79322590240285, 73.31711087102978, 85.14342901690178, 68.94914510839531, 64.51919530496954, 59.69383784832134, 59.41068724213392, 58.874370980708, 57.450326963967555, 54.87441905801835, 54.84420353969365, 54.471770037583276, 53.50941497389267, 52.32010126567117, 52.03935525826226, 51.71184843485915, 50.84689459426063, 49.76150090832366, 49.677275355645804, 49.53208965954049, 47.032443162297376, 46.52907273542402, 175.52612704811705, 628.5080867910233, 348.12684070254693, 144.75365460080852, 67.26294616512804, 341.252360088789, 199.50706326822038, 144.32228549509756, 119.13648190084358, 6637.244734213691, 71.75188753368323, 89.61743023889191, 147.40510901128118, 930.1752521764696, 220.0693486030917, 130.38965967375918, 125.25389581284468, 113.70668660201387, 94.6605636800469, 93.76778668730148, 91.22996544123677, 72.37791238318212, 79.29853218090393, 70.9133227256877, 70.15232165165038, 65.29711412967907, 62.859990386024215, 61.82393494147623, 61.50461229163644, 60.40216492776669, 60.08818785463428, 59.910817483201065, 56.428639621435536, 54.91058181717472, 54.117151984588176, 53.88319675340421, 53.135902691095794, 50.24544684090542, 49.2187831650788, 45.16884114308106, 43.74124594539515, 43.469733104557726, 43.31713441749555, 87.51719722165102, 202.127132199663, 162.12934672937675, 6637.244734213691, 208.4750928114305, 176.30638713987676, 522.0759490881532, 95.48719419414869, 136.29439151985522, 134.8304879473942, 99.54873377328589, 97.19857801431071, 95.43648152967552, 94.68688103918774, 93.88633098080014, 89.081525382691, 84.36622586250355, 81.1827259820805, 77.25995395493622, 73.45331868468352, 70.52316271160295, 62.556694913732116, 57.36677246989666, 56.1408591642636, 54.691382399661535, 54.344072396289086, 53.5286178862472, 51.55146003821828, 51.51481743848992, 49.60113010459904, 49.58532753818622, 49.0970402036716, 47.23306206979874, 46.92508467183403, 46.853337224856084, 48.632176461032046, 45.74118050006191, 45.372079214495855, 115.37566254204282, 90.75170846688857, 6637.244734213691, 245.31912843709395, 74.56590640816366], \"Category\": [\"Default\", \"Default\", \"Default\", \"Default\", \"Default\", \"Default\", \"Default\", \"Default\", \"Default\", \"Default\", \"Default\", \"Default\", \"Default\", \"Default\", \"Default\", \"Default\", \"Default\", \"Default\", \"Default\", \"Default\", \"Default\", \"Default\", \"Default\", \"Default\", \"Default\", \"Default\", \"Default\", \"Default\", \"Default\", \"Default\", \"Topic1\", \"Topic1\", \"Topic1\", \"Topic1\", \"Topic1\", \"Topic1\", \"Topic1\", \"Topic1\", \"Topic1\", \"Topic1\", \"Topic1\", \"Topic1\", \"Topic1\", \"Topic1\", \"Topic1\", \"Topic1\", \"Topic1\", \"Topic1\", \"Topic1\", \"Topic1\", \"Topic1\", \"Topic1\", \"Topic1\", \"Topic1\", \"Topic1\", \"Topic1\", \"Topic1\", \"Topic1\", \"Topic1\", \"Topic1\", \"Topic1\", \"Topic1\", \"Topic1\", \"Topic1\", \"Topic1\", \"Topic1\", \"Topic1\", \"Topic1\", \"Topic1\", \"Topic1\", \"Topic1\", \"Topic1\", \"Topic1\", \"Topic1\", \"Topic1\", \"Topic1\", \"Topic1\", \"Topic1\", \"Topic1\", \"Topic1\", \"Topic2\", \"Topic2\", \"Topic2\", \"Topic2\", \"Topic2\", \"Topic2\", \"Topic2\", \"Topic2\", \"Topic2\", \"Topic2\", \"Topic2\", \"Topic2\", \"Topic2\", \"Topic2\", \"Topic2\", \"Topic2\", \"Topic2\", \"Topic2\", \"Topic2\", \"Topic2\", \"Topic2\", \"Topic2\", \"Topic2\", \"Topic2\", \"Topic2\", \"Topic2\", \"Topic2\", \"Topic2\", \"Topic2\", \"Topic2\", \"Topic2\", \"Topic2\", \"Topic2\", \"Topic2\", \"Topic2\", \"Topic2\", \"Topic2\", \"Topic2\", \"Topic2\", \"Topic2\", \"Topic2\", \"Topic2\", \"Topic2\", \"Topic2\", \"Topic2\", \"Topic2\", \"Topic2\", \"Topic2\", \"Topic2\", \"Topic2\", \"Topic2\", \"Topic2\", \"Topic2\", \"Topic2\", \"Topic2\", \"Topic2\", \"Topic3\", \"Topic3\", \"Topic3\", \"Topic3\", \"Topic3\", \"Topic3\", \"Topic3\", \"Topic3\", \"Topic3\", \"Topic3\", \"Topic3\", \"Topic3\", \"Topic3\", \"Topic3\", \"Topic3\", \"Topic3\", \"Topic3\", \"Topic3\", \"Topic3\", \"Topic3\", \"Topic3\", \"Topic3\", \"Topic3\", \"Topic3\", \"Topic3\", \"Topic3\", \"Topic3\", \"Topic3\", \"Topic3\", \"Topic3\", \"Topic3\", \"Topic3\", \"Topic3\", \"Topic3\", \"Topic3\", \"Topic3\", \"Topic3\", \"Topic3\", \"Topic3\", \"Topic3\", \"Topic3\", \"Topic3\", \"Topic4\", \"Topic4\", \"Topic4\", \"Topic4\", \"Topic4\", \"Topic4\", \"Topic4\", \"Topic4\", \"Topic4\", \"Topic4\", \"Topic4\", \"Topic4\", \"Topic4\", \"Topic4\", \"Topic4\", \"Topic4\", \"Topic4\", \"Topic4\", \"Topic4\", \"Topic4\", \"Topic4\", \"Topic4\", \"Topic4\", \"Topic4\", \"Topic4\", \"Topic4\", \"Topic4\", \"Topic4\", \"Topic4\", \"Topic4\", \"Topic4\", \"Topic4\", \"Topic4\", \"Topic4\", \"Topic4\", \"Topic4\", \"Topic4\", \"Topic4\", \"Topic4\", \"Topic4\", \"Topic4\", \"Topic4\", \"Topic5\", \"Topic5\", \"Topic5\", \"Topic5\", \"Topic5\", \"Topic5\", \"Topic5\", \"Topic5\", \"Topic5\", \"Topic5\", \"Topic5\", \"Topic5\", \"Topic5\", \"Topic5\", \"Topic5\", \"Topic5\", \"Topic5\", \"Topic5\", \"Topic5\", \"Topic5\", \"Topic5\", \"Topic5\", \"Topic5\", \"Topic5\", \"Topic5\", \"Topic5\", \"Topic5\", \"Topic5\", \"Topic5\", \"Topic5\", \"Topic5\", \"Topic5\", \"Topic5\", \"Topic5\", \"Topic5\", \"Topic5\", \"Topic5\", \"Topic5\", \"Topic5\", \"Topic5\", \"Topic5\", \"Topic5\", \"Topic6\", \"Topic6\", \"Topic6\", \"Topic6\", \"Topic6\", \"Topic6\", \"Topic6\", \"Topic6\", \"Topic6\", \"Topic6\", \"Topic6\", \"Topic6\", \"Topic6\", \"Topic6\", \"Topic6\", \"Topic6\", \"Topic6\", \"Topic6\", \"Topic6\", \"Topic6\", \"Topic6\", \"Topic6\", \"Topic6\", \"Topic6\", \"Topic6\", \"Topic6\", \"Topic6\", \"Topic6\", \"Topic6\", \"Topic6\", \"Topic6\", \"Topic6\", \"Topic6\", \"Topic6\", \"Topic6\", \"Topic6\", \"Topic6\", \"Topic6\", \"Topic6\", \"Topic6\", \"Topic6\", \"Topic6\", \"Topic7\", \"Topic7\", \"Topic7\", \"Topic7\", \"Topic7\", \"Topic7\", \"Topic7\", \"Topic7\", \"Topic7\", \"Topic7\", \"Topic7\", \"Topic7\", \"Topic7\", \"Topic7\", \"Topic7\", \"Topic7\", \"Topic7\", \"Topic7\", \"Topic7\", \"Topic7\", \"Topic7\", \"Topic7\", \"Topic7\", \"Topic7\", \"Topic7\", \"Topic7\", \"Topic7\", \"Topic7\", \"Topic7\", \"Topic7\", \"Topic7\", \"Topic7\", \"Topic7\", \"Topic7\", \"Topic7\", \"Topic7\", \"Topic7\", \"Topic7\", \"Topic7\", \"Topic7\", \"Topic7\", \"Topic7\", \"Topic7\", \"Topic7\", \"Topic7\", \"Topic8\", \"Topic8\", \"Topic8\", \"Topic8\", \"Topic8\", \"Topic8\", \"Topic8\", \"Topic8\", \"Topic8\", \"Topic8\", \"Topic8\", \"Topic8\", \"Topic8\", \"Topic8\", \"Topic8\", \"Topic8\", \"Topic8\", \"Topic8\", \"Topic8\", \"Topic8\", \"Topic8\", \"Topic8\", \"Topic8\", \"Topic8\", \"Topic8\", \"Topic8\", \"Topic8\", \"Topic8\", \"Topic8\", \"Topic8\", \"Topic8\", \"Topic8\", \"Topic8\", \"Topic8\", \"Topic8\", \"Topic8\", \"Topic8\", \"Topic8\", \"Topic8\", \"Topic8\", \"Topic8\", \"Topic8\", \"Topic8\", \"Topic9\", \"Topic9\", \"Topic9\", \"Topic9\", \"Topic9\", \"Topic9\", \"Topic9\", \"Topic9\", \"Topic9\", \"Topic9\", \"Topic9\", \"Topic9\", \"Topic9\", \"Topic9\", \"Topic9\", \"Topic9\", \"Topic9\", \"Topic9\", \"Topic9\", \"Topic9\", \"Topic9\", \"Topic9\", \"Topic9\", \"Topic9\", \"Topic9\", \"Topic9\", \"Topic9\", \"Topic9\", \"Topic9\", \"Topic9\", \"Topic9\", \"Topic9\", \"Topic9\", \"Topic9\", \"Topic9\", \"Topic9\", \"Topic9\", \"Topic9\", \"Topic10\", \"Topic10\", \"Topic10\", \"Topic10\", \"Topic10\", \"Topic10\", \"Topic10\", \"Topic10\", \"Topic10\", \"Topic10\", \"Topic10\", \"Topic10\", \"Topic10\", \"Topic10\", \"Topic10\", \"Topic10\", \"Topic10\", \"Topic10\", \"Topic10\", \"Topic10\", \"Topic10\", \"Topic10\", \"Topic10\", \"Topic10\", \"Topic10\", \"Topic10\", \"Topic10\", \"Topic10\", \"Topic10\", \"Topic10\", \"Topic10\", \"Topic10\", \"Topic10\", \"Topic10\", \"Topic10\"], \"logprob\": [30.0, 29.0, 28.0, 27.0, 26.0, 25.0, 24.0, 23.0, 22.0, 21.0, 20.0, 19.0, 18.0, 17.0, 16.0, 15.0, 14.0, 13.0, 12.0, 11.0, 10.0, 9.0, 8.0, 7.0, 6.0, 5.0, 4.0, 3.0, 2.0, 1.0, -3.7859, -4.3141, -4.387, -4.4086, -4.5417, -4.773, -4.8415, -4.9942, -5.0069, -5.0447, -5.1031, -5.01, -5.1146, -5.1369, -5.1634, -5.2113, -5.2198, -5.2389, -5.2539, -4.2814, -5.3095, -5.3182, -5.3408, -5.388, -5.3917, -5.3968, -5.4173, -5.4391, -5.4407, -5.5045, -3.2895, -4.9823, -4.6334, -3.6083, -4.6904, -4.5753, -1.9636, -4.8145, -4.2328, -5.1249, -4.022, -4.1766, -4.9511, -4.4344, -4.748, -4.502, -4.6729, -4.87, -4.9648, -5.0149, -3.7519, -3.9426, -4.0411, -4.389, -4.6437, -4.8134, -4.8446, -4.904, -5.0197, -5.0349, -5.0424, -5.0508, -5.2188, -5.2601, -5.2713, -5.2911, -5.2937, -5.3274, -5.3057, -5.4595, -5.5211, -5.537, -5.5417, -5.5679, -5.6443, -5.6619, -5.6784, -5.6853, -5.6944, -5.7311, -4.3903, -4.9801, -4.4385, -5.2251, -3.5908, -4.8599, -3.4587, -4.3817, -4.6, -3.962, -4.1377, -4.7067, -4.3697, -4.8169, -4.5345, -2.4043, -4.1584, -4.0483, -3.8922, -4.2054, -4.751, -4.7775, -4.7813, -4.8873, -4.8109, -4.8745, -3.3069, -3.5579, -3.5689, -3.9323, -4.2779, -4.2839, -4.3553, -4.362, -4.408, -4.4813, -4.6194, -4.6364, -4.6338, -4.714, -4.7643, -4.79, -4.8306, -4.89, -4.904, -4.9546, -5.0065, -5.0114, -5.0329, -5.0401, -5.1092, -5.1254, -5.1492, -5.1773, -5.1914, -5.213, -3.9901, -2.801, -4.5928, -4.8375, -3.5646, -4.3214, -3.4663, -4.5581, -2.7652, -4.6053, -4.8356, -4.8456, -3.9864, -4.0261, -4.1297, -4.2999, -4.3337, -4.4085, -4.4161, -4.5109, -4.5258, -4.5273, -4.5341, -4.5389, -4.5493, -4.6462, -4.6563, -4.7078, -4.7554, -4.7849, -4.8456, -4.8551, -4.8689, -4.8925, -4.9676, -5.0086, -5.0104, -5.0735, -5.0687, -5.0964, -5.1035, -5.118, -3.4536, -3.4849, -4.0242, -4.2366, -4.2962, -4.1542, -4.5407, -2.5823, -4.3076, -4.2428, -4.4143, -4.7703, -3.442, -3.4712, -3.5505, -3.5999, -3.7666, -3.8873, -3.9921, -4.0687, -4.2129, -4.2576, -4.301, -4.3097, -4.5654, -4.6241, -4.7158, -4.7988, -4.8192, -4.9368, -4.9599, -5.0849, -5.1118, -5.1584, -5.2181, -5.228, -5.2181, -5.2318, -5.2732, -5.2999, -5.3239, -5.3373, -5.0298, -3.829, -4.1781, -4.5986, -4.7301, -3.9287, -4.776, -4.2071, -4.577, -3.3603, -4.7042, -4.9776, -3.4564, -3.4929, -3.5598, -4.1275, -4.2985, -4.3526, -4.4061, -4.4067, -4.536, -4.5815, -4.6144, -4.6522, -4.6875, -4.7155, -4.7124, -4.7198, -4.7278, -4.8421, -4.7649, -4.9327, -4.9517, -5.014, -5.0516, -5.0833, -5.1365, -5.1542, -5.1643, -5.1735, -5.2351, -5.2395, -3.3241, -3.9356, -3.7783, -3.8951, -3.8795, -4.1324, -3.2669, -4.6597, -2.6119, -4.2441, -4.0953, -4.4775, -3.617, -4.0171, -4.1392, -4.2349, -4.3567, -4.4921, -4.5153, -4.5285, -4.5721, -4.6176, -4.6299, -4.7643, -4.7695, -4.8493, -4.9043, -4.918, -4.9309, -4.9519, -5.0584, -5.0853, -5.0863, -5.1604, -5.1926, -5.2104, -5.2217, -5.2224, -5.2256, -5.2635, -5.29, -5.3079, -2.4791, -3.5209, -3.616, -3.8532, -4.8554, -4.1518, -4.2111, -4.6741, -4.7587, -3.3113, -4.2526, -4.7622, -4.5877, -4.8572, -4.9131, -3.9732, -3.9739, -4.0883, -4.3375, -4.4502, -4.3152, -4.4502, -4.5506, -4.5633, -4.5835, -4.4345, -4.6457, -4.713, -4.7919, -4.7967, -4.8059, -4.8308, -4.8774, -4.8779, -4.8849, -4.903, -4.9258, -4.9313, -4.9377, -4.9549, -4.9769, -4.9786, -4.9816, -5.0343, -5.0453, -3.8565, -2.8973, -3.5995, -4.238, -4.7816, -3.7678, -4.1191, -4.3771, -4.5686, -2.8758, -4.8038, -4.7624, -4.8137, -1.9252, -3.3697, -3.8959, -3.9363, -4.0338, -4.2187, -4.2283, -4.256, -4.49, -4.3988, -4.5107, -4.5216, -4.5943, -4.6329, -4.6497, -4.655, -4.6733, -4.6786, -4.6816, -4.7424, -4.7701, -4.7849, -4.7893, -4.8035, -4.8605, -4.8815, -4.969, -5.0018, -5.0081, -5.0117, -4.3396, -3.788, -3.9926, -2.3215, -4.2009, -4.298, -3.9589, -4.5965, -3.7845, -3.7954, -4.1011, -4.1252, -4.1437, -4.1516, -4.1602, -4.2133, -4.2682, -4.3071, -4.3572, -4.4083, -4.4495, -4.571, -4.6589, -4.6809, -4.7074, -4.7139, -4.7296, -4.7675, -4.7683, -4.8068, -4.8071, -4.8172, -4.8566, -4.8633, -4.8649, -4.8278, -4.8893, -4.8976, -4.2297, -4.5156, -2.8387, -4.3074, -4.7732], \"loglift\": [30.0, 29.0, 28.0, 27.0, 26.0, 25.0, 24.0, 23.0, 22.0, 21.0, 20.0, 19.0, 18.0, 17.0, 16.0, 15.0, 14.0, 13.0, 12.0, 11.0, 10.0, 9.0, 8.0, 7.0, 6.0, 5.0, 4.0, 3.0, 2.0, 1.0, 1.8908, 1.8887, 1.8884, 1.8882, 1.8874, 1.8858, 1.8852, 1.8838, 1.8836, 1.8832, 1.8826, 1.8826, 1.8825, 1.8822, 1.8819, 1.8813, 1.8812, 1.881, 1.8808, 1.8808, 1.88, 1.8799, 1.8796, 1.8789, 1.8789, 1.8788, 1.8785, 1.8781, 1.8781, 1.8771, 1.8583, 1.8409, 1.7639, 1.4505, 1.6845, 1.6029, 0.5984, 1.644, 1.3602, 1.7696, 0.8971, 0.928, 1.6101, 1.0755, 1.2746, 0.5899, -0.1434, 0.5817, 0.9298, 0.9046, 2.0072, 2.0065, 2.0061, 2.0043, 2.0025, 2.001, 2.0007, 2.0001, 1.9988, 1.9987, 1.9986, 1.9985, 1.9963, 1.9957, 1.9955, 1.9952, 1.9952, 1.9947, 1.9946, 1.9925, 1.9913, 1.991, 1.991, 1.9904, 1.9889, 1.9885, 1.9881, 1.988, 1.9878, 1.9869, 1.9569, 1.9626, 1.8762, 1.9321, 1.665, 1.8656, 1.6332, 1.7378, 1.7284, 1.4897, 1.5384, 1.6987, 1.5249, 1.721, 1.5392, 0.1577, 1.2381, 1.0563, 0.6183, 0.3242, 1.1912, 0.7523, 0.7219, 1.128, 0.1355, 0.8979, 2.1238, 2.1231, 2.1231, 2.1217, 2.1199, 2.1195, 2.1194, 2.1193, 2.119, 2.1185, 2.1174, 2.1172, 2.1167, 2.1165, 2.116, 2.1157, 2.1153, 2.1146, 2.1145, 2.1139, 2.1132, 2.1132, 2.1129, 2.1128, 2.1119, 2.1116, 2.1113, 2.1108, 2.1106, 2.1103, 2.0365, 1.7095, 1.9957, 2.0129, 1.3817, 1.6702, 1.0633, 1.6613, -0.2032, 1.5238, 1.2018, 0.7473, 2.3396, 2.3393, 2.3387, 2.3375, 2.3372, 2.3365, 2.3365, 2.3356, 2.3355, 2.3354, 2.3354, 2.3353, 2.3352, 2.3342, 2.3341, 2.3335, 2.3329, 2.3325, 2.3317, 2.3316, 2.3314, 2.3311, 2.33, 2.3294, 2.3293, 2.3283, 2.328, 2.3279, 2.3278, 2.3275, 2.3137, 2.0183, 2.0866, 2.0198, 2.0349, 1.9577, 2.0779, -0.0204, 1.6119, 0.8159, 0.5321, 0.9809, 2.3672, 2.3671, 2.3668, 2.3666, 2.3659, 2.3653, 2.3647, 2.3642, 2.3632, 2.3629, 2.3625, 2.3625, 2.3601, 2.3594, 2.3584, 2.3573, 2.357, 2.3554, 2.355, 2.3529, 2.3525, 2.3516, 2.3504, 2.3502, 2.3502, 2.3502, 2.3493, 2.3487, 2.3482, 2.3479, 2.3406, 2.2457, 2.1142, 2.1597, 2.16, 1.7484, 2.0565, 1.5017, 1.4896, -0.7983, 1.6188, 2.0319, 2.3937, 2.3936, 2.3933, 2.3901, 2.389, 2.3884, 2.388, 2.388, 2.3868, 2.3863, 2.3859, 2.3855, 2.385, 2.3847, 2.3847, 2.3846, 2.3845, 2.383, 2.3828, 2.3817, 2.3814, 2.3804, 2.3797, 2.3792, 2.3782, 2.3778, 2.3776, 2.3775, 2.3762, 2.3761, 2.2853, 2.1977, 1.9941, 2.0193, 1.7298, 1.8098, 1.2626, 2.0721, -0.05, 1.5071, 1.1605, 1.5839, 2.3997, 2.3977, 2.3968, 2.3961, 2.3951, 2.3938, 2.3936, 2.3935, 2.393, 2.3925, 2.3923, 2.3907, 2.3906, 2.3895, 2.3887, 2.3885, 2.3883, 2.388, 2.3862, 2.3857, 2.3857, 2.3843, 2.3836, 2.3833, 2.383, 2.383, 2.383, 2.3822, 2.3816, 2.3812, 2.35, 2.3015, 1.7805, 1.8555, 2.2101, 1.8635, 1.7639, 1.8487, 1.9049, -0.7494, 0.6937, 1.6887, 1.0894, 1.4488, 0.6962, 2.4897, 2.4897, 2.4888, 2.4868, 2.4856, 2.4855, 2.4852, 2.4845, 2.4844, 2.4841, 2.4836, 2.4833, 2.4824, 2.4813, 2.4812, 2.4811, 2.4807, 2.48, 2.48, 2.4799, 2.4796, 2.4792, 2.4791, 2.479, 2.4787, 2.4783, 2.4783, 2.4782, 2.4773, 2.477, 2.3381, 2.0218, 1.9104, 2.1494, 2.3722, 1.762, 1.9475, 2.0133, 2.0135, -0.3139, 2.2854, 2.1044, 1.5555, 2.6019, 2.5988, 2.596, 2.5957, 2.595, 2.5934, 2.5933, 2.5931, 2.5905, 2.5904, 2.5903, 2.5901, 2.5891, 2.5886, 2.5884, 2.5883, 2.5881, 2.588, 2.5879, 2.587, 2.5866, 2.5863, 2.5863, 2.586, 2.585, 2.5847, 2.583, 2.5824, 2.5822, 2.5822, 2.5509, 2.2656, 2.2814, 0.2404, 1.8217, 1.8922, 1.1457, 2.2069, 2.6631, 2.663, 2.6607, 2.6604, 2.6603, 2.6602, 2.6601, 2.6596, 2.6591, 2.6586, 2.6581, 2.6575, 2.657, 2.6554, 2.6541, 2.6536, 2.6533, 2.6532, 2.6526, 2.6523, 2.6523, 2.6516, 2.6516, 2.6514, 2.6507, 2.6506, 2.6505, 2.6504, 2.6501, 2.6499, 2.3845, 2.3387, -0.2768, 1.5525, 2.2776]}, \"token.table\": {\"Topic\": [6, 1, 7, 7, 9, 6, 1, 5, 8, 7, 5, 1, 3, 8, 3, 4, 7, 10, 2, 7, 1, 4, 9, 3, 7, 2, 8, 9, 8, 9, 6, 3, 2, 3, 10, 1, 8, 5, 4, 5, 2, 3, 2, 10, 8, 10, 10, 10, 4, 9, 4, 6, 6, 7, 4, 7, 1, 5, 3, 5, 8, 2, 2, 10, 6, 6, 8, 10, 1, 2, 3, 4, 5, 6, 7, 8, 9, 10, 7, 5, 7, 5, 7, 4, 1, 4, 7, 1, 2, 3, 6, 7, 1, 5, 7, 1, 2, 8, 9, 1, 3, 1, 2, 3, 4, 6, 7, 9, 2, 4, 5, 7, 10, 2, 7, 6, 2, 7, 4, 3, 6, 5, 9, 10, 4, 9, 10, 5, 1, 9, 9, 4, 7, 8, 9, 5, 4, 1, 4, 1, 10, 1, 9, 2, 6, 1, 10, 9, 1, 5, 6, 4, 10, 9, 2, 5, 8, 2, 9, 9, 6, 8, 10, 5, 5, 10, 1, 8, 10, 2, 3, 5, 9, 3, 4, 3, 10, 8, 5, 4, 4, 8, 3, 4, 7, 9, 4, 4, 10, 1, 6, 6, 6, 9, 2, 3, 5, 2, 6, 6, 1, 2, 6, 2, 8, 10, 6, 5, 7, 6, 8, 8, 1, 2, 5, 1, 3, 6, 7, 1, 1, 4, 6, 6, 10, 7, 8, 3, 2, 2, 8, 10, 6, 6, 1, 3, 4, 5, 5, 7, 3, 2, 8, 9, 5, 2, 3, 6, 10, 3, 4, 1, 6, 1, 6, 10, 4, 2, 3, 6, 1, 6, 2, 7, 1, 8, 8, 1, 2, 3, 6, 7, 9, 5, 2, 1, 9, 2, 7, 4, 1, 6, 9, 8, 4, 5, 3, 1, 2, 5, 2, 4, 4, 1, 3, 6, 7, 7, 6, 2, 3, 7, 1, 2, 3, 7, 9, 1, 8, 5, 8, 1, 1, 2, 9, 1, 5, 5, 10, 5, 7, 4, 2, 3, 7, 8, 2, 2, 8, 3, 7, 9, 9, 2, 9, 1, 3, 7, 7, 2, 3, 9, 9, 4, 6, 4, 5, 7, 8, 10, 10, 10, 8, 9, 7, 7, 9, 9, 7, 3, 1, 3, 5, 8, 10, 2, 4, 2, 7, 3, 4, 7, 3, 1, 2, 1, 7, 7, 8, 3, 8, 3, 1, 4, 5, 5, 8, 7, 3, 5, 2, 5, 3, 8, 1, 2, 8, 9, 2, 7, 2, 8, 7, 7, 8, 9, 6, 5, 4, 2, 5, 6, 9, 10, 5, 9, 8, 2, 3, 4, 3, 5, 10, 1, 6, 1, 2, 1, 1, 2, 9, 1, 3, 3, 1, 10, 9, 3, 2, 8, 2, 10, 1, 2, 5, 7, 1, 2, 1, 10, 3, 1, 4, 5, 8, 4, 1, 10, 2, 10, 10, 3, 1, 7, 5, 5, 10, 6, 5, 10, 7, 1, 3, 6, 8, 2, 6, 8, 4, 7, 8, 8, 3, 6, 7, 6, 2, 4, 2, 3, 5, 5, 1, 2, 6, 3, 6, 8, 9, 4, 10, 4, 8, 5, 2, 1, 2, 8, 7, 2, 4, 6, 3, 6, 4, 9, 1, 2, 7, 4, 8, 4, 8, 6, 9, 3, 2, 5, 7, 7, 1, 5, 2, 6, 1, 2, 3, 2, 4, 5, 6, 2, 6, 1, 5, 10, 3, 8, 9, 3, 4, 5, 6, 7, 9, 2, 5], \"Freq\": [0.9868499333518793, 0.9929042742899998, 0.9871885798315071, 0.9693928796287199, 0.9863189545409886, 0.9863884223512202, 0.9916142277185221, 0.9919120157506625, 0.9780482770428347, 0.9915089820555847, 0.9938841986966942, 0.36912810650460126, 0.007955347122943992, 0.6221081450142202, 0.5495701900135296, 0.21876094942286128, 0.016006898738258144, 0.21342531651010857, 0.990974848649049, 0.9799377578643161, 0.7788603311430428, 0.21511380574426897, 0.9917955373941109, 0.9929803552530451, 0.9939753225158268, 0.9248510571343861, 0.05966781013770233, 0.9937850040034377, 0.9944957885609061, 0.9786226894892642, 0.978266696418586, 0.9924255185206918, 0.9771542733475798, 0.9829089904540969, 0.9802859242918043, 0.9877298523252145, 0.9863664955294528, 0.9735926062252308, 0.988040984342472, 0.9958384345648346, 0.9844702764440452, 0.9978777252804117, 0.8621300559093538, 0.12592910929013032, 0.9921614551602118, 0.9876687700705432, 0.9873584764303597, 0.9796786301234625, 0.9832858681895691, 0.9793567853514108, 0.7701356047555535, 0.22527776193529797, 0.9919192369279848, 0.9892415737690409, 0.9856761327844997, 0.9904054741439305, 0.9660346922436914, 0.03400122105205539, 0.005012353866667791, 0.4160253709334266, 0.5764206946667959, 0.9800204403936343, 0.7468375763277758, 0.24894585877592526, 0.9833245973242822, 0.9927695005162038, 0.9840650876486942, 0.9925816895969006, 0.27375817417636, 0.15684219004820626, 0.097329543488128, 0.09386425014412345, 0.04203551491205528, 0.08648166867211374, 0.04263817462405607, 0.06026597120007925, 0.09416558000012383, 0.05258205987206915, 0.9802295503876061, 0.9905952354061374, 0.9873922406549025, 0.05089553684629113, 0.9481111435366234, 0.9784391186746593, 0.8119062276133615, 0.17739127662140672, 0.0068227414085156425, 0.24931128128003732, 0.004986225625600746, 0.21440770190083208, 0.4437740806784664, 0.08476583563521269, 0.9870763387094011, 0.9973359736199633, 0.9724700036348295, 0.9875588720645396, 0.9844929794352548, 0.9820354231722704, 0.9924038639897902, 0.36270800475295123, 0.6324139570051457, 0.9871383808560332, 0.15370298142966815, 0.47582518719184497, 0.16351381003156185, 0.00981082860189371, 0.18150032913503364, 0.016351381003156185, 0.18343453397495313, 0.16305291908884723, 0.10598439740775069, 0.21604511779272256, 0.32610583817769445, 0.9802781746445943, 0.9874615770749622, 0.9673158086205665, 0.9878317521468944, 0.9960581289298095, 0.9884270954827566, 0.9864326608102564, 0.9833231566542565, 0.04570530280887965, 0.9483850332842526, 0.9854313098288722, 0.9875209754628014, 0.9933418789169621, 0.9944877875138464, 0.9927978018896276, 0.9852356487846249, 0.9801351997409407, 0.9835740054709469, 0.969837593411744, 0.029726822786566867, 0.9862341279662981, 0.9818901535645104, 0.9959047095664478, 0.9875632071729314, 0.9940805543935812, 0.9847675278786375, 0.7561635577867218, 0.23835590408494495, 0.2820007357730425, 0.7124229114266337, 0.44261419231154175, 0.5576938823125426, 0.9857555445618945, 0.9878807175697132, 0.9809622530159865, 0.9978771083149024, 0.9874991814676772, 0.9811088839166096, 0.9906036664948391, 0.9927457633871849, 0.9865179665991541, 0.9887248017425561, 0.8108461847449199, 0.18018804105442665, 0.9870624738254561, 0.9834170065761366, 0.9918118288334787, 0.08815261040423122, 0.18732429710899134, 0.7162399595343787, 0.9882035194580828, 0.9900557469868139, 0.9738940899496081, 0.9907497412792209, 0.9922954207118221, 0.9836920177861985, 0.7610160429025323, 0.23253267977577377, 0.9808821804855812, 0.9866728809439874, 0.9948889637488958, 0.9949779297888726, 0.9863796614317829, 0.9697593930397289, 0.9800275146933677, 0.9902319106998675, 0.98905532087654, 0.7313973570506469, 0.26121334180380246, 0.18403434556376597, 0.27237083143437363, 0.4858506722883421, 0.05152961675785447, 0.9878988197673438, 0.9812442986442959, 0.9881955496263395, 0.9927543099530753, 0.996301819537219, 0.9937739686019491, 0.7214242375946419, 0.2729713331439186, 0.9937862083613634, 0.11116823801966573, 0.8842928024291593, 0.9510157938911985, 0.03611452381865311, 0.9874195363373516, 0.26832276828415635, 0.593562487416467, 0.1355165496384628, 0.986919453848493, 0.9917852101702298, 0.9878591506146218, 0.9730703048355478, 0.4205700540991774, 0.5782838243863689, 0.9775149363009871, 0.9913391828967963, 0.9833442218837839, 0.9845274925551295, 0.7554233171473138, 0.24095398909009147, 0.35220966875266585, 0.06403812159139378, 0.05031566696466655, 0.5260274273578776, 0.9970206687266007, 0.37211113502936893, 0.4802829766076739, 0.1427868308833625, 0.9905619970065404, 0.9838060094719637, 0.9895182926672771, 0.9747687555311112, 0.9868754057451758, 0.9827813230084339, 0.9979265029845831, 0.8083411042360726, 0.18117990267360248, 0.9970233763078735, 0.984154280101196, 0.6421766242032744, 0.10977378191508963, 0.21588843776634292, 0.029273008510690566, 0.3824364424765724, 0.6100771820459607, 0.9932672243265129, 0.22865491553708084, 0.6166753782666726, 0.1524366103580539, 0.9772624859501668, 0.9816046451947898, 0.1646794443592158, 0.07800605259120749, 0.7540585083816724, 0.9858581688195727, 0.994045165700584, 0.9821692785861694, 0.9810928833949628, 0.30994637343458087, 0.6844649080013662, 0.9817870556208026, 0.9963424735449657, 0.3748539645351734, 0.3991951310634314, 0.22393873205997372, 0.9918498670977833, 0.9765480780294488, 0.7315614866049841, 0.2602670673498501, 0.9506462432288776, 0.04272567385298326, 0.9892576779377205, 0.13040783632054948, 0.18537312270359102, 0.3459579789991437, 0.3211697125911053, 0.015088509987501594, 0.002155501426785942, 0.9905566794485094, 0.9932831304796218, 0.5372344412447679, 0.4556899278415442, 0.41430246704188406, 0.5809758733231017, 0.9830968663805973, 0.10154454169607953, 0.8948612736967009, 0.9899891671655606, 0.9865705547673586, 0.18272948681722798, 0.8108620977514491, 0.991008885723212, 0.8832737890551392, 0.10323979352592537, 0.997697017237188, 0.3146765761281627, 0.6765546386755498, 0.9892338244520977, 0.08249277208985688, 0.22209592485730698, 0.513993426098339, 0.18084953881237853, 0.9939384705561384, 0.9945956377982742, 0.44577545088930504, 0.16557373890174187, 0.3820932436194043, 0.05075744878380801, 0.2485000096707267, 0.6587893873398414, 0.0031723405489880005, 0.03701063973819334, 0.4423674994126166, 0.5572681486106988, 0.9765226790207382, 0.9883767257504144, 0.9914102846797985, 0.38117059471436904, 0.3850014549627547, 0.23368247515152274, 0.8790933703448728, 0.11860783568145108, 0.9943028587740158, 0.9938284791919408, 0.41924126912344156, 0.5774455216228535, 0.989397418243891, 0.6259608537775794, 0.05552878541575301, 0.1918267132544195, 0.1211537136343702, 0.9835020312966936, 0.99533196115352, 0.985148529552961, 0.9898894234685838, 0.9945936325094891, 0.9741228441221564, 0.9891940191252641, 0.9951257140282429, 0.9987365260753609, 0.5868191238469843, 0.25283164378513684, 0.15919029423508615, 0.982398122960982, 0.9844501750453694, 0.9880991778844301, 0.9830538447322581, 0.9930217647733472, 0.9830252159911715, 0.9915081607183089, 0.9845300773112114, 0.09423802904435215, 0.9031144450083748, 0.8771545607764071, 0.10406918517686185, 0.9905029729732742, 0.9938405032864805, 0.9919528552314484, 0.9695932236698565, 0.9839848419203747, 0.8302030799987015, 0.16331863868826915, 0.9752374380936842, 0.9809773403342813, 0.9860610769949852, 0.9803854194684554, 0.9953072702182139, 0.7331489369876233, 0.2587584483485729, 0.9900064202090083, 0.8736765596036893, 0.12205775465051541, 0.461636044074883, 0.5360107400647253, 0.9914919210559425, 0.9953568496295432, 0.9823231608402252, 0.9941254137580885, 0.37982336826731755, 0.6161579085225374, 0.9846432415679391, 0.984802131801679, 0.996698060203565, 0.9846969867382701, 0.9861450001841078, 0.9846072422387782, 0.9967778744712322, 0.22634138314400956, 0.76607852756434, 0.9915902123366234, 0.9785337353645739, 0.018462900667256112, 0.9753194234123836, 0.9912481699698346, 0.9834800119116816, 0.2198448038678845, 0.7725974535928511, 0.9803155070956621, 0.986234326244287, 0.19926602114138456, 0.2842471183928574, 0.48058275687039803, 0.03516459196612669, 0.9937089265672474, 0.9809010949231801, 0.9811618425954242, 0.9904799001420365, 0.9910270918280331, 0.37771805312711154, 0.6211363540312501, 0.9847971114155393, 0.9857313055292267, 0.9864512003576151, 0.9742100324444486, 0.9821533606024723, 0.9740037363907527, 0.9911557513447146, 0.9970115753447464, 0.9837962096308183, 0.3141782545102614, 0.6702469429552244, 0.9893944151648449, 0.9788789503921013, 0.8890858010375478, 0.0987873112263942, 0.8785893173982853, 0.1182716388805384, 0.9761748410961436, 0.9872007177225812, 0.01103017561701208, 0.7454152310060066, 0.2466035350696563, 0.9894847624758301, 0.42539581927055775, 0.07940721959717077, 0.49345915035384696, 0.9943913651813022, 0.9895073610564501, 0.9951124689072062, 0.9861274858942607, 0.9901245743469306, 0.9836247639749297, 0.9856264254283851, 0.9489190389216301, 0.04645058232483504, 0.9938823266741552, 0.9752673596765474, 0.09497948388948828, 0.624150894130923, 0.13568497698498325, 0.1424692258342324, 0.9766682990183668, 0.9671343428682833, 0.979026190267656, 0.9954264708560133, 0.9959780738040991, 0.9818710422027337, 0.9891981638969685, 0.9753701072282792, 0.9922123923134535, 0.9847588614987608, 0.30845196025783045, 0.6705477396909357, 0.9851661508726179, 0.9870008601910178, 0.9776556753906, 0.9828702229336526, 0.9937294398994627, 0.9742757269499269, 0.990330412822729, 0.978123719404597, 0.9893027270651608, 0.9898662697251929, 0.9924930697727474, 0.9911009538707277, 0.9731269649634657, 0.2103047866382129, 0.12211245675767199, 0.2713610150170489, 0.39347347177472086, 0.7084943284559816, 0.2896360462241434, 0.9930873170939747, 0.0569715755037351, 0.08545736325560264, 0.8545736325560265, 0.9914731976231508, 0.9952005857602555, 0.9885985414995309, 0.9906486960157699, 0.986699801561571, 0.27271385627016737, 0.7211766421366648, 0.9771361348184198, 0.9150291811849389, 0.0818710320007577, 0.9734312846995724, 0.9939920000185322, 0.9682195648929075, 0.9863106482876473, 0.10042689213480935, 0.2120123278401531, 0.6806711578025967, 0.983609050564573, 0.988601531225805, 0.9905595311741238, 0.9934734074794145, 0.9907994134879488, 0.9973893933635538, 0.974740828490611, 0.9893127166258426, 0.2901481148494983, 0.704645421777353, 0.9848689286926432, 0.2767674435047201, 0.7218779712030329, 0.9978641744988896, 0.9861221441307632, 0.9900763974381595, 0.9906724806058442, 0.9871205763517712, 0.2723337718052979, 0.6865080497591884, 0.04160654847025385, 0.9934744099226038, 0.9902548938546136, 0.9752841335874602, 0.993890168032569, 0.27138825195813543, 0.7278139484331814, 0.9818176086545665, 0.19355794568123064, 0.5365290424146393, 0.26826452120731964, 0.9649203468247162, 0.9929201852866406, 0.99608814328642, 0.32868026203890527, 0.668565533010955, 0.21023093720152716, 0.1576732029011454, 0.6306928116045816, 0.9726507487003445, 0.9810567390461433, 0.9885134623181449, 0.9862847761463821, 0.1768222611398614, 0.8198123016484484, 0.37570109697177306, 0.4728651737748178, 0.14898491776466863, 0.9902098928113078, 0.9886292009636112, 0.9752127422640117, 0.21573614971695126, 0.25595814373197606, 0.11700943713461763, 0.4095330299711617, 0.9889920172739637, 0.9951408562351846, 0.2831098503758494, 0.7077746259396236], \"Term\": [\"access\", \"action\", \"ad\", \"add\", \"adultus\", \"age\", \"alcohol\", \"allow\", \"alreadi\", \"alway\", \"american\", \"amp\", \"amp\", \"amp\", \"announc\", \"announc\", \"announc\", \"announc\", \"anoth\", \"anyon\", \"applic\", \"applic\", \"appoint\", \"approv\", \"arrest\", \"art\", \"art\", \"articl\", \"ask\", \"author\", \"away\", \"bag\", \"ban\", \"bank\", \"bear\", \"becom\", \"believ\", \"belli\", \"benefit\", \"best\", \"better\", \"biden\", \"big\", \"big\", \"billion\", \"board\", \"bolster\", \"bonta\", \"boost\", \"boss\", \"brand\", \"brand\", \"break\", \"bring\", \"bud\", \"build\", \"busi\", \"busi\", \"buy\", \"buy\", \"buy\", \"ca\", \"california\", \"california\", \"campaign\", \"canada\", \"candi\", \"candid\", \"cannabi\", \"cannabi\", \"cannabi\", \"cannabi\", \"cannabi\", \"cannabi\", \"cannabi\", \"cannabi\", \"cannabi\", \"cannabi\", \"cannabidiol\", \"cannabinoid\", \"cash\", \"cbd\", \"cbd\", \"celebr\", \"chang\", \"chang\", \"chang\", \"check\", \"check\", \"check\", \"check\", \"check\", \"children\", \"citi\", \"claim\", \"class\", \"color\", \"colorado\", \"combat\", \"come\", \"come\", \"commiss\", \"commun\", \"commun\", \"commun\", \"commun\", \"commun\", \"commun\", \"compani\", \"compani\", \"compani\", \"compani\", \"compani\", \"complianc\", \"confer\", \"connect\", \"consid\", \"consum\", \"consumpt\", \"convict\", \"cooki\", \"council\", \"council\", \"counti\", \"countri\", \"crimin\", \"cultiv\", \"cultur\", \"current\", \"dasheeda\", \"dawson\", \"day\", \"day\", \"deal\", \"decrimin\", \"delta\", \"design\", \"director\", \"discord\", \"discuss\", \"discuss\", \"dispensari\", \"dispensari\", \"dont\", \"dont\", \"drive\", \"driver\", \"drop\", \"drug\", \"easi\", \"econom\", \"economi\", \"effort\", \"elect\", \"enforc\", \"enjoy\", \"enjoy\", \"environ\", \"episod\", \"equiti\", \"event\", \"event\", \"event\", \"everyon\", \"everyth\", \"excit\", \"execut\", \"experi\", \"famili\", \"farm\", \"farm\", \"favorit\", \"featur\", \"feder\", \"feel\", \"feminis\", \"fight\", \"fine\", \"flavor\", \"flower\", \"follow\", \"follow\", \"free\", \"free\", \"free\", \"free\", \"friend\", \"fuck\", \"gener\", \"global\", \"good\", \"got\", \"govern\", \"govern\", \"governor\", \"great\", \"great\", \"green\", \"green\", \"group\", \"grow\", \"grow\", \"grow\", \"grower\", \"growth\", \"gt\", \"guid\", \"gummi\", \"gummi\", \"guy\", \"halloween\", \"hand\", \"harm\", \"health\", \"health\", \"help\", \"help\", \"help\", \"help\", \"hemp\", \"high\", \"high\", \"high\", \"hit\", \"hold\", \"home\", \"hope\", \"hour\", \"hous\", \"illeg\", \"illicit\", \"illicit\", \"im\", \"import\", \"industri\", \"industri\", \"industri\", \"industri\", \"infus\", \"infus\", \"invest\", \"issu\", \"issu\", \"issu\", \"ive\", \"jail\", \"job\", \"job\", \"job\", \"joe\", \"join\", \"journal\", \"kid\", \"know\", \"know\", \"largest\", \"launch\", \"law\", \"law\", \"law\", \"lead\", \"leafli\", \"learn\", \"learn\", \"led\", \"led\", \"left\", \"legal\", \"legal\", \"legal\", \"legal\", \"legal\", \"legal\", \"legalis\", \"let\", \"licens\", \"licens\", \"life\", \"life\", \"light\", \"like\", \"like\", \"link\", \"list\", \"littl\", \"littl\", \"live\", \"long\", \"long\", \"look\", \"love\", \"love\", \"major\", \"make\", \"make\", \"make\", \"make\", \"man\", \"manag\", \"mani\", \"mani\", \"mani\", \"marijuana\", \"marijuana\", \"marijuana\", \"marijuana\", \"marijuana\", \"market\", \"market\", \"matter\", \"mayor\", \"mean\", \"medic\", \"medic\", \"medic\", \"medicin\", \"medicin\", \"meet\", \"member\", \"mg\", \"mg\", \"michigan\", \"million\", \"million\", \"million\", \"million\", \"mind\", \"month\", \"morn\", \"nation\", \"natur\", \"ndlea\", \"nearli\", \"need\", \"new\", \"news\", \"news\", \"news\", \"nft\", \"night\", \"novemb\", \"ny\", \"nyc\", \"oct\", \"octob\", \"offici\", \"oil\", \"oil\", \"onlin\", \"onlin\", \"open\", \"oper\", \"order\", \"ordin\", \"oregon\", \"organ\", \"organ\", \"origin\", \"oz\", \"pack\", \"packag\", \"pardon\", \"parti\", \"parti\", \"partner\", \"patient\", \"patient\", \"peopl\", \"peopl\", \"person\", \"photo\", \"place\", \"plan\", \"plant\", \"plant\", \"pleas\", \"podcast\", \"polic\", \"polit\", \"poll\", \"posit\", \"possess\", \"post\", \"post\", \"pot\", \"power\", \"power\", \"premium\", \"presid\", \"prevent\", \"price\", \"price\", \"prison\", \"produc\", \"product\", \"product\", \"product\", \"product\", \"program\", \"progress\", \"prohibit\", \"project\", \"protect\", \"provid\", \"provid\", \"psychedel\", \"public\", \"punch\", \"push\", \"qualiti\", \"quarter\", \"question\", \"read\", \"readi\", \"real\", \"real\", \"realli\", \"receiv\", \"recent\", \"recent\", \"recreat\", \"recreat\", \"regist\", \"regul\", \"regul\", \"report\", \"report\", \"reschedul\", \"research\", \"research\", \"research\", \"retail\", \"review\", \"right\", \"risk\", \"rob\", \"rule\", \"safe\", \"said\", \"said\", \"sale\", \"san\", \"say\", \"say\", \"say\", \"say\", \"schedul\", \"school\", \"scienc\", \"search\", \"seed\", \"servic\", \"set\", \"sever\", \"share\", \"shit\", \"shop\", \"shop\", \"shut\", \"sign\", \"sleep\", \"smell\", \"smoke\", \"smokerscommun\", \"someon\", \"someth\", \"soon\", \"south\", \"space\", \"speak\", \"spectrum\", \"start\", \"start\", \"start\", \"start\", \"state\", \"state\", \"stay\", \"stock\", \"stock\", \"stock\", \"store\", \"stori\", \"strain\", \"street\", \"student\", \"studi\", \"studi\", \"substanc\", \"support\", \"support\", \"sweet\", \"talk\", \"task\", \"tax\", \"team\", \"team\", \"team\", \"tech\", \"tell\", \"test\", \"th\", \"thank\", \"thc\", \"therapeut\", \"thing\", \"think\", \"think\", \"thought\", \"time\", \"time\", \"today\", \"treat\", \"uk\", \"unit\", \"updat\", \"use\", \"use\", \"use\", \"vape\", \"video\", \"view\", \"visit\", \"vote\", \"vote\", \"voter\", \"want\", \"want\", \"want\", \"warn\", \"watch\", \"way\", \"weed\", \"weed\", \"week\", \"week\", \"week\", \"white\", \"win\", \"women\", \"wont\", \"work\", \"work\", \"world\", \"world\", \"world\", \"worth\", \"yall\", \"ye\", \"year\", \"year\", \"year\", \"year\", \"yearold\", \"york\", \"youtub\", \"youtub\"]}, \"R\": 30, \"lambda.step\": 0.01, \"plot.opts\": {\"xlab\": \"PC1\", \"ylab\": \"PC2\"}, \"topic.order\": [9, 10, 6, 2, 1, 4, 3, 5, 8, 7]};\n",
       "\n",
       "function LDAvis_load_lib(url, callback){\n",
       "  var s = document.createElement('script');\n",
       "  s.src = url;\n",
       "  s.async = true;\n",
       "  s.onreadystatechange = s.onload = callback;\n",
       "  s.onerror = function(){console.warn(\"failed to load library \" + url);};\n",
       "  document.getElementsByTagName(\"head\")[0].appendChild(s);\n",
       "}\n",
       "\n",
       "if(typeof(LDAvis) !== \"undefined\"){\n",
       "   // already loaded: just create the visualization\n",
       "   !function(LDAvis){\n",
       "       new LDAvis(\"#\" + \"ldavis_el1508140652681765936350025440\", ldavis_el1508140652681765936350025440_data);\n",
       "   }(LDAvis);\n",
       "}else if(typeof define === \"function\" && define.amd){\n",
       "   // require.js is available: use it to load d3/LDAvis\n",
       "   require.config({paths: {d3: \"https://d3js.org/d3.v5\"}});\n",
       "   require([\"d3\"], function(d3){\n",
       "      window.d3 = d3;\n",
       "      LDAvis_load_lib(\"https://cdn.jsdelivr.net/gh/bmabey/pyLDAvis@3.3.1/pyLDAvis/js/ldavis.v3.0.0.js\", function(){\n",
       "        new LDAvis(\"#\" + \"ldavis_el1508140652681765936350025440\", ldavis_el1508140652681765936350025440_data);\n",
       "      });\n",
       "    });\n",
       "}else{\n",
       "    // require.js not available: dynamically load d3 & LDAvis\n",
       "    LDAvis_load_lib(\"https://d3js.org/d3.v5.js\", function(){\n",
       "         LDAvis_load_lib(\"https://cdn.jsdelivr.net/gh/bmabey/pyLDAvis@3.3.1/pyLDAvis/js/ldavis.v3.0.0.js\", function(){\n",
       "                 new LDAvis(\"#\" + \"ldavis_el1508140652681765936350025440\", ldavis_el1508140652681765936350025440_data);\n",
       "            })\n",
       "         });\n",
       "}\n",
       "</script>"
      ],
      "text/plain": [
       "<IPython.core.display.HTML object>"
      ]
     },
     "execution_count": 105,
     "metadata": {},
     "output_type": "execute_result"
    }
   ],
   "source": [
    "\n",
    "panel = pyLDAvis.sklearn.prepare(ldaModel, tf, tfVectorizer, mds='tsne')\n",
    "pyLDAvis.display(panel)"
   ]
  },
  {
   "cell_type": "code",
   "execution_count": 106,
   "metadata": {},
   "outputs": [],
   "source": [
    "def displayWordcloud(model, featureNames):\n",
    "    \"\"\"\n",
    "    Displays the word cloud of the topic distributions, stored in model.\n",
    "\n",
    "    @param model: lda model.\n",
    "    @param featureNames: list of strings, representing the list of features/words.\n",
    "    \"\"\"\n",
    "\n",
    "    # this normalises each row/topic to sum to one\n",
    "    # use this normalisedComponents to display your wordclouds\n",
    "    normalisedComponents = model.components_ / model.components_.sum(axis=1)[:, np.newaxis]\n",
    "\n",
    "    \n",
    "    topicNum = len(model.components_)\n",
    "    # number of wordclouds for each row\n",
    "    plotColNum = 3\n",
    "    # number of wordclouds for each column\n",
    "    plotRowNum = int(math.ceil(topicNum / plotColNum))\n",
    "\n",
    "    for topicId, lTopicDist in enumerate(normalisedComponents):\n",
    "        lWordProb = {featureNames[i] : wordProb for i,wordProb in enumerate(lTopicDist)}\n",
    "        wordcloud = WordCloud(background_color='black')\n",
    "        wordcloud.fit_words(frequencies=lWordProb)\n",
    "        plt.subplot(plotRowNum, plotColNum, topicId+1)\n",
    "        plt.title('Topic %d:' % (topicId+1))\n",
    "        plt.imshow(wordcloud, interpolation='bilinear')\n",
    "        plt.axis(\"off\")\n",
    "\n",
    "    plt.show(block=True)"
   ]
  },
  {
   "cell_type": "code",
   "execution_count": 108,
   "metadata": {},
   "outputs": [
    {
     "data": {
      "image/png": "[encoded data removed]",
      "text/plain": [
       "<Figure size 432x288 with 10 Axes>"
      ]
     },
     "metadata": {
      "needs_background": "light"
     },
     "output_type": "display_data"
    }
   ],
   "source": [
    "\n",
    "displayWordcloud(ldaModel, tfFeatureNames)\n"
   ]
  },
  {
   "cell_type": "code",
   "execution_count": null,
   "metadata": {},
   "outputs": [],
   "source": []
  }
 ],
 "metadata": {
  "kernelspec": {
   "display_name": "Python 3 (ipykernel)",
   "language": "python",
   "name": "python3"
  },
  "language_info": {
   "codemirror_mode": {
    "name": "ipython",
    "version": 3
   },
   "file_extension": ".py",
   "mimetype": "text/x-python",
   "name": "python",
   "nbconvert_exporter": "python",
   "pygments_lexer": "ipython3",
   "version": "3.9.12"
  }
 },
 "nbformat": 4,
 "nbformat_minor": 4
}
