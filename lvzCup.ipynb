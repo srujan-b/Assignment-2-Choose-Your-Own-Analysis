{
  "nbformat": 4,
  "nbformat_minor": 0,
  "metadata": {
    "colab": {
      "provenance": [],
      "gpuType": "T4",
      "authorship_tag": "ABX9TyN7xEHxnbkZSIyibgOVehXh",
      "include_colab_link": true
    },
    "kernelspec": {
      "name": "python3",
      "display_name": "Python 3"
    },
    "language_info": {
      "name": "python"
    },
    "accelerator": "GPU",
    "gpuClass": "standard"
  },
  "cells": [
    {
      "cell_type": "markdown",
      "metadata": {
        "id": "view-in-github",
        "colab_type": "text"
      },
      "source": [
        "<a href=\"https://colab.research.google.com/github/srujan-b/Assignment-2-Choose-Your-Own-Analysis/blob/main/lvzCup.ipynb\" target=\"_parent\"><img src=\"https://colab.research.google.com/assets/colab-badge.svg\" alt=\"Open In Colab\"/></a>"
      ]
    },
    {
      "cell_type": "code",
      "execution_count": 3,
      "metadata": {
        "colab": {
          "base_uri": "https://localhost:8080/"
        },
        "id": "txh_1FgZUEOp",
        "outputId": "fb22c937-a46f-4ce2-f2a9-385450de33cf"
      },
      "outputs": [
        {
          "output_type": "stream",
          "name": "stdout",
          "text": [
            "Looking in indexes: https://pypi.org/simple, https://us-python.pkg.dev/colab-wheels/public/simple/\n",
            "Collecting clingo\n",
            "  Downloading clingo-5.6.2-cp310-cp310-manylinux_2_17_x86_64.manylinux2014_x86_64.whl (2.2 MB)\n",
            "\u001b[2K     \u001b[90m━━━━━━━━━━━━━━━━━━━━━━━━━━━━━━━━━━━━━━━━\u001b[0m \u001b[32m2.2/2.2 MB\u001b[0m \u001b[31m4.1 MB/s\u001b[0m eta \u001b[36m0:00:00\u001b[0m\n",
            "\u001b[?25hRequirement already satisfied: cffi in /usr/local/lib/python3.10/dist-packages (from clingo) (1.15.1)\n",
            "Requirement already satisfied: pycparser in /usr/local/lib/python3.10/dist-packages (from cffi->clingo) (2.21)\n",
            "Installing collected packages: clingo\n",
            "Successfully installed clingo-5.6.2\n"
          ]
        }
      ],
      "source": [
        "!pip install clingo"
      ]
    },
    {
      "cell_type": "code",
      "source": [
        "!apt-get install -y gringo"
      ],
      "metadata": {
        "colab": {
          "base_uri": "https://localhost:8080/"
        },
        "id": "GTlvCM6nW97H",
        "outputId": "defbc52a-54b2-4be1-946a-4018f32be11f"
      },
      "execution_count": null,
      "outputs": [
        {
          "output_type": "stream",
          "name": "stdout",
          "text": [
            "Reading package lists... Done\n",
            "Building dependency tree       \n",
            "Reading state information... Done\n",
            "The following additional packages will be installed:\n",
            "  clasp liblua5.3-0\n",
            "The following NEW packages will be installed:\n",
            "  clasp gringo liblua5.3-0\n",
            "0 upgraded, 3 newly installed, 0 to remove and 24 not upgraded.\n",
            "Need to get 2,961 kB of archives.\n",
            "After this operation, 9,525 kB of additional disk space will be used.\n",
            "Get:1 http://archive.ubuntu.com/ubuntu focal/main amd64 liblua5.3-0 amd64 5.3.3-1.1ubuntu2 [116 kB]\n",
            "Get:2 http://archive.ubuntu.com/ubuntu focal/universe amd64 gringo amd64 5.4.0-0ubuntu1 [2,235 kB]\n",
            "Get:3 http://archive.ubuntu.com/ubuntu focal/universe amd64 clasp amd64 3.3.4-2build1 [610 kB]\n",
            "Fetched 2,961 kB in 2s (1,222 kB/s)\n",
            "Selecting previously unselected package liblua5.3-0:amd64.\n",
            "(Reading database ... 122520 files and directories currently installed.)\n",
            "Preparing to unpack .../liblua5.3-0_5.3.3-1.1ubuntu2_amd64.deb ...\n",
            "Unpacking liblua5.3-0:amd64 (5.3.3-1.1ubuntu2) ...\n",
            "Selecting previously unselected package gringo.\n",
            "Preparing to unpack .../gringo_5.4.0-0ubuntu1_amd64.deb ...\n",
            "Unpacking gringo (5.4.0-0ubuntu1) ...\n",
            "Selecting previously unselected package clasp.\n",
            "Preparing to unpack .../clasp_3.3.4-2build1_amd64.deb ...\n",
            "Unpacking clasp (3.3.4-2build1) ...\n",
            "Setting up clasp (3.3.4-2build1) ...\n",
            "Setting up liblua5.3-0:amd64 (5.3.3-1.1ubuntu2) ...\n",
            "Setting up gringo (5.4.0-0ubuntu1) ...\n",
            "Processing triggers for libc-bin (2.31-0ubuntu9.9) ...\n",
            "Processing triggers for man-db (2.9.1-1) ...\n"
          ]
        }
      ]
    },
    {
      "cell_type": "code",
      "source": [
        "%%writefile program.lp\n",
        "\n",
        "\n",
        "team(1..15).\n",
        "slots(1..273).\n",
        "\n",
        "{match(H, A, S) : team(H), team(A), H <> A} :- slots(S).\n",
        ":-match(H,A,S),availability(H,S,0).\n",
        ":-match(H,A,S),availability(H,S,2).\n",
        ":-match(H,A,S),availability(A,S,2).\n",
        ":-match(_, _, S1), match(_, _, S).\n",
        "\n",
        "\n",
        "\n",
        "#show  match/3.\n"
      ],
      "metadata": {
        "colab": {
          "base_uri": "https://localhost:8080/"
        },
        "id": "dW6NyHS0UGjh",
        "outputId": "8e9b6e7c-fb7d-44c6-f863-2680834b5cf0"
      },
      "execution_count": null,
      "outputs": [
        {
          "output_type": "stream",
          "name": "stdout",
          "text": [
            "Overwriting program.lp\n"
          ]
        }
      ]
    },
    {
      "cell_type": "code",
      "source": [
        "! clingo program.lp instance.lp 0"
      ],
      "metadata": {
        "colab": {
          "base_uri": "https://localhost:8080/"
        },
        "id": "jReAd-07U32M",
        "outputId": "e987ab3e-21a7-4e06-ce7c-5bacf3ec8c3f"
      },
      "execution_count": null,
      "outputs": [
        {
          "output_type": "stream",
          "name": "stdout",
          "text": [
            "clingo version 5.4.0\n",
            "Reading from program.lp ...\n",
            "Solving...\n",
            "UNSATISFIABLE\n",
            "\n",
            "Models       : 0\n",
            "Calls        : 1\n",
            "Time         : 0.186s (Solving: 0.00s 1st Model: 0.00s Unsat: 0.00s)\n",
            "CPU Time     : 0.167s\n"
          ]
        }
      ]
    },
    {
      "cell_type": "code",
      "source": [],
      "metadata": {
        "id": "I1B3vuvtYtOi"
      },
      "execution_count": null,
      "outputs": []
    }
  ]
}